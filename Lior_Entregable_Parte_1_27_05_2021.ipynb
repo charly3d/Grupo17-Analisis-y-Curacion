{
  "nbformat": 4,
  "nbformat_minor": 0,
  "metadata": {
    "colab": {
      "name": "Alfred - Entregable_Parte_1-27-05-2021.ipynb",
      "provenance": [],
      "collapsed_sections": []
    },
    "kernelspec": {
      "display_name": "Python 3",
      "language": "python",
      "name": "python3"
    },
    "language_info": {
      "codemirror_mode": {
        "name": "ipython",
        "version": 3
      },
      "file_extension": ".py",
      "mimetype": "text/x-python",
      "name": "python",
      "nbconvert_exporter": "python",
      "pygments_lexer": "ipython3",
      "version": "3.8.5"
    }
  },
  "cells": [
    {
      "cell_type": "markdown",
      "metadata": {
        "id": "view-in-github"
      },
      "source": [
        "<a href=\"https://colab.research.google.com/github/DiploDatos/AnalisisYCuracion/blob/master/Entregable_Parte_1.ipynb\" target=\"_parent\"><img src=\"https://colab.research.google.com/assets/colab-badge.svg\" alt=\"Open In Colab\"/></a>"
      ]
    },
    {
      "cell_type": "markdown",
      "metadata": {
        "id": "zO4bRoxr2Apy"
      },
      "source": [
        "**Diplomatura en Ciencia de Datos, Aprendizaje Automático y sus Aplicaciones**\n",
        "\n",
        "**Exploración y Curación de Datos**\n",
        "\n",
        "*Edición 2021*\n",
        "\n",
        "----\n",
        "\n",
        "# Trabajo práctico entregable - parte 1\n",
        "\n",
        "En esta notebook, vamos a cargar el conjunto de datos de [la compentencia Kaggle](https://www.kaggle.com/dansbecker/melbourne-housing-snapshot) sobre estimación de precios de ventas de propiedades en Melbourne, Australia.\n",
        "\n",
        "Utilizaremos el conjunto de datos reducido producido por [DanB](https://www.kaggle.com/dansbecker). Hemos subido una copia a un servidor de la Universidad Nacional de Córdoba para facilitar su acceso remoto."
      ]
    },
    {
      "cell_type": "code",
      "metadata": {
        "id": "4udjxjk1EtVU"
      },
      "source": [
        "import matplotlib.pyplot as plt\n",
        "import numpy as np\n",
        "import pandas as pd\n",
        "import missingno as msn\n",
        "from scipy import stats\n",
        "\n",
        "import seaborn as sns\n",
        "sns.set_context('talk')\n",
        "pd.set_option('display.float_format', lambda x: '%.2f' % x)\n",
        "\n",
        "import plotly\n",
        "# plotly.__version__\n",
        "# !pip install ipdb"
      ],
      "execution_count": 1,
      "outputs": []
    },
    {
      "cell_type": "code",
      "metadata": {
        "colab": {
          "base_uri": "https://localhost:8080/",
          "height": 670
        },
        "id": "_qeFN3GnEvMk",
        "outputId": "dcac654c-d0bb-4bf2-80a9-d83490c6b776"
      },
      "source": [
        "melb_df = pd.read_csv(\n",
        "    'https://cs.famaf.unc.edu.ar/~mteruel/datasets/diplodatos/melb_data.csv')\n",
        "melb_df"
      ],
      "execution_count": 2,
      "outputs": [
        {
          "output_type": "execute_result",
          "data": {
            "text/html": [
              "<div>\n",
              "<style scoped>\n",
              "    .dataframe tbody tr th:only-of-type {\n",
              "        vertical-align: middle;\n",
              "    }\n",
              "\n",
              "    .dataframe tbody tr th {\n",
              "        vertical-align: top;\n",
              "    }\n",
              "\n",
              "    .dataframe thead th {\n",
              "        text-align: right;\n",
              "    }\n",
              "</style>\n",
              "<table border=\"1\" class=\"dataframe\">\n",
              "  <thead>\n",
              "    <tr style=\"text-align: right;\">\n",
              "      <th></th>\n",
              "      <th>Suburb</th>\n",
              "      <th>Address</th>\n",
              "      <th>Rooms</th>\n",
              "      <th>Type</th>\n",
              "      <th>Price</th>\n",
              "      <th>Method</th>\n",
              "      <th>SellerG</th>\n",
              "      <th>Date</th>\n",
              "      <th>Distance</th>\n",
              "      <th>Postcode</th>\n",
              "      <th>Bedroom2</th>\n",
              "      <th>Bathroom</th>\n",
              "      <th>Car</th>\n",
              "      <th>Landsize</th>\n",
              "      <th>BuildingArea</th>\n",
              "      <th>YearBuilt</th>\n",
              "      <th>CouncilArea</th>\n",
              "      <th>Lattitude</th>\n",
              "      <th>Longtitude</th>\n",
              "      <th>Regionname</th>\n",
              "      <th>Propertycount</th>\n",
              "    </tr>\n",
              "  </thead>\n",
              "  <tbody>\n",
              "    <tr>\n",
              "      <th>0</th>\n",
              "      <td>Abbotsford</td>\n",
              "      <td>85 Turner St</td>\n",
              "      <td>2</td>\n",
              "      <td>h</td>\n",
              "      <td>1480000.00</td>\n",
              "      <td>S</td>\n",
              "      <td>Biggin</td>\n",
              "      <td>3/12/2016</td>\n",
              "      <td>2.50</td>\n",
              "      <td>3067.00</td>\n",
              "      <td>2.00</td>\n",
              "      <td>1.00</td>\n",
              "      <td>1.00</td>\n",
              "      <td>202.00</td>\n",
              "      <td>nan</td>\n",
              "      <td>nan</td>\n",
              "      <td>Yarra</td>\n",
              "      <td>-37.80</td>\n",
              "      <td>145.00</td>\n",
              "      <td>Northern Metropolitan</td>\n",
              "      <td>4019.00</td>\n",
              "    </tr>\n",
              "    <tr>\n",
              "      <th>1</th>\n",
              "      <td>Abbotsford</td>\n",
              "      <td>25 Bloomburg St</td>\n",
              "      <td>2</td>\n",
              "      <td>h</td>\n",
              "      <td>1035000.00</td>\n",
              "      <td>S</td>\n",
              "      <td>Biggin</td>\n",
              "      <td>4/02/2016</td>\n",
              "      <td>2.50</td>\n",
              "      <td>3067.00</td>\n",
              "      <td>2.00</td>\n",
              "      <td>1.00</td>\n",
              "      <td>0.00</td>\n",
              "      <td>156.00</td>\n",
              "      <td>79.00</td>\n",
              "      <td>1900.00</td>\n",
              "      <td>Yarra</td>\n",
              "      <td>-37.81</td>\n",
              "      <td>144.99</td>\n",
              "      <td>Northern Metropolitan</td>\n",
              "      <td>4019.00</td>\n",
              "    </tr>\n",
              "    <tr>\n",
              "      <th>2</th>\n",
              "      <td>Abbotsford</td>\n",
              "      <td>5 Charles St</td>\n",
              "      <td>3</td>\n",
              "      <td>h</td>\n",
              "      <td>1465000.00</td>\n",
              "      <td>SP</td>\n",
              "      <td>Biggin</td>\n",
              "      <td>4/03/2017</td>\n",
              "      <td>2.50</td>\n",
              "      <td>3067.00</td>\n",
              "      <td>3.00</td>\n",
              "      <td>2.00</td>\n",
              "      <td>0.00</td>\n",
              "      <td>134.00</td>\n",
              "      <td>150.00</td>\n",
              "      <td>1900.00</td>\n",
              "      <td>Yarra</td>\n",
              "      <td>-37.81</td>\n",
              "      <td>144.99</td>\n",
              "      <td>Northern Metropolitan</td>\n",
              "      <td>4019.00</td>\n",
              "    </tr>\n",
              "    <tr>\n",
              "      <th>3</th>\n",
              "      <td>Abbotsford</td>\n",
              "      <td>40 Federation La</td>\n",
              "      <td>3</td>\n",
              "      <td>h</td>\n",
              "      <td>850000.00</td>\n",
              "      <td>PI</td>\n",
              "      <td>Biggin</td>\n",
              "      <td>4/03/2017</td>\n",
              "      <td>2.50</td>\n",
              "      <td>3067.00</td>\n",
              "      <td>3.00</td>\n",
              "      <td>2.00</td>\n",
              "      <td>1.00</td>\n",
              "      <td>94.00</td>\n",
              "      <td>nan</td>\n",
              "      <td>nan</td>\n",
              "      <td>Yarra</td>\n",
              "      <td>-37.80</td>\n",
              "      <td>145.00</td>\n",
              "      <td>Northern Metropolitan</td>\n",
              "      <td>4019.00</td>\n",
              "    </tr>\n",
              "    <tr>\n",
              "      <th>4</th>\n",
              "      <td>Abbotsford</td>\n",
              "      <td>55a Park St</td>\n",
              "      <td>4</td>\n",
              "      <td>h</td>\n",
              "      <td>1600000.00</td>\n",
              "      <td>VB</td>\n",
              "      <td>Nelson</td>\n",
              "      <td>4/06/2016</td>\n",
              "      <td>2.50</td>\n",
              "      <td>3067.00</td>\n",
              "      <td>3.00</td>\n",
              "      <td>1.00</td>\n",
              "      <td>2.00</td>\n",
              "      <td>120.00</td>\n",
              "      <td>142.00</td>\n",
              "      <td>2014.00</td>\n",
              "      <td>Yarra</td>\n",
              "      <td>-37.81</td>\n",
              "      <td>144.99</td>\n",
              "      <td>Northern Metropolitan</td>\n",
              "      <td>4019.00</td>\n",
              "    </tr>\n",
              "    <tr>\n",
              "      <th>...</th>\n",
              "      <td>...</td>\n",
              "      <td>...</td>\n",
              "      <td>...</td>\n",
              "      <td>...</td>\n",
              "      <td>...</td>\n",
              "      <td>...</td>\n",
              "      <td>...</td>\n",
              "      <td>...</td>\n",
              "      <td>...</td>\n",
              "      <td>...</td>\n",
              "      <td>...</td>\n",
              "      <td>...</td>\n",
              "      <td>...</td>\n",
              "      <td>...</td>\n",
              "      <td>...</td>\n",
              "      <td>...</td>\n",
              "      <td>...</td>\n",
              "      <td>...</td>\n",
              "      <td>...</td>\n",
              "      <td>...</td>\n",
              "      <td>...</td>\n",
              "    </tr>\n",
              "    <tr>\n",
              "      <th>13575</th>\n",
              "      <td>Wheelers Hill</td>\n",
              "      <td>12 Strada Cr</td>\n",
              "      <td>4</td>\n",
              "      <td>h</td>\n",
              "      <td>1245000.00</td>\n",
              "      <td>S</td>\n",
              "      <td>Barry</td>\n",
              "      <td>26/08/2017</td>\n",
              "      <td>16.70</td>\n",
              "      <td>3150.00</td>\n",
              "      <td>4.00</td>\n",
              "      <td>2.00</td>\n",
              "      <td>2.00</td>\n",
              "      <td>652.00</td>\n",
              "      <td>nan</td>\n",
              "      <td>1981.00</td>\n",
              "      <td>NaN</td>\n",
              "      <td>-37.91</td>\n",
              "      <td>145.17</td>\n",
              "      <td>South-Eastern Metropolitan</td>\n",
              "      <td>7392.00</td>\n",
              "    </tr>\n",
              "    <tr>\n",
              "      <th>13576</th>\n",
              "      <td>Williamstown</td>\n",
              "      <td>77 Merrett Dr</td>\n",
              "      <td>3</td>\n",
              "      <td>h</td>\n",
              "      <td>1031000.00</td>\n",
              "      <td>SP</td>\n",
              "      <td>Williams</td>\n",
              "      <td>26/08/2017</td>\n",
              "      <td>6.80</td>\n",
              "      <td>3016.00</td>\n",
              "      <td>3.00</td>\n",
              "      <td>2.00</td>\n",
              "      <td>2.00</td>\n",
              "      <td>333.00</td>\n",
              "      <td>133.00</td>\n",
              "      <td>1995.00</td>\n",
              "      <td>NaN</td>\n",
              "      <td>-37.86</td>\n",
              "      <td>144.88</td>\n",
              "      <td>Western Metropolitan</td>\n",
              "      <td>6380.00</td>\n",
              "    </tr>\n",
              "    <tr>\n",
              "      <th>13577</th>\n",
              "      <td>Williamstown</td>\n",
              "      <td>83 Power St</td>\n",
              "      <td>3</td>\n",
              "      <td>h</td>\n",
              "      <td>1170000.00</td>\n",
              "      <td>S</td>\n",
              "      <td>Raine</td>\n",
              "      <td>26/08/2017</td>\n",
              "      <td>6.80</td>\n",
              "      <td>3016.00</td>\n",
              "      <td>3.00</td>\n",
              "      <td>2.00</td>\n",
              "      <td>4.00</td>\n",
              "      <td>436.00</td>\n",
              "      <td>nan</td>\n",
              "      <td>1997.00</td>\n",
              "      <td>NaN</td>\n",
              "      <td>-37.85</td>\n",
              "      <td>144.89</td>\n",
              "      <td>Western Metropolitan</td>\n",
              "      <td>6380.00</td>\n",
              "    </tr>\n",
              "    <tr>\n",
              "      <th>13578</th>\n",
              "      <td>Williamstown</td>\n",
              "      <td>96 Verdon St</td>\n",
              "      <td>4</td>\n",
              "      <td>h</td>\n",
              "      <td>2500000.00</td>\n",
              "      <td>PI</td>\n",
              "      <td>Sweeney</td>\n",
              "      <td>26/08/2017</td>\n",
              "      <td>6.80</td>\n",
              "      <td>3016.00</td>\n",
              "      <td>4.00</td>\n",
              "      <td>1.00</td>\n",
              "      <td>5.00</td>\n",
              "      <td>866.00</td>\n",
              "      <td>157.00</td>\n",
              "      <td>1920.00</td>\n",
              "      <td>NaN</td>\n",
              "      <td>-37.86</td>\n",
              "      <td>144.89</td>\n",
              "      <td>Western Metropolitan</td>\n",
              "      <td>6380.00</td>\n",
              "    </tr>\n",
              "    <tr>\n",
              "      <th>13579</th>\n",
              "      <td>Yarraville</td>\n",
              "      <td>6 Agnes St</td>\n",
              "      <td>4</td>\n",
              "      <td>h</td>\n",
              "      <td>1285000.00</td>\n",
              "      <td>SP</td>\n",
              "      <td>Village</td>\n",
              "      <td>26/08/2017</td>\n",
              "      <td>6.30</td>\n",
              "      <td>3013.00</td>\n",
              "      <td>4.00</td>\n",
              "      <td>1.00</td>\n",
              "      <td>1.00</td>\n",
              "      <td>362.00</td>\n",
              "      <td>112.00</td>\n",
              "      <td>1920.00</td>\n",
              "      <td>NaN</td>\n",
              "      <td>-37.81</td>\n",
              "      <td>144.88</td>\n",
              "      <td>Western Metropolitan</td>\n",
              "      <td>6543.00</td>\n",
              "    </tr>\n",
              "  </tbody>\n",
              "</table>\n",
              "<p>13580 rows × 21 columns</p>\n",
              "</div>"
            ],
            "text/plain": [
              "              Suburb  ... Propertycount\n",
              "0         Abbotsford  ...       4019.00\n",
              "1         Abbotsford  ...       4019.00\n",
              "2         Abbotsford  ...       4019.00\n",
              "3         Abbotsford  ...       4019.00\n",
              "4         Abbotsford  ...       4019.00\n",
              "...              ...  ...           ...\n",
              "13575  Wheelers Hill  ...       7392.00\n",
              "13576   Williamstown  ...       6380.00\n",
              "13577   Williamstown  ...       6380.00\n",
              "13578   Williamstown  ...       6380.00\n",
              "13579     Yarraville  ...       6543.00\n",
              "\n",
              "[13580 rows x 21 columns]"
            ]
          },
          "metadata": {
            "tags": []
          },
          "execution_count": 2
        }
      ]
    },
    {
      "cell_type": "code",
      "metadata": {
        "colab": {
          "base_uri": "https://localhost:8080/"
        },
        "id": "EDl5RyTn3TRN",
        "outputId": "d629f7cc-a534-4697-92f3-087f3cab0ed1"
      },
      "source": [
        "melb_df.info()"
      ],
      "execution_count": 3,
      "outputs": [
        {
          "output_type": "stream",
          "text": [
            "<class 'pandas.core.frame.DataFrame'>\n",
            "RangeIndex: 13580 entries, 0 to 13579\n",
            "Data columns (total 21 columns):\n",
            " #   Column         Non-Null Count  Dtype  \n",
            "---  ------         --------------  -----  \n",
            " 0   Suburb         13580 non-null  object \n",
            " 1   Address        13580 non-null  object \n",
            " 2   Rooms          13580 non-null  int64  \n",
            " 3   Type           13580 non-null  object \n",
            " 4   Price          13580 non-null  float64\n",
            " 5   Method         13580 non-null  object \n",
            " 6   SellerG        13580 non-null  object \n",
            " 7   Date           13580 non-null  object \n",
            " 8   Distance       13580 non-null  float64\n",
            " 9   Postcode       13580 non-null  float64\n",
            " 10  Bedroom2       13580 non-null  float64\n",
            " 11  Bathroom       13580 non-null  float64\n",
            " 12  Car            13518 non-null  float64\n",
            " 13  Landsize       13580 non-null  float64\n",
            " 14  BuildingArea   7130 non-null   float64\n",
            " 15  YearBuilt      8205 non-null   float64\n",
            " 16  CouncilArea    12211 non-null  object \n",
            " 17  Lattitude      13580 non-null  float64\n",
            " 18  Longtitude     13580 non-null  float64\n",
            " 19  Regionname     13580 non-null  object \n",
            " 20  Propertycount  13580 non-null  float64\n",
            "dtypes: float64(12), int64(1), object(8)\n",
            "memory usage: 2.2+ MB\n"
          ],
          "name": "stdout"
        }
      ]
    },
    {
      "cell_type": "markdown",
      "metadata": {
        "id": "s-mixICN22kA"
      },
      "source": [
        "## Ejercicio 1: \n",
        "\n",
        "1. Eliminar los valores extremos que no sean relevantes para la predicción de valores de las propiedades.\n",
        "\n",
        "1. Investigar la distribución de las variables del conjunto de datos y seleccionar un subconjunto de columnas que les parezcan relevantes al problema de predicción del valor de la propiedad.\n",
        "  1. Justificar cada columna no seleccionada.\n",
        "  2. Para las variables categóricas seleccionadas, agrupe o combine las categorías poco frecuentes para asegurar que todos los grupos tengan un número mínimo de registros.\n",
        "\n",
        "2. Agregar información adicional respectiva al entorno de una propiedad a partir del [conjunto de datos de AirBnB](https://www.kaggle.com/tylerx/melbourne-airbnb-open-data?select=cleansed_listings_dec18.csv) utilizado en el práctico. \n",
        "  1. Seleccionar qué variables agregar y qué combinaciones aplicar a cada una. Por ejemplo, pueden utilizar solo la columna `price`, o aplicar múltiples transformaciones como la mediana o el mínimo.\n",
        "  1. Utilizar la variable zipcode para unir los conjuntos de datos. Sólo incluir los zipcodes que tengan una cantidad mínima de registros (a elección) como para que la información agregada sea relevante.\n",
        "  2. Investigar al menos otras 2 variables que puedan servir para combinar los datos, y justificar si serían adecuadas o no. Pueden asumir que cuentan con la ayuda de anotadores expertos para encontrar equivalencias entre barrios o direcciones, o que cuentan con algoritmos para encontrar las n ubicaciones más cercanas a una propiedad a partir de sus coordenadas geográficas. **NO** es necesario que realicen la implementación.\n",
        "\n",
        "Pueden leer otras columnas del conjunto de AirBnB además de las que están en `interesting_cols`, si les parecen relevantes.\n"
      ]
    },
    {
      "cell_type": "markdown",
      "metadata": {
        "id": "wZ2M9C9KOL0P"
      },
      "source": [
        "#Procesamiento de datos de AirBnb"
      ]
    },
    {
      "cell_type": "code",
      "metadata": {
        "colab": {
          "base_uri": "https://localhost:8080/"
        },
        "id": "k3Z2vxNHJfJK",
        "outputId": "ad144e2d-163a-400d-c055-da1135d45873"
      },
      "source": [
        "# data source:\n",
        "# https://www.kaggle.com/tylerx/melbourne-airbnb-open-data?select=cleansed_listings_dec18.csv\n",
        "interesting_cols = [\n",
        "  'street', 'neighborhood', 'city', 'suburb', 'state', 'zipcode',\n",
        "  'price', 'weekly_price', 'monthly_price',\n",
        "]\n",
        "  #'description', 'neighborhood_overview',\n",
        " # 'street', 'neighborhood', 'city', 'suburb', 'state', 'zipcode',\n",
        " # 'price', 'weekly_price', 'monthly_price',\n",
        " # 'latitude', 'longitude'\n",
        "airbnb_df = pd.read_csv(\n",
        "    'https://cs.famaf.unc.edu.ar/~mteruel/datasets/diplodatos/cleansed_listings_dec18.csv',\n",
        "    usecols=interesting_cols)"
      ],
      "execution_count": 4,
      "outputs": [
        {
          "output_type": "stream",
          "text": [
            "/usr/local/lib/python3.7/dist-packages/IPython/core/interactiveshell.py:2718: DtypeWarning:\n",
            "\n",
            "Columns (35) have mixed types.Specify dtype option on import or set low_memory=False.\n",
            "\n"
          ],
          "name": "stderr"
        }
      ]
    },
    {
      "cell_type": "code",
      "metadata": {
        "colab": {
          "base_uri": "https://localhost:8080/",
          "height": 206
        },
        "id": "bc55TFlhF6tP",
        "outputId": "c5f51c25-f09c-414f-95a1-a847d482db84"
      },
      "source": [
        "airbnb_df.head()"
      ],
      "execution_count": 5,
      "outputs": [
        {
          "output_type": "execute_result",
          "data": {
            "text/html": [
              "<div>\n",
              "<style scoped>\n",
              "    .dataframe tbody tr th:only-of-type {\n",
              "        vertical-align: middle;\n",
              "    }\n",
              "\n",
              "    .dataframe tbody tr th {\n",
              "        vertical-align: top;\n",
              "    }\n",
              "\n",
              "    .dataframe thead th {\n",
              "        text-align: right;\n",
              "    }\n",
              "</style>\n",
              "<table border=\"1\" class=\"dataframe\">\n",
              "  <thead>\n",
              "    <tr style=\"text-align: right;\">\n",
              "      <th></th>\n",
              "      <th>street</th>\n",
              "      <th>neighborhood</th>\n",
              "      <th>city</th>\n",
              "      <th>suburb</th>\n",
              "      <th>state</th>\n",
              "      <th>zipcode</th>\n",
              "      <th>price</th>\n",
              "      <th>weekly_price</th>\n",
              "      <th>monthly_price</th>\n",
              "    </tr>\n",
              "  </thead>\n",
              "  <tbody>\n",
              "    <tr>\n",
              "      <th>0</th>\n",
              "      <td>Bulleen, VIC, Australia</td>\n",
              "      <td>Balwyn North</td>\n",
              "      <td>Manningham</td>\n",
              "      <td>Bulleen</td>\n",
              "      <td>VIC</td>\n",
              "      <td>3105</td>\n",
              "      <td>60</td>\n",
              "      <td>nan</td>\n",
              "      <td>nan</td>\n",
              "    </tr>\n",
              "    <tr>\n",
              "      <th>1</th>\n",
              "      <td>Brunswick East, VIC, Australia</td>\n",
              "      <td>Brunswick</td>\n",
              "      <td>Moreland</td>\n",
              "      <td>Brunswick East</td>\n",
              "      <td>VIC</td>\n",
              "      <td>3057</td>\n",
              "      <td>35</td>\n",
              "      <td>200.00</td>\n",
              "      <td>803.00</td>\n",
              "    </tr>\n",
              "    <tr>\n",
              "      <th>2</th>\n",
              "      <td>St Kilda, VIC, Australia</td>\n",
              "      <td>St Kilda</td>\n",
              "      <td>Port Phillip</td>\n",
              "      <td>St Kilda</td>\n",
              "      <td>VIC</td>\n",
              "      <td>3182</td>\n",
              "      <td>159</td>\n",
              "      <td>1253.00</td>\n",
              "      <td>4452.00</td>\n",
              "    </tr>\n",
              "    <tr>\n",
              "      <th>3</th>\n",
              "      <td>Thornbury, VIC, Australia</td>\n",
              "      <td>Thornbury</td>\n",
              "      <td>Darebin</td>\n",
              "      <td>Thornbury</td>\n",
              "      <td>VIC</td>\n",
              "      <td>3071</td>\n",
              "      <td>50</td>\n",
              "      <td>250.00</td>\n",
              "      <td>920.00</td>\n",
              "    </tr>\n",
              "    <tr>\n",
              "      <th>4</th>\n",
              "      <td>St Kilda East, VIC, Australia</td>\n",
              "      <td>St Kilda East</td>\n",
              "      <td>Port Phillip</td>\n",
              "      <td>St Kilda East</td>\n",
              "      <td>VIC</td>\n",
              "      <td>3183</td>\n",
              "      <td>69</td>\n",
              "      <td>400.00</td>\n",
              "      <td>1900.00</td>\n",
              "    </tr>\n",
              "  </tbody>\n",
              "</table>\n",
              "</div>"
            ],
            "text/plain": [
              "                           street   neighborhood  ... weekly_price monthly_price\n",
              "0         Bulleen, VIC, Australia   Balwyn North  ...          nan           nan\n",
              "1  Brunswick East, VIC, Australia      Brunswick  ...       200.00        803.00\n",
              "2        St Kilda, VIC, Australia       St Kilda  ...      1253.00       4452.00\n",
              "3       Thornbury, VIC, Australia      Thornbury  ...       250.00        920.00\n",
              "4   St Kilda East, VIC, Australia  St Kilda East  ...       400.00       1900.00\n",
              "\n",
              "[5 rows x 9 columns]"
            ]
          },
          "metadata": {
            "tags": []
          },
          "execution_count": 5
        }
      ]
    },
    {
      "cell_type": "code",
      "metadata": {
        "id": "p-PSVvtY8dID"
      },
      "source": [
        "df_bnb = airbnb_df.copy()"
      ],
      "execution_count": 6,
      "outputs": []
    },
    {
      "cell_type": "code",
      "metadata": {
        "colab": {
          "base_uri": "https://localhost:8080/"
        },
        "id": "lWzvLrGN1jxN",
        "outputId": "7615ac7f-9dfe-4a92-c6ed-18d7dbfed13a"
      },
      "source": [
        "#sacar la serie usar df\n",
        "df_bnb['Postcode'] = pd.Series(pd.to_numeric(df_bnb.zipcode, errors = 'coerce', downcast = 'integer'), dtype = 'int64', name = 'postcode')\n",
        "df_bnb.Postcode.isna().sum()"
      ],
      "execution_count": 7,
      "outputs": [
        {
          "output_type": "execute_result",
          "data": {
            "text/plain": [
              "146"
            ]
          },
          "metadata": {
            "tags": []
          },
          "execution_count": 7
        }
      ]
    },
    {
      "cell_type": "code",
      "metadata": {
        "colab": {
          "base_uri": "https://localhost:8080/"
        },
        "id": "LZ_5MIK6pTPr",
        "outputId": "8a87845e-26c2-4620-ec60-11eb554fe472"
      },
      "source": [
        "#checking nan values\n",
        "df_bnb = df_bnb[~df_bnb.Postcode.isna()]\n",
        "df_bnb.Postcode.isna().sum()"
      ],
      "execution_count": 8,
      "outputs": [
        {
          "output_type": "execute_result",
          "data": {
            "text/plain": [
              "0"
            ]
          },
          "metadata": {
            "tags": []
          },
          "execution_count": 8
        }
      ]
    },
    {
      "cell_type": "code",
      "metadata": {
        "colab": {
          "base_uri": "https://localhost:8080/"
        },
        "id": "3W-3_oRaxivt",
        "outputId": "6927eef7-08bb-4c33-f991-0fdeb084f561"
      },
      "source": [
        "#tiramos la columnda zipcode\n",
        "df_bnb = df_bnb.drop('zipcode', axis = 1)\n",
        "df_bnb.info()"
      ],
      "execution_count": 9,
      "outputs": [
        {
          "output_type": "stream",
          "text": [
            "<class 'pandas.core.frame.DataFrame'>\n",
            "Int64Index: 22749 entries, 0 to 22894\n",
            "Data columns (total 9 columns):\n",
            " #   Column         Non-Null Count  Dtype  \n",
            "---  ------         --------------  -----  \n",
            " 0   street         22749 non-null  object \n",
            " 1   neighborhood   16973 non-null  object \n",
            " 2   city           22749 non-null  object \n",
            " 3   suburb         22746 non-null  object \n",
            " 4   state          22690 non-null  object \n",
            " 5   price          22749 non-null  int64  \n",
            " 6   weekly_price   2512 non-null   float64\n",
            " 7   monthly_price  1882 non-null   float64\n",
            " 8   Postcode       22749 non-null  float64\n",
            "dtypes: float64(3), int64(1), object(5)\n",
            "memory usage: 1.7+ MB\n"
          ],
          "name": "stdout"
        }
      ]
    },
    {
      "cell_type": "code",
      "metadata": {
        "colab": {
          "base_uri": "https://localhost:8080/",
          "height": 424
        },
        "id": "0mVKaCpf7RhF",
        "outputId": "a4ed1000-0f50-4624-caae-43318504396f"
      },
      "source": [
        "postcodes = df_bnb.Postcode.value_counts()\n",
        "#no se que hace esto: probablemente es la distribución eliminando valores extremos\n",
        "df_bnb = df_bnb[df_bnb.Postcode.isin(postcodes[postcodes > 11].index)]\n",
        "df_bnb"
      ],
      "execution_count": 10,
      "outputs": [
        {
          "output_type": "execute_result",
          "data": {
            "text/html": [
              "<div>\n",
              "<style scoped>\n",
              "    .dataframe tbody tr th:only-of-type {\n",
              "        vertical-align: middle;\n",
              "    }\n",
              "\n",
              "    .dataframe tbody tr th {\n",
              "        vertical-align: top;\n",
              "    }\n",
              "\n",
              "    .dataframe thead th {\n",
              "        text-align: right;\n",
              "    }\n",
              "</style>\n",
              "<table border=\"1\" class=\"dataframe\">\n",
              "  <thead>\n",
              "    <tr style=\"text-align: right;\">\n",
              "      <th></th>\n",
              "      <th>street</th>\n",
              "      <th>neighborhood</th>\n",
              "      <th>city</th>\n",
              "      <th>suburb</th>\n",
              "      <th>state</th>\n",
              "      <th>price</th>\n",
              "      <th>weekly_price</th>\n",
              "      <th>monthly_price</th>\n",
              "      <th>Postcode</th>\n",
              "    </tr>\n",
              "  </thead>\n",
              "  <tbody>\n",
              "    <tr>\n",
              "      <th>0</th>\n",
              "      <td>Bulleen, VIC, Australia</td>\n",
              "      <td>Balwyn North</td>\n",
              "      <td>Manningham</td>\n",
              "      <td>Bulleen</td>\n",
              "      <td>VIC</td>\n",
              "      <td>60</td>\n",
              "      <td>nan</td>\n",
              "      <td>nan</td>\n",
              "      <td>3105.00</td>\n",
              "    </tr>\n",
              "    <tr>\n",
              "      <th>1</th>\n",
              "      <td>Brunswick East, VIC, Australia</td>\n",
              "      <td>Brunswick</td>\n",
              "      <td>Moreland</td>\n",
              "      <td>Brunswick East</td>\n",
              "      <td>VIC</td>\n",
              "      <td>35</td>\n",
              "      <td>200.00</td>\n",
              "      <td>803.00</td>\n",
              "      <td>3057.00</td>\n",
              "    </tr>\n",
              "    <tr>\n",
              "      <th>2</th>\n",
              "      <td>St Kilda, VIC, Australia</td>\n",
              "      <td>St Kilda</td>\n",
              "      <td>Port Phillip</td>\n",
              "      <td>St Kilda</td>\n",
              "      <td>VIC</td>\n",
              "      <td>159</td>\n",
              "      <td>1253.00</td>\n",
              "      <td>4452.00</td>\n",
              "      <td>3182.00</td>\n",
              "    </tr>\n",
              "    <tr>\n",
              "      <th>3</th>\n",
              "      <td>Thornbury, VIC, Australia</td>\n",
              "      <td>Thornbury</td>\n",
              "      <td>Darebin</td>\n",
              "      <td>Thornbury</td>\n",
              "      <td>VIC</td>\n",
              "      <td>50</td>\n",
              "      <td>250.00</td>\n",
              "      <td>920.00</td>\n",
              "      <td>3071.00</td>\n",
              "    </tr>\n",
              "    <tr>\n",
              "      <th>4</th>\n",
              "      <td>St Kilda East, VIC, Australia</td>\n",
              "      <td>St Kilda East</td>\n",
              "      <td>Port Phillip</td>\n",
              "      <td>St Kilda East</td>\n",
              "      <td>VIC</td>\n",
              "      <td>69</td>\n",
              "      <td>400.00</td>\n",
              "      <td>1900.00</td>\n",
              "      <td>3183.00</td>\n",
              "    </tr>\n",
              "    <tr>\n",
              "      <th>...</th>\n",
              "      <td>...</td>\n",
              "      <td>...</td>\n",
              "      <td>...</td>\n",
              "      <td>...</td>\n",
              "      <td>...</td>\n",
              "      <td>...</td>\n",
              "      <td>...</td>\n",
              "      <td>...</td>\n",
              "      <td>...</td>\n",
              "    </tr>\n",
              "    <tr>\n",
              "      <th>22890</th>\n",
              "      <td>Carlton, VIC, Australia</td>\n",
              "      <td>Carlton</td>\n",
              "      <td>Melbourne</td>\n",
              "      <td>Carlton</td>\n",
              "      <td>VIC</td>\n",
              "      <td>55</td>\n",
              "      <td>nan</td>\n",
              "      <td>nan</td>\n",
              "      <td>3053.00</td>\n",
              "    </tr>\n",
              "    <tr>\n",
              "      <th>22891</th>\n",
              "      <td>Melton South, VIC, Australia</td>\n",
              "      <td>NaN</td>\n",
              "      <td>Melton</td>\n",
              "      <td>Melton South</td>\n",
              "      <td>VIC</td>\n",
              "      <td>129</td>\n",
              "      <td>nan</td>\n",
              "      <td>nan</td>\n",
              "      <td>3338.00</td>\n",
              "    </tr>\n",
              "    <tr>\n",
              "      <th>22892</th>\n",
              "      <td>Glen Waverley, VIC, Australia</td>\n",
              "      <td>NaN</td>\n",
              "      <td>Monash</td>\n",
              "      <td>Glen Waverley</td>\n",
              "      <td>VIC</td>\n",
              "      <td>53</td>\n",
              "      <td>nan</td>\n",
              "      <td>nan</td>\n",
              "      <td>3150.00</td>\n",
              "    </tr>\n",
              "    <tr>\n",
              "      <th>22893</th>\n",
              "      <td>Southbank, VIC, Australia</td>\n",
              "      <td>Southbank</td>\n",
              "      <td>Melbourne</td>\n",
              "      <td>Southbank</td>\n",
              "      <td>VIC</td>\n",
              "      <td>130</td>\n",
              "      <td>nan</td>\n",
              "      <td>nan</td>\n",
              "      <td>3006.00</td>\n",
              "    </tr>\n",
              "    <tr>\n",
              "      <th>22894</th>\n",
              "      <td>Carlton, VIC, Australia</td>\n",
              "      <td>Carlton</td>\n",
              "      <td>Melbourne</td>\n",
              "      <td>Carlton</td>\n",
              "      <td>VIC</td>\n",
              "      <td>179</td>\n",
              "      <td>nan</td>\n",
              "      <td>nan</td>\n",
              "      <td>3053.00</td>\n",
              "    </tr>\n",
              "  </tbody>\n",
              "</table>\n",
              "<p>22353 rows × 9 columns</p>\n",
              "</div>"
            ],
            "text/plain": [
              "                               street   neighborhood  ... monthly_price Postcode\n",
              "0             Bulleen, VIC, Australia   Balwyn North  ...           nan  3105.00\n",
              "1      Brunswick East, VIC, Australia      Brunswick  ...        803.00  3057.00\n",
              "2            St Kilda, VIC, Australia       St Kilda  ...       4452.00  3182.00\n",
              "3           Thornbury, VIC, Australia      Thornbury  ...        920.00  3071.00\n",
              "4       St Kilda East, VIC, Australia  St Kilda East  ...       1900.00  3183.00\n",
              "...                               ...            ...  ...           ...      ...\n",
              "22890         Carlton, VIC, Australia        Carlton  ...           nan  3053.00\n",
              "22891    Melton South, VIC, Australia            NaN  ...           nan  3338.00\n",
              "22892   Glen Waverley, VIC, Australia            NaN  ...           nan  3150.00\n",
              "22893       Southbank, VIC, Australia      Southbank  ...           nan  3006.00\n",
              "22894         Carlton, VIC, Australia        Carlton  ...           nan  3053.00\n",
              "\n",
              "[22353 rows x 9 columns]"
            ]
          },
          "metadata": {
            "tags": []
          },
          "execution_count": 10
        }
      ]
    },
    {
      "cell_type": "code",
      "metadata": {
        "colab": {
          "base_uri": "https://localhost:8080/",
          "height": 424
        },
        "id": "KR0ZnhCH7zpq",
        "outputId": "2b8688e3-9d18-4f78-f86e-98538b1c32d1"
      },
      "source": [
        "df_bnb.groupby('Postcode').mean().reset_index()"
      ],
      "execution_count": 11,
      "outputs": [
        {
          "output_type": "execute_result",
          "data": {
            "text/html": [
              "<div>\n",
              "<style scoped>\n",
              "    .dataframe tbody tr th:only-of-type {\n",
              "        vertical-align: middle;\n",
              "    }\n",
              "\n",
              "    .dataframe tbody tr th {\n",
              "        vertical-align: top;\n",
              "    }\n",
              "\n",
              "    .dataframe thead th {\n",
              "        text-align: right;\n",
              "    }\n",
              "</style>\n",
              "<table border=\"1\" class=\"dataframe\">\n",
              "  <thead>\n",
              "    <tr style=\"text-align: right;\">\n",
              "      <th></th>\n",
              "      <th>Postcode</th>\n",
              "      <th>price</th>\n",
              "      <th>weekly_price</th>\n",
              "      <th>monthly_price</th>\n",
              "    </tr>\n",
              "  </thead>\n",
              "  <tbody>\n",
              "    <tr>\n",
              "      <th>0</th>\n",
              "      <td>3000.00</td>\n",
              "      <td>150.50</td>\n",
              "      <td>918.74</td>\n",
              "      <td>3407.20</td>\n",
              "    </tr>\n",
              "    <tr>\n",
              "      <th>1</th>\n",
              "      <td>3002.00</td>\n",
              "      <td>200.98</td>\n",
              "      <td>956.38</td>\n",
              "      <td>3712.71</td>\n",
              "    </tr>\n",
              "    <tr>\n",
              "      <th>2</th>\n",
              "      <td>3003.00</td>\n",
              "      <td>130.21</td>\n",
              "      <td>760.20</td>\n",
              "      <td>2629.50</td>\n",
              "    </tr>\n",
              "    <tr>\n",
              "      <th>3</th>\n",
              "      <td>3004.00</td>\n",
              "      <td>158.27</td>\n",
              "      <td>1061.17</td>\n",
              "      <td>3759.93</td>\n",
              "    </tr>\n",
              "    <tr>\n",
              "      <th>4</th>\n",
              "      <td>3006.00</td>\n",
              "      <td>188.85</td>\n",
              "      <td>1239.83</td>\n",
              "      <td>4358.56</td>\n",
              "    </tr>\n",
              "    <tr>\n",
              "      <th>...</th>\n",
              "      <td>...</td>\n",
              "      <td>...</td>\n",
              "      <td>...</td>\n",
              "      <td>...</td>\n",
              "    </tr>\n",
              "    <tr>\n",
              "      <th>165</th>\n",
              "      <td>3805.00</td>\n",
              "      <td>225.24</td>\n",
              "      <td>622.00</td>\n",
              "      <td>2178.67</td>\n",
              "    </tr>\n",
              "    <tr>\n",
              "      <th>166</th>\n",
              "      <td>3806.00</td>\n",
              "      <td>488.27</td>\n",
              "      <td>540.00</td>\n",
              "      <td>nan</td>\n",
              "    </tr>\n",
              "    <tr>\n",
              "      <th>167</th>\n",
              "      <td>3809.00</td>\n",
              "      <td>76.21</td>\n",
              "      <td>286.00</td>\n",
              "      <td>1008.00</td>\n",
              "    </tr>\n",
              "    <tr>\n",
              "      <th>168</th>\n",
              "      <td>3810.00</td>\n",
              "      <td>94.95</td>\n",
              "      <td>723.33</td>\n",
              "      <td>3800.00</td>\n",
              "    </tr>\n",
              "    <tr>\n",
              "      <th>169</th>\n",
              "      <td>3977.00</td>\n",
              "      <td>92.96</td>\n",
              "      <td>422.00</td>\n",
              "      <td>1025.00</td>\n",
              "    </tr>\n",
              "  </tbody>\n",
              "</table>\n",
              "<p>170 rows × 4 columns</p>\n",
              "</div>"
            ],
            "text/plain": [
              "     Postcode  price  weekly_price  monthly_price\n",
              "0     3000.00 150.50        918.74        3407.20\n",
              "1     3002.00 200.98        956.38        3712.71\n",
              "2     3003.00 130.21        760.20        2629.50\n",
              "3     3004.00 158.27       1061.17        3759.93\n",
              "4     3006.00 188.85       1239.83        4358.56\n",
              "..        ...    ...           ...            ...\n",
              "165   3805.00 225.24        622.00        2178.67\n",
              "166   3806.00 488.27        540.00            nan\n",
              "167   3809.00  76.21        286.00        1008.00\n",
              "168   3810.00  94.95        723.33        3800.00\n",
              "169   3977.00  92.96        422.00        1025.00\n",
              "\n",
              "[170 rows x 4 columns]"
            ]
          },
          "metadata": {
            "tags": []
          },
          "execution_count": 11
        }
      ]
    },
    {
      "cell_type": "code",
      "metadata": {
        "colab": {
          "base_uri": "https://localhost:8080/"
        },
        "id": "aP4SR_BGppjR",
        "outputId": "8d54e76d-6071-42fc-aeaf-87181e95d519"
      },
      "source": [
        "melb_df['Postcode'].isna().sum()"
      ],
      "execution_count": 12,
      "outputs": [
        {
          "output_type": "execute_result",
          "data": {
            "text/plain": [
              "0"
            ]
          },
          "metadata": {
            "tags": []
          },
          "execution_count": 12
        }
      ]
    },
    {
      "cell_type": "markdown",
      "metadata": {
        "id": "2fQRZUrZOU0u"
      },
      "source": [
        "#Obtención de DataSet"
      ]
    },
    {
      "cell_type": "code",
      "metadata": {
        "id": "EIsxulaQ5bso"
      },
      "source": [
        "df = pd.merge(melb_df, df_bnb.groupby('Postcode').mean().reset_index(), how = 'left', on=['Postcode'])"
      ],
      "execution_count": 13,
      "outputs": []
    },
    {
      "cell_type": "code",
      "metadata": {
        "colab": {
          "base_uri": "https://localhost:8080/",
          "height": 670
        },
        "id": "_wzbYkcY_vmB",
        "outputId": "db2fcda8-2808-4217-b4de-1c6be046b946"
      },
      "source": [
        "df"
      ],
      "execution_count": 14,
      "outputs": [
        {
          "output_type": "execute_result",
          "data": {
            "text/html": [
              "<div>\n",
              "<style scoped>\n",
              "    .dataframe tbody tr th:only-of-type {\n",
              "        vertical-align: middle;\n",
              "    }\n",
              "\n",
              "    .dataframe tbody tr th {\n",
              "        vertical-align: top;\n",
              "    }\n",
              "\n",
              "    .dataframe thead th {\n",
              "        text-align: right;\n",
              "    }\n",
              "</style>\n",
              "<table border=\"1\" class=\"dataframe\">\n",
              "  <thead>\n",
              "    <tr style=\"text-align: right;\">\n",
              "      <th></th>\n",
              "      <th>Suburb</th>\n",
              "      <th>Address</th>\n",
              "      <th>Rooms</th>\n",
              "      <th>Type</th>\n",
              "      <th>Price</th>\n",
              "      <th>Method</th>\n",
              "      <th>SellerG</th>\n",
              "      <th>Date</th>\n",
              "      <th>Distance</th>\n",
              "      <th>Postcode</th>\n",
              "      <th>Bedroom2</th>\n",
              "      <th>Bathroom</th>\n",
              "      <th>Car</th>\n",
              "      <th>Landsize</th>\n",
              "      <th>BuildingArea</th>\n",
              "      <th>YearBuilt</th>\n",
              "      <th>CouncilArea</th>\n",
              "      <th>Lattitude</th>\n",
              "      <th>Longtitude</th>\n",
              "      <th>Regionname</th>\n",
              "      <th>Propertycount</th>\n",
              "      <th>price</th>\n",
              "      <th>weekly_price</th>\n",
              "      <th>monthly_price</th>\n",
              "    </tr>\n",
              "  </thead>\n",
              "  <tbody>\n",
              "    <tr>\n",
              "      <th>0</th>\n",
              "      <td>Abbotsford</td>\n",
              "      <td>85 Turner St</td>\n",
              "      <td>2</td>\n",
              "      <td>h</td>\n",
              "      <td>1480000.00</td>\n",
              "      <td>S</td>\n",
              "      <td>Biggin</td>\n",
              "      <td>3/12/2016</td>\n",
              "      <td>2.50</td>\n",
              "      <td>3067.00</td>\n",
              "      <td>2.00</td>\n",
              "      <td>1.00</td>\n",
              "      <td>1.00</td>\n",
              "      <td>202.00</td>\n",
              "      <td>nan</td>\n",
              "      <td>nan</td>\n",
              "      <td>Yarra</td>\n",
              "      <td>-37.80</td>\n",
              "      <td>145.00</td>\n",
              "      <td>Northern Metropolitan</td>\n",
              "      <td>4019.00</td>\n",
              "      <td>130.62</td>\n",
              "      <td>605.15</td>\n",
              "      <td>2187.03</td>\n",
              "    </tr>\n",
              "    <tr>\n",
              "      <th>1</th>\n",
              "      <td>Abbotsford</td>\n",
              "      <td>25 Bloomburg St</td>\n",
              "      <td>2</td>\n",
              "      <td>h</td>\n",
              "      <td>1035000.00</td>\n",
              "      <td>S</td>\n",
              "      <td>Biggin</td>\n",
              "      <td>4/02/2016</td>\n",
              "      <td>2.50</td>\n",
              "      <td>3067.00</td>\n",
              "      <td>2.00</td>\n",
              "      <td>1.00</td>\n",
              "      <td>0.00</td>\n",
              "      <td>156.00</td>\n",
              "      <td>79.00</td>\n",
              "      <td>1900.00</td>\n",
              "      <td>Yarra</td>\n",
              "      <td>-37.81</td>\n",
              "      <td>144.99</td>\n",
              "      <td>Northern Metropolitan</td>\n",
              "      <td>4019.00</td>\n",
              "      <td>130.62</td>\n",
              "      <td>605.15</td>\n",
              "      <td>2187.03</td>\n",
              "    </tr>\n",
              "    <tr>\n",
              "      <th>2</th>\n",
              "      <td>Abbotsford</td>\n",
              "      <td>5 Charles St</td>\n",
              "      <td>3</td>\n",
              "      <td>h</td>\n",
              "      <td>1465000.00</td>\n",
              "      <td>SP</td>\n",
              "      <td>Biggin</td>\n",
              "      <td>4/03/2017</td>\n",
              "      <td>2.50</td>\n",
              "      <td>3067.00</td>\n",
              "      <td>3.00</td>\n",
              "      <td>2.00</td>\n",
              "      <td>0.00</td>\n",
              "      <td>134.00</td>\n",
              "      <td>150.00</td>\n",
              "      <td>1900.00</td>\n",
              "      <td>Yarra</td>\n",
              "      <td>-37.81</td>\n",
              "      <td>144.99</td>\n",
              "      <td>Northern Metropolitan</td>\n",
              "      <td>4019.00</td>\n",
              "      <td>130.62</td>\n",
              "      <td>605.15</td>\n",
              "      <td>2187.03</td>\n",
              "    </tr>\n",
              "    <tr>\n",
              "      <th>3</th>\n",
              "      <td>Abbotsford</td>\n",
              "      <td>40 Federation La</td>\n",
              "      <td>3</td>\n",
              "      <td>h</td>\n",
              "      <td>850000.00</td>\n",
              "      <td>PI</td>\n",
              "      <td>Biggin</td>\n",
              "      <td>4/03/2017</td>\n",
              "      <td>2.50</td>\n",
              "      <td>3067.00</td>\n",
              "      <td>3.00</td>\n",
              "      <td>2.00</td>\n",
              "      <td>1.00</td>\n",
              "      <td>94.00</td>\n",
              "      <td>nan</td>\n",
              "      <td>nan</td>\n",
              "      <td>Yarra</td>\n",
              "      <td>-37.80</td>\n",
              "      <td>145.00</td>\n",
              "      <td>Northern Metropolitan</td>\n",
              "      <td>4019.00</td>\n",
              "      <td>130.62</td>\n",
              "      <td>605.15</td>\n",
              "      <td>2187.03</td>\n",
              "    </tr>\n",
              "    <tr>\n",
              "      <th>4</th>\n",
              "      <td>Abbotsford</td>\n",
              "      <td>55a Park St</td>\n",
              "      <td>4</td>\n",
              "      <td>h</td>\n",
              "      <td>1600000.00</td>\n",
              "      <td>VB</td>\n",
              "      <td>Nelson</td>\n",
              "      <td>4/06/2016</td>\n",
              "      <td>2.50</td>\n",
              "      <td>3067.00</td>\n",
              "      <td>3.00</td>\n",
              "      <td>1.00</td>\n",
              "      <td>2.00</td>\n",
              "      <td>120.00</td>\n",
              "      <td>142.00</td>\n",
              "      <td>2014.00</td>\n",
              "      <td>Yarra</td>\n",
              "      <td>-37.81</td>\n",
              "      <td>144.99</td>\n",
              "      <td>Northern Metropolitan</td>\n",
              "      <td>4019.00</td>\n",
              "      <td>130.62</td>\n",
              "      <td>605.15</td>\n",
              "      <td>2187.03</td>\n",
              "    </tr>\n",
              "    <tr>\n",
              "      <th>...</th>\n",
              "      <td>...</td>\n",
              "      <td>...</td>\n",
              "      <td>...</td>\n",
              "      <td>...</td>\n",
              "      <td>...</td>\n",
              "      <td>...</td>\n",
              "      <td>...</td>\n",
              "      <td>...</td>\n",
              "      <td>...</td>\n",
              "      <td>...</td>\n",
              "      <td>...</td>\n",
              "      <td>...</td>\n",
              "      <td>...</td>\n",
              "      <td>...</td>\n",
              "      <td>...</td>\n",
              "      <td>...</td>\n",
              "      <td>...</td>\n",
              "      <td>...</td>\n",
              "      <td>...</td>\n",
              "      <td>...</td>\n",
              "      <td>...</td>\n",
              "      <td>...</td>\n",
              "      <td>...</td>\n",
              "      <td>...</td>\n",
              "    </tr>\n",
              "    <tr>\n",
              "      <th>13575</th>\n",
              "      <td>Wheelers Hill</td>\n",
              "      <td>12 Strada Cr</td>\n",
              "      <td>4</td>\n",
              "      <td>h</td>\n",
              "      <td>1245000.00</td>\n",
              "      <td>S</td>\n",
              "      <td>Barry</td>\n",
              "      <td>26/08/2017</td>\n",
              "      <td>16.70</td>\n",
              "      <td>3150.00</td>\n",
              "      <td>4.00</td>\n",
              "      <td>2.00</td>\n",
              "      <td>2.00</td>\n",
              "      <td>652.00</td>\n",
              "      <td>nan</td>\n",
              "      <td>1981.00</td>\n",
              "      <td>NaN</td>\n",
              "      <td>-37.91</td>\n",
              "      <td>145.17</td>\n",
              "      <td>South-Eastern Metropolitan</td>\n",
              "      <td>7392.00</td>\n",
              "      <td>124.03</td>\n",
              "      <td>526.35</td>\n",
              "      <td>1901.61</td>\n",
              "    </tr>\n",
              "    <tr>\n",
              "      <th>13576</th>\n",
              "      <td>Williamstown</td>\n",
              "      <td>77 Merrett Dr</td>\n",
              "      <td>3</td>\n",
              "      <td>h</td>\n",
              "      <td>1031000.00</td>\n",
              "      <td>SP</td>\n",
              "      <td>Williams</td>\n",
              "      <td>26/08/2017</td>\n",
              "      <td>6.80</td>\n",
              "      <td>3016.00</td>\n",
              "      <td>3.00</td>\n",
              "      <td>2.00</td>\n",
              "      <td>2.00</td>\n",
              "      <td>333.00</td>\n",
              "      <td>133.00</td>\n",
              "      <td>1995.00</td>\n",
              "      <td>NaN</td>\n",
              "      <td>-37.86</td>\n",
              "      <td>144.88</td>\n",
              "      <td>Western Metropolitan</td>\n",
              "      <td>6380.00</td>\n",
              "      <td>191.09</td>\n",
              "      <td>612.25</td>\n",
              "      <td>2119.75</td>\n",
              "    </tr>\n",
              "    <tr>\n",
              "      <th>13577</th>\n",
              "      <td>Williamstown</td>\n",
              "      <td>83 Power St</td>\n",
              "      <td>3</td>\n",
              "      <td>h</td>\n",
              "      <td>1170000.00</td>\n",
              "      <td>S</td>\n",
              "      <td>Raine</td>\n",
              "      <td>26/08/2017</td>\n",
              "      <td>6.80</td>\n",
              "      <td>3016.00</td>\n",
              "      <td>3.00</td>\n",
              "      <td>2.00</td>\n",
              "      <td>4.00</td>\n",
              "      <td>436.00</td>\n",
              "      <td>nan</td>\n",
              "      <td>1997.00</td>\n",
              "      <td>NaN</td>\n",
              "      <td>-37.85</td>\n",
              "      <td>144.89</td>\n",
              "      <td>Western Metropolitan</td>\n",
              "      <td>6380.00</td>\n",
              "      <td>191.09</td>\n",
              "      <td>612.25</td>\n",
              "      <td>2119.75</td>\n",
              "    </tr>\n",
              "    <tr>\n",
              "      <th>13578</th>\n",
              "      <td>Williamstown</td>\n",
              "      <td>96 Verdon St</td>\n",
              "      <td>4</td>\n",
              "      <td>h</td>\n",
              "      <td>2500000.00</td>\n",
              "      <td>PI</td>\n",
              "      <td>Sweeney</td>\n",
              "      <td>26/08/2017</td>\n",
              "      <td>6.80</td>\n",
              "      <td>3016.00</td>\n",
              "      <td>4.00</td>\n",
              "      <td>1.00</td>\n",
              "      <td>5.00</td>\n",
              "      <td>866.00</td>\n",
              "      <td>157.00</td>\n",
              "      <td>1920.00</td>\n",
              "      <td>NaN</td>\n",
              "      <td>-37.86</td>\n",
              "      <td>144.89</td>\n",
              "      <td>Western Metropolitan</td>\n",
              "      <td>6380.00</td>\n",
              "      <td>191.09</td>\n",
              "      <td>612.25</td>\n",
              "      <td>2119.75</td>\n",
              "    </tr>\n",
              "    <tr>\n",
              "      <th>13579</th>\n",
              "      <td>Yarraville</td>\n",
              "      <td>6 Agnes St</td>\n",
              "      <td>4</td>\n",
              "      <td>h</td>\n",
              "      <td>1285000.00</td>\n",
              "      <td>SP</td>\n",
              "      <td>Village</td>\n",
              "      <td>26/08/2017</td>\n",
              "      <td>6.30</td>\n",
              "      <td>3013.00</td>\n",
              "      <td>4.00</td>\n",
              "      <td>1.00</td>\n",
              "      <td>1.00</td>\n",
              "      <td>362.00</td>\n",
              "      <td>112.00</td>\n",
              "      <td>1920.00</td>\n",
              "      <td>NaN</td>\n",
              "      <td>-37.81</td>\n",
              "      <td>144.88</td>\n",
              "      <td>Western Metropolitan</td>\n",
              "      <td>6543.00</td>\n",
              "      <td>135.61</td>\n",
              "      <td>923.57</td>\n",
              "      <td>2966.09</td>\n",
              "    </tr>\n",
              "  </tbody>\n",
              "</table>\n",
              "<p>13580 rows × 24 columns</p>\n",
              "</div>"
            ],
            "text/plain": [
              "              Suburb           Address  ...  weekly_price monthly_price\n",
              "0         Abbotsford      85 Turner St  ...        605.15       2187.03\n",
              "1         Abbotsford   25 Bloomburg St  ...        605.15       2187.03\n",
              "2         Abbotsford      5 Charles St  ...        605.15       2187.03\n",
              "3         Abbotsford  40 Federation La  ...        605.15       2187.03\n",
              "4         Abbotsford       55a Park St  ...        605.15       2187.03\n",
              "...              ...               ...  ...           ...           ...\n",
              "13575  Wheelers Hill      12 Strada Cr  ...        526.35       1901.61\n",
              "13576   Williamstown     77 Merrett Dr  ...        612.25       2119.75\n",
              "13577   Williamstown       83 Power St  ...        612.25       2119.75\n",
              "13578   Williamstown      96 Verdon St  ...        612.25       2119.75\n",
              "13579     Yarraville        6 Agnes St  ...        923.57       2966.09\n",
              "\n",
              "[13580 rows x 24 columns]"
            ]
          },
          "metadata": {
            "tags": []
          },
          "execution_count": 14
        }
      ]
    },
    {
      "cell_type": "code",
      "metadata": {
        "colab": {
          "base_uri": "https://localhost:8080/"
        },
        "id": "VPAPsXcxg6o2",
        "outputId": "e571049d-b784-4eaa-8721-f1ce4b7b513b"
      },
      "source": [
        "df.Price.describe()"
      ],
      "execution_count": 15,
      "outputs": [
        {
          "output_type": "execute_result",
          "data": {
            "text/plain": [
              "count     13580.00\n",
              "mean    1075684.08\n",
              "std      639310.72\n",
              "min       85000.00\n",
              "25%      650000.00\n",
              "50%      903000.00\n",
              "75%     1330000.00\n",
              "max     9000000.00\n",
              "Name: Price, dtype: float64"
            ]
          },
          "metadata": {
            "tags": []
          },
          "execution_count": 15
        }
      ]
    },
    {
      "cell_type": "markdown",
      "metadata": {
        "id": "fUj1oHdeOgNN"
      },
      "source": [
        "Eliminación de Valores extremos en 'Price'"
      ]
    },
    {
      "cell_type": "code",
      "metadata": {
        "colab": {
          "base_uri": "https://localhost:8080/",
          "height": 318
        },
        "id": "NWmg-ZIUhcwg",
        "outputId": "e5ba5b64-ab71-41eb-980c-28c798593816"
      },
      "source": [
        "log_price = np.log10(df.Price)\n",
        "sns.histplot(log_price)"
      ],
      "execution_count": 16,
      "outputs": [
        {
          "output_type": "execute_result",
          "data": {
            "text/plain": [
              "<matplotlib.axes._subplots.AxesSubplot at 0x7fccee213750>"
            ]
          },
          "metadata": {
            "tags": []
          },
          "execution_count": 16
        },
        {
          "output_type": "display_data",
          "data": {
            "image/png": "[encoded data removed]",
            "text/plain": [
              "<Figure size 432x288 with 1 Axes>"
            ]
          },
          "metadata": {
            "tags": [],
            "needs_background": "light"
          }
        }
      ]
    },
    {
      "cell_type": "code",
      "metadata": {
        "colab": {
          "base_uri": "https://localhost:8080/"
        },
        "id": "CcnCXXZHkdvv",
        "outputId": "9eb175c2-de5a-4616-bfd7-05c7e0218de1"
      },
      "source": [
        "shapiro_test = stats.shapiro(np.log10(df.Price.sample(4500)))\n",
        "shapiro_test"
      ],
      "execution_count": 17,
      "outputs": [
        {
          "output_type": "execute_result",
          "data": {
            "text/plain": [
              "(0.9969456195831299, 6.423210408001978e-08)"
            ]
          },
          "metadata": {
            "tags": []
          },
          "execution_count": 17
        }
      ]
    },
    {
      "cell_type": "code",
      "metadata": {
        "colab": {
          "base_uri": "https://localhost:8080/"
        },
        "id": "AMTo-WnxCaGK",
        "outputId": "8746d5a7-599c-453b-b349-c4a1f05b9694"
      },
      "source": [
        "#Límite Inferior\n",
        "10**(log_price.mean()-log_price.std()*3)"
      ],
      "execution_count": 18,
      "outputs": [
        {
          "output_type": "execute_result",
          "data": {
            "text/plain": [
              "191955.0069553842"
            ]
          },
          "metadata": {
            "tags": []
          },
          "execution_count": 18
        }
      ]
    },
    {
      "cell_type": "code",
      "metadata": {
        "colab": {
          "base_uri": "https://localhost:8080/"
        },
        "id": "2Mj7HX7PCamN",
        "outputId": "3576a43b-e0c5-4b2d-bce4-c82ee707391a"
      },
      "source": [
        "#Límite Superior\n",
        "10**(log_price.mean()+log_price.std()*3)"
      ],
      "execution_count": 19,
      "outputs": [
        {
          "output_type": "execute_result",
          "data": {
            "text/plain": [
              "4527748.07661868"
            ]
          },
          "metadata": {
            "tags": []
          },
          "execution_count": 19
        }
      ]
    },
    {
      "cell_type": "code",
      "metadata": {
        "colab": {
          "base_uri": "https://localhost:8080/",
          "height": 670
        },
        "id": "ieZd7QgJADgQ",
        "outputId": "761265d6-3038-4ec4-ce30-12a04e653e8c"
      },
      "source": [
        "#esto no se que hace\n",
        "df = df[(df.Price < 10**(log_price.mean()+log_price.std()*3))&(df.Price > 10**(log_price.mean()-log_price.std()*3))]\n",
        "df"
      ],
      "execution_count": 20,
      "outputs": [
        {
          "output_type": "execute_result",
          "data": {
            "text/html": [
              "<div>\n",
              "<style scoped>\n",
              "    .dataframe tbody tr th:only-of-type {\n",
              "        vertical-align: middle;\n",
              "    }\n",
              "\n",
              "    .dataframe tbody tr th {\n",
              "        vertical-align: top;\n",
              "    }\n",
              "\n",
              "    .dataframe thead th {\n",
              "        text-align: right;\n",
              "    }\n",
              "</style>\n",
              "<table border=\"1\" class=\"dataframe\">\n",
              "  <thead>\n",
              "    <tr style=\"text-align: right;\">\n",
              "      <th></th>\n",
              "      <th>Suburb</th>\n",
              "      <th>Address</th>\n",
              "      <th>Rooms</th>\n",
              "      <th>Type</th>\n",
              "      <th>Price</th>\n",
              "      <th>Method</th>\n",
              "      <th>SellerG</th>\n",
              "      <th>Date</th>\n",
              "      <th>Distance</th>\n",
              "      <th>Postcode</th>\n",
              "      <th>Bedroom2</th>\n",
              "      <th>Bathroom</th>\n",
              "      <th>Car</th>\n",
              "      <th>Landsize</th>\n",
              "      <th>BuildingArea</th>\n",
              "      <th>YearBuilt</th>\n",
              "      <th>CouncilArea</th>\n",
              "      <th>Lattitude</th>\n",
              "      <th>Longtitude</th>\n",
              "      <th>Regionname</th>\n",
              "      <th>Propertycount</th>\n",
              "      <th>price</th>\n",
              "      <th>weekly_price</th>\n",
              "      <th>monthly_price</th>\n",
              "    </tr>\n",
              "  </thead>\n",
              "  <tbody>\n",
              "    <tr>\n",
              "      <th>0</th>\n",
              "      <td>Abbotsford</td>\n",
              "      <td>85 Turner St</td>\n",
              "      <td>2</td>\n",
              "      <td>h</td>\n",
              "      <td>1480000.00</td>\n",
              "      <td>S</td>\n",
              "      <td>Biggin</td>\n",
              "      <td>3/12/2016</td>\n",
              "      <td>2.50</td>\n",
              "      <td>3067.00</td>\n",
              "      <td>2.00</td>\n",
              "      <td>1.00</td>\n",
              "      <td>1.00</td>\n",
              "      <td>202.00</td>\n",
              "      <td>nan</td>\n",
              "      <td>nan</td>\n",
              "      <td>Yarra</td>\n",
              "      <td>-37.80</td>\n",
              "      <td>145.00</td>\n",
              "      <td>Northern Metropolitan</td>\n",
              "      <td>4019.00</td>\n",
              "      <td>130.62</td>\n",
              "      <td>605.15</td>\n",
              "      <td>2187.03</td>\n",
              "    </tr>\n",
              "    <tr>\n",
              "      <th>1</th>\n",
              "      <td>Abbotsford</td>\n",
              "      <td>25 Bloomburg St</td>\n",
              "      <td>2</td>\n",
              "      <td>h</td>\n",
              "      <td>1035000.00</td>\n",
              "      <td>S</td>\n",
              "      <td>Biggin</td>\n",
              "      <td>4/02/2016</td>\n",
              "      <td>2.50</td>\n",
              "      <td>3067.00</td>\n",
              "      <td>2.00</td>\n",
              "      <td>1.00</td>\n",
              "      <td>0.00</td>\n",
              "      <td>156.00</td>\n",
              "      <td>79.00</td>\n",
              "      <td>1900.00</td>\n",
              "      <td>Yarra</td>\n",
              "      <td>-37.81</td>\n",
              "      <td>144.99</td>\n",
              "      <td>Northern Metropolitan</td>\n",
              "      <td>4019.00</td>\n",
              "      <td>130.62</td>\n",
              "      <td>605.15</td>\n",
              "      <td>2187.03</td>\n",
              "    </tr>\n",
              "    <tr>\n",
              "      <th>2</th>\n",
              "      <td>Abbotsford</td>\n",
              "      <td>5 Charles St</td>\n",
              "      <td>3</td>\n",
              "      <td>h</td>\n",
              "      <td>1465000.00</td>\n",
              "      <td>SP</td>\n",
              "      <td>Biggin</td>\n",
              "      <td>4/03/2017</td>\n",
              "      <td>2.50</td>\n",
              "      <td>3067.00</td>\n",
              "      <td>3.00</td>\n",
              "      <td>2.00</td>\n",
              "      <td>0.00</td>\n",
              "      <td>134.00</td>\n",
              "      <td>150.00</td>\n",
              "      <td>1900.00</td>\n",
              "      <td>Yarra</td>\n",
              "      <td>-37.81</td>\n",
              "      <td>144.99</td>\n",
              "      <td>Northern Metropolitan</td>\n",
              "      <td>4019.00</td>\n",
              "      <td>130.62</td>\n",
              "      <td>605.15</td>\n",
              "      <td>2187.03</td>\n",
              "    </tr>\n",
              "    <tr>\n",
              "      <th>3</th>\n",
              "      <td>Abbotsford</td>\n",
              "      <td>40 Federation La</td>\n",
              "      <td>3</td>\n",
              "      <td>h</td>\n",
              "      <td>850000.00</td>\n",
              "      <td>PI</td>\n",
              "      <td>Biggin</td>\n",
              "      <td>4/03/2017</td>\n",
              "      <td>2.50</td>\n",
              "      <td>3067.00</td>\n",
              "      <td>3.00</td>\n",
              "      <td>2.00</td>\n",
              "      <td>1.00</td>\n",
              "      <td>94.00</td>\n",
              "      <td>nan</td>\n",
              "      <td>nan</td>\n",
              "      <td>Yarra</td>\n",
              "      <td>-37.80</td>\n",
              "      <td>145.00</td>\n",
              "      <td>Northern Metropolitan</td>\n",
              "      <td>4019.00</td>\n",
              "      <td>130.62</td>\n",
              "      <td>605.15</td>\n",
              "      <td>2187.03</td>\n",
              "    </tr>\n",
              "    <tr>\n",
              "      <th>4</th>\n",
              "      <td>Abbotsford</td>\n",
              "      <td>55a Park St</td>\n",
              "      <td>4</td>\n",
              "      <td>h</td>\n",
              "      <td>1600000.00</td>\n",
              "      <td>VB</td>\n",
              "      <td>Nelson</td>\n",
              "      <td>4/06/2016</td>\n",
              "      <td>2.50</td>\n",
              "      <td>3067.00</td>\n",
              "      <td>3.00</td>\n",
              "      <td>1.00</td>\n",
              "      <td>2.00</td>\n",
              "      <td>120.00</td>\n",
              "      <td>142.00</td>\n",
              "      <td>2014.00</td>\n",
              "      <td>Yarra</td>\n",
              "      <td>-37.81</td>\n",
              "      <td>144.99</td>\n",
              "      <td>Northern Metropolitan</td>\n",
              "      <td>4019.00</td>\n",
              "      <td>130.62</td>\n",
              "      <td>605.15</td>\n",
              "      <td>2187.03</td>\n",
              "    </tr>\n",
              "    <tr>\n",
              "      <th>...</th>\n",
              "      <td>...</td>\n",
              "      <td>...</td>\n",
              "      <td>...</td>\n",
              "      <td>...</td>\n",
              "      <td>...</td>\n",
              "      <td>...</td>\n",
              "      <td>...</td>\n",
              "      <td>...</td>\n",
              "      <td>...</td>\n",
              "      <td>...</td>\n",
              "      <td>...</td>\n",
              "      <td>...</td>\n",
              "      <td>...</td>\n",
              "      <td>...</td>\n",
              "      <td>...</td>\n",
              "      <td>...</td>\n",
              "      <td>...</td>\n",
              "      <td>...</td>\n",
              "      <td>...</td>\n",
              "      <td>...</td>\n",
              "      <td>...</td>\n",
              "      <td>...</td>\n",
              "      <td>...</td>\n",
              "      <td>...</td>\n",
              "    </tr>\n",
              "    <tr>\n",
              "      <th>13575</th>\n",
              "      <td>Wheelers Hill</td>\n",
              "      <td>12 Strada Cr</td>\n",
              "      <td>4</td>\n",
              "      <td>h</td>\n",
              "      <td>1245000.00</td>\n",
              "      <td>S</td>\n",
              "      <td>Barry</td>\n",
              "      <td>26/08/2017</td>\n",
              "      <td>16.70</td>\n",
              "      <td>3150.00</td>\n",
              "      <td>4.00</td>\n",
              "      <td>2.00</td>\n",
              "      <td>2.00</td>\n",
              "      <td>652.00</td>\n",
              "      <td>nan</td>\n",
              "      <td>1981.00</td>\n",
              "      <td>NaN</td>\n",
              "      <td>-37.91</td>\n",
              "      <td>145.17</td>\n",
              "      <td>South-Eastern Metropolitan</td>\n",
              "      <td>7392.00</td>\n",
              "      <td>124.03</td>\n",
              "      <td>526.35</td>\n",
              "      <td>1901.61</td>\n",
              "    </tr>\n",
              "    <tr>\n",
              "      <th>13576</th>\n",
              "      <td>Williamstown</td>\n",
              "      <td>77 Merrett Dr</td>\n",
              "      <td>3</td>\n",
              "      <td>h</td>\n",
              "      <td>1031000.00</td>\n",
              "      <td>SP</td>\n",
              "      <td>Williams</td>\n",
              "      <td>26/08/2017</td>\n",
              "      <td>6.80</td>\n",
              "      <td>3016.00</td>\n",
              "      <td>3.00</td>\n",
              "      <td>2.00</td>\n",
              "      <td>2.00</td>\n",
              "      <td>333.00</td>\n",
              "      <td>133.00</td>\n",
              "      <td>1995.00</td>\n",
              "      <td>NaN</td>\n",
              "      <td>-37.86</td>\n",
              "      <td>144.88</td>\n",
              "      <td>Western Metropolitan</td>\n",
              "      <td>6380.00</td>\n",
              "      <td>191.09</td>\n",
              "      <td>612.25</td>\n",
              "      <td>2119.75</td>\n",
              "    </tr>\n",
              "    <tr>\n",
              "      <th>13577</th>\n",
              "      <td>Williamstown</td>\n",
              "      <td>83 Power St</td>\n",
              "      <td>3</td>\n",
              "      <td>h</td>\n",
              "      <td>1170000.00</td>\n",
              "      <td>S</td>\n",
              "      <td>Raine</td>\n",
              "      <td>26/08/2017</td>\n",
              "      <td>6.80</td>\n",
              "      <td>3016.00</td>\n",
              "      <td>3.00</td>\n",
              "      <td>2.00</td>\n",
              "      <td>4.00</td>\n",
              "      <td>436.00</td>\n",
              "      <td>nan</td>\n",
              "      <td>1997.00</td>\n",
              "      <td>NaN</td>\n",
              "      <td>-37.85</td>\n",
              "      <td>144.89</td>\n",
              "      <td>Western Metropolitan</td>\n",
              "      <td>6380.00</td>\n",
              "      <td>191.09</td>\n",
              "      <td>612.25</td>\n",
              "      <td>2119.75</td>\n",
              "    </tr>\n",
              "    <tr>\n",
              "      <th>13578</th>\n",
              "      <td>Williamstown</td>\n",
              "      <td>96 Verdon St</td>\n",
              "      <td>4</td>\n",
              "      <td>h</td>\n",
              "      <td>2500000.00</td>\n",
              "      <td>PI</td>\n",
              "      <td>Sweeney</td>\n",
              "      <td>26/08/2017</td>\n",
              "      <td>6.80</td>\n",
              "      <td>3016.00</td>\n",
              "      <td>4.00</td>\n",
              "      <td>1.00</td>\n",
              "      <td>5.00</td>\n",
              "      <td>866.00</td>\n",
              "      <td>157.00</td>\n",
              "      <td>1920.00</td>\n",
              "      <td>NaN</td>\n",
              "      <td>-37.86</td>\n",
              "      <td>144.89</td>\n",
              "      <td>Western Metropolitan</td>\n",
              "      <td>6380.00</td>\n",
              "      <td>191.09</td>\n",
              "      <td>612.25</td>\n",
              "      <td>2119.75</td>\n",
              "    </tr>\n",
              "    <tr>\n",
              "      <th>13579</th>\n",
              "      <td>Yarraville</td>\n",
              "      <td>6 Agnes St</td>\n",
              "      <td>4</td>\n",
              "      <td>h</td>\n",
              "      <td>1285000.00</td>\n",
              "      <td>SP</td>\n",
              "      <td>Village</td>\n",
              "      <td>26/08/2017</td>\n",
              "      <td>6.30</td>\n",
              "      <td>3013.00</td>\n",
              "      <td>4.00</td>\n",
              "      <td>1.00</td>\n",
              "      <td>1.00</td>\n",
              "      <td>362.00</td>\n",
              "      <td>112.00</td>\n",
              "      <td>1920.00</td>\n",
              "      <td>NaN</td>\n",
              "      <td>-37.81</td>\n",
              "      <td>144.88</td>\n",
              "      <td>Western Metropolitan</td>\n",
              "      <td>6543.00</td>\n",
              "      <td>135.61</td>\n",
              "      <td>923.57</td>\n",
              "      <td>2966.09</td>\n",
              "    </tr>\n",
              "  </tbody>\n",
              "</table>\n",
              "<p>13539 rows × 24 columns</p>\n",
              "</div>"
            ],
            "text/plain": [
              "              Suburb           Address  ...  weekly_price monthly_price\n",
              "0         Abbotsford      85 Turner St  ...        605.15       2187.03\n",
              "1         Abbotsford   25 Bloomburg St  ...        605.15       2187.03\n",
              "2         Abbotsford      5 Charles St  ...        605.15       2187.03\n",
              "3         Abbotsford  40 Federation La  ...        605.15       2187.03\n",
              "4         Abbotsford       55a Park St  ...        605.15       2187.03\n",
              "...              ...               ...  ...           ...           ...\n",
              "13575  Wheelers Hill      12 Strada Cr  ...        526.35       1901.61\n",
              "13576   Williamstown     77 Merrett Dr  ...        612.25       2119.75\n",
              "13577   Williamstown       83 Power St  ...        612.25       2119.75\n",
              "13578   Williamstown      96 Verdon St  ...        612.25       2119.75\n",
              "13579     Yarraville        6 Agnes St  ...        923.57       2966.09\n",
              "\n",
              "[13539 rows x 24 columns]"
            ]
          },
          "metadata": {
            "tags": []
          },
          "execution_count": 20
        }
      ]
    },
    {
      "cell_type": "markdown",
      "metadata": {
        "id": "ZRhInEWfOmu0"
      },
      "source": [
        "# Análisis de Datos Faltantes"
      ]
    },
    {
      "cell_type": "code",
      "metadata": {
        "colab": {
          "base_uri": "https://localhost:8080/",
          "height": 756
        },
        "id": "qLSIsWsMDP_i",
        "outputId": "4298b4e5-0d78-4ddb-d727-c499bb529ef7"
      },
      "source": [
        "msn.bar(df)"
      ],
      "execution_count": 21,
      "outputs": [
        {
          "output_type": "execute_result",
          "data": {
            "text/plain": [
              "<matplotlib.axes._subplots.AxesSubplot at 0x7fccd9aa16d0>"
            ]
          },
          "metadata": {
            "tags": []
          },
          "execution_count": 21
        },
        {
          "output_type": "display_data",
          "data": {
            "image/png": "[encoded data removed]",
            "text/plain": [
              "<Figure size 1728x720 with 3 Axes>"
            ]
          },
          "metadata": {
            "tags": [],
            "needs_background": "light"
          }
        }
      ]
    },
    {
      "cell_type": "code",
      "metadata": {
        "id": "8YuC-4taFkPc"
      },
      "source": [
        "#Proponemos imputar con la media de YearBuilt del Suburb correspondiente\n",
        "#quiero imputar la columna year built con la media de la columna suburb, agrupada por suburbio.\n",
        "suburb_year = dict(pd.Series(df.groupby('Suburb').YearBuilt.mean().round(), dtype = 'Int64'))\n",
        "#Diccionario que contiene la equivalencia entre los valores de 'Suburb' y la media de 'YearBuilt'"
      ],
      "execution_count": 22,
      "outputs": []
    },
    {
      "cell_type": "code",
      "metadata": {
        "colab": {
          "base_uri": "https://localhost:8080/",
          "height": 424
        },
        "id": "OEA8jSeNE0gz",
        "outputId": "f46e96d0-ca02-49e7-fcdf-6412155757cb"
      },
      "source": [
        "df_YB_mean = df.groupby('Suburb').YearBuilt.mean().round().astype('Int64').reset_index()\n",
        "df_YB_mean = df_YB_mean.rename(columns={\"YearBuilt\": \"YearBuilt_mean\"})\n",
        "df_YB_mean"
      ],
      "execution_count": 38,
      "outputs": [
        {
          "output_type": "execute_result",
          "data": {
            "text/html": [
              "<div>\n",
              "<style scoped>\n",
              "    .dataframe tbody tr th:only-of-type {\n",
              "        vertical-align: middle;\n",
              "    }\n",
              "\n",
              "    .dataframe tbody tr th {\n",
              "        vertical-align: top;\n",
              "    }\n",
              "\n",
              "    .dataframe thead th {\n",
              "        text-align: right;\n",
              "    }\n",
              "</style>\n",
              "<table border=\"1\" class=\"dataframe\">\n",
              "  <thead>\n",
              "    <tr style=\"text-align: right;\">\n",
              "      <th></th>\n",
              "      <th>Suburb</th>\n",
              "      <th>YearBuilt_mean</th>\n",
              "    </tr>\n",
              "  </thead>\n",
              "  <tbody>\n",
              "    <tr>\n",
              "      <th>0</th>\n",
              "      <td>Abbotsford</td>\n",
              "      <td>1945</td>\n",
              "    </tr>\n",
              "    <tr>\n",
              "      <th>1</th>\n",
              "      <td>Aberfeldie</td>\n",
              "      <td>1979</td>\n",
              "    </tr>\n",
              "    <tr>\n",
              "      <th>2</th>\n",
              "      <td>Airport West</td>\n",
              "      <td>1984</td>\n",
              "    </tr>\n",
              "    <tr>\n",
              "      <th>3</th>\n",
              "      <td>Albanvale</td>\n",
              "      <td>1980</td>\n",
              "    </tr>\n",
              "    <tr>\n",
              "      <th>4</th>\n",
              "      <td>Albert Park</td>\n",
              "      <td>1904</td>\n",
              "    </tr>\n",
              "    <tr>\n",
              "      <th>...</th>\n",
              "      <td>...</td>\n",
              "      <td>...</td>\n",
              "    </tr>\n",
              "    <tr>\n",
              "      <th>309</th>\n",
              "      <td>Wonga Park</td>\n",
              "      <td>&lt;NA&gt;</td>\n",
              "    </tr>\n",
              "    <tr>\n",
              "      <th>310</th>\n",
              "      <td>Wyndham Vale</td>\n",
              "      <td>2001</td>\n",
              "    </tr>\n",
              "    <tr>\n",
              "      <th>311</th>\n",
              "      <td>Yallambie</td>\n",
              "      <td>1982</td>\n",
              "    </tr>\n",
              "    <tr>\n",
              "      <th>312</th>\n",
              "      <td>Yarra Glen</td>\n",
              "      <td>1975</td>\n",
              "    </tr>\n",
              "    <tr>\n",
              "      <th>313</th>\n",
              "      <td>Yarraville</td>\n",
              "      <td>1951</td>\n",
              "    </tr>\n",
              "  </tbody>\n",
              "</table>\n",
              "<p>314 rows × 2 columns</p>\n",
              "</div>"
            ],
            "text/plain": [
              "           Suburb  YearBuilt_mean\n",
              "0      Abbotsford            1945\n",
              "1      Aberfeldie            1979\n",
              "2    Airport West            1984\n",
              "3       Albanvale            1980\n",
              "4     Albert Park            1904\n",
              "..            ...             ...\n",
              "309    Wonga Park            <NA>\n",
              "310  Wyndham Vale            2001\n",
              "311     Yallambie            1982\n",
              "312    Yarra Glen            1975\n",
              "313    Yarraville            1951\n",
              "\n",
              "[314 rows x 2 columns]"
            ]
          },
          "metadata": {
            "tags": []
          },
          "execution_count": 38
        }
      ]
    },
    {
      "cell_type": "code",
      "metadata": {
        "id": "SWwf7SXGMbQZ",
        "colab": {
          "base_uri": "https://localhost:8080/"
        },
        "outputId": "e140ac38-8a85-466e-be76-3550b94de44f"
      },
      "source": [
        "df_YB_mean.isna().sum()"
      ],
      "execution_count": 39,
      "outputs": [
        {
          "output_type": "execute_result",
          "data": {
            "text/plain": [
              "Suburb             0\n",
              "YearBuilt_mean    12\n",
              "dtype: int64"
            ]
          },
          "metadata": {
            "tags": []
          },
          "execution_count": 39
        }
      ]
    },
    {
      "cell_type": "code",
      "metadata": {
        "colab": {
          "base_uri": "https://localhost:8080/",
          "height": 426
        },
        "id": "9wUVBQsUyjUd",
        "outputId": "d64d863c-cd6a-462a-f35f-e6168065eedf"
      },
      "source": [
        "#Suburbs sin Year_Built_mean\n",
        "df_YB_mean[pd.isnull(df_YB_mean['YearBuilt_mean'])].reset_index()"
      ],
      "execution_count": 45,
      "outputs": [
        {
          "output_type": "execute_result",
          "data": {
            "text/html": [
              "<div>\n",
              "<style scoped>\n",
              "    .dataframe tbody tr th:only-of-type {\n",
              "        vertical-align: middle;\n",
              "    }\n",
              "\n",
              "    .dataframe tbody tr th {\n",
              "        vertical-align: top;\n",
              "    }\n",
              "\n",
              "    .dataframe thead th {\n",
              "        text-align: right;\n",
              "    }\n",
              "</style>\n",
              "<table border=\"1\" class=\"dataframe\">\n",
              "  <thead>\n",
              "    <tr style=\"text-align: right;\">\n",
              "      <th></th>\n",
              "      <th>index</th>\n",
              "      <th>Suburb</th>\n",
              "      <th>YearBuilt_mean</th>\n",
              "    </tr>\n",
              "  </thead>\n",
              "  <tbody>\n",
              "    <tr>\n",
              "      <th>0</th>\n",
              "      <td>16</td>\n",
              "      <td>Aspendale Gardens</td>\n",
              "      <td>&lt;NA&gt;</td>\n",
              "    </tr>\n",
              "    <tr>\n",
              "      <th>1</th>\n",
              "      <td>17</td>\n",
              "      <td>Attwood</td>\n",
              "      <td>&lt;NA&gt;</td>\n",
              "    </tr>\n",
              "    <tr>\n",
              "      <th>2</th>\n",
              "      <td>19</td>\n",
              "      <td>Bacchus Marsh</td>\n",
              "      <td>&lt;NA&gt;</td>\n",
              "    </tr>\n",
              "    <tr>\n",
              "      <th>3</th>\n",
              "      <td>50</td>\n",
              "      <td>Bullengarook</td>\n",
              "      <td>&lt;NA&gt;</td>\n",
              "    </tr>\n",
              "    <tr>\n",
              "      <th>4</th>\n",
              "      <td>91</td>\n",
              "      <td>Croydon South</td>\n",
              "      <td>&lt;NA&gt;</td>\n",
              "    </tr>\n",
              "    <tr>\n",
              "      <th>5</th>\n",
              "      <td>102</td>\n",
              "      <td>Docklands</td>\n",
              "      <td>&lt;NA&gt;</td>\n",
              "    </tr>\n",
              "    <tr>\n",
              "      <th>6</th>\n",
              "      <td>198</td>\n",
              "      <td>Monbulk</td>\n",
              "      <td>&lt;NA&gt;</td>\n",
              "    </tr>\n",
              "    <tr>\n",
              "      <th>7</th>\n",
              "      <td>211</td>\n",
              "      <td>New Gisborne</td>\n",
              "      <td>&lt;NA&gt;</td>\n",
              "    </tr>\n",
              "    <tr>\n",
              "      <th>8</th>\n",
              "      <td>243</td>\n",
              "      <td>Rockbank</td>\n",
              "      <td>&lt;NA&gt;</td>\n",
              "    </tr>\n",
              "    <tr>\n",
              "      <th>9</th>\n",
              "      <td>254</td>\n",
              "      <td>Silvan</td>\n",
              "      <td>&lt;NA&gt;</td>\n",
              "    </tr>\n",
              "    <tr>\n",
              "      <th>10</th>\n",
              "      <td>287</td>\n",
              "      <td>Upwey</td>\n",
              "      <td>&lt;NA&gt;</td>\n",
              "    </tr>\n",
              "    <tr>\n",
              "      <th>11</th>\n",
              "      <td>309</td>\n",
              "      <td>Wonga Park</td>\n",
              "      <td>&lt;NA&gt;</td>\n",
              "    </tr>\n",
              "  </tbody>\n",
              "</table>\n",
              "</div>"
            ],
            "text/plain": [
              "    index             Suburb  YearBuilt_mean\n",
              "0      16  Aspendale Gardens            <NA>\n",
              "1      17            Attwood            <NA>\n",
              "2      19      Bacchus Marsh            <NA>\n",
              "3      50       Bullengarook            <NA>\n",
              "4      91      Croydon South            <NA>\n",
              "5     102          Docklands            <NA>\n",
              "6     198            Monbulk            <NA>\n",
              "7     211       New Gisborne            <NA>\n",
              "8     243           Rockbank            <NA>\n",
              "9     254             Silvan            <NA>\n",
              "10    287              Upwey            <NA>\n",
              "11    309         Wonga Park            <NA>"
            ]
          },
          "metadata": {
            "tags": []
          },
          "execution_count": 45
        }
      ]
    },
    {
      "cell_type": "code",
      "metadata": {
        "colab": {
          "base_uri": "https://localhost:8080/",
          "height": 424
        },
        "id": "-H05KyZ2WonM",
        "outputId": "d785d659-b4ce-4656-8127-01ca7ade3f40"
      },
      "source": [
        "#tiramos los 12 Nan values\n",
        "df_YB_mean =df_YB_mean.dropna()\n",
        "df_YB_mean"
      ],
      "execution_count": 36,
      "outputs": [
        {
          "output_type": "execute_result",
          "data": {
            "text/html": [
              "<div>\n",
              "<style scoped>\n",
              "    .dataframe tbody tr th:only-of-type {\n",
              "        vertical-align: middle;\n",
              "    }\n",
              "\n",
              "    .dataframe tbody tr th {\n",
              "        vertical-align: top;\n",
              "    }\n",
              "\n",
              "    .dataframe thead th {\n",
              "        text-align: right;\n",
              "    }\n",
              "</style>\n",
              "<table border=\"1\" class=\"dataframe\">\n",
              "  <thead>\n",
              "    <tr style=\"text-align: right;\">\n",
              "      <th></th>\n",
              "      <th>Suburb</th>\n",
              "      <th>YearBuilt</th>\n",
              "    </tr>\n",
              "  </thead>\n",
              "  <tbody>\n",
              "    <tr>\n",
              "      <th>0</th>\n",
              "      <td>Abbotsford</td>\n",
              "      <td>1945</td>\n",
              "    </tr>\n",
              "    <tr>\n",
              "      <th>1</th>\n",
              "      <td>Aberfeldie</td>\n",
              "      <td>1979</td>\n",
              "    </tr>\n",
              "    <tr>\n",
              "      <th>2</th>\n",
              "      <td>Airport West</td>\n",
              "      <td>1984</td>\n",
              "    </tr>\n",
              "    <tr>\n",
              "      <th>3</th>\n",
              "      <td>Albanvale</td>\n",
              "      <td>1980</td>\n",
              "    </tr>\n",
              "    <tr>\n",
              "      <th>4</th>\n",
              "      <td>Albert Park</td>\n",
              "      <td>1904</td>\n",
              "    </tr>\n",
              "    <tr>\n",
              "      <th>...</th>\n",
              "      <td>...</td>\n",
              "      <td>...</td>\n",
              "    </tr>\n",
              "    <tr>\n",
              "      <th>308</th>\n",
              "      <td>Wollert</td>\n",
              "      <td>2012</td>\n",
              "    </tr>\n",
              "    <tr>\n",
              "      <th>310</th>\n",
              "      <td>Wyndham Vale</td>\n",
              "      <td>2001</td>\n",
              "    </tr>\n",
              "    <tr>\n",
              "      <th>311</th>\n",
              "      <td>Yallambie</td>\n",
              "      <td>1982</td>\n",
              "    </tr>\n",
              "    <tr>\n",
              "      <th>312</th>\n",
              "      <td>Yarra Glen</td>\n",
              "      <td>1975</td>\n",
              "    </tr>\n",
              "    <tr>\n",
              "      <th>313</th>\n",
              "      <td>Yarraville</td>\n",
              "      <td>1951</td>\n",
              "    </tr>\n",
              "  </tbody>\n",
              "</table>\n",
              "<p>302 rows × 2 columns</p>\n",
              "</div>"
            ],
            "text/plain": [
              "           Suburb  YearBuilt\n",
              "0      Abbotsford       1945\n",
              "1      Aberfeldie       1979\n",
              "2    Airport West       1984\n",
              "3       Albanvale       1980\n",
              "4     Albert Park       1904\n",
              "..            ...        ...\n",
              "308       Wollert       2012\n",
              "310  Wyndham Vale       2001\n",
              "311     Yallambie       1982\n",
              "312    Yarra Glen       1975\n",
              "313    Yarraville       1951\n",
              "\n",
              "[302 rows x 2 columns]"
            ]
          },
          "metadata": {
            "tags": []
          },
          "execution_count": 36
        }
      ]
    },
    {
      "cell_type": "code",
      "metadata": {
        "colab": {
          "base_uri": "https://localhost:8080/"
        },
        "id": "7xFZVGl2WwXn",
        "outputId": "8ff9d842-d9cc-484d-99a5-6b11c22a847c"
      },
      "source": [
        "#consultamos Nan values y vemos que ya no hay\n",
        "df_YB_mean.isna().sum()"
      ],
      "execution_count": 37,
      "outputs": [
        {
          "output_type": "execute_result",
          "data": {
            "text/plain": [
              "Suburb       0\n",
              "YearBuilt    0\n",
              "dtype: int64"
            ]
          },
          "metadata": {
            "tags": []
          },
          "execution_count": 37
        }
      ]
    },
    {
      "cell_type": "code",
      "metadata": {
        "colab": {
          "base_uri": "https://localhost:8080/"
        },
        "id": "l1KajbdCHHMS",
        "outputId": "45f2560f-6058-46b3-b9f5-e21377e0d77d"
      },
      "source": [
        "\n",
        "def impute_YB(suburb):\n",
        "    sub_df = df_YB_mean[df_YB_mean['Suburb'] == suburb]\n",
        "    if not sub_df.empty:\n",
        "        return sub_df.iloc[0,1]\n",
        "    else:\n",
        "        return None\n",
        "\n",
        "# l-value : actualizar la columna df['YearBuilt']\n",
        "# r-value : para cada fila donde el valor de df['YearBuilt'] es Nan llamar a la función impute_YB, sino queda el valor que está.\n",
        "# x en la función lambda es una FILA del df por definición\n",
        "\n",
        "df['YearBuilt'] = df.apply(\n",
        "    lambda x: impute_YB(x['Suburb']) if pd.isnull(x['YearBuilt']) else x['YearBuilt'],axis=1)\n"
      ],
      "execution_count": 47,
      "outputs": [
        {
          "output_type": "stream",
          "text": [
            "/usr/local/lib/python3.7/dist-packages/ipykernel_launcher.py:15: SettingWithCopyWarning:\n",
            "\n",
            "\n",
            "A value is trying to be set on a copy of a slice from a DataFrame.\n",
            "Try using .loc[row_indexer,col_indexer] = value instead\n",
            "\n",
            "See the caveats in the documentation: https://pandas.pydata.org/pandas-docs/stable/user_guide/indexing.html#returning-a-view-versus-a-copy\n",
            "\n"
          ],
          "name": "stderr"
        }
      ]
    },
    {
      "cell_type": "code",
      "metadata": {
        "colab": {
          "base_uri": "https://localhost:8080/"
        },
        "id": "RYtNu2mqwOlM",
        "outputId": "1af30a97-7dd2-4a83-944f-0b557a86241c"
      },
      "source": [
        "#quedan 18 valores nulos, debido a los 12 suburbs sin media\n",
        "df['YearBuilt'].isna().sum()"
      ],
      "execution_count": 46,
      "outputs": [
        {
          "output_type": "execute_result",
          "data": {
            "text/plain": [
              "19"
            ]
          },
          "metadata": {
            "tags": []
          },
          "execution_count": 46
        }
      ]
    },
    {
      "cell_type": "markdown",
      "metadata": {
        "id": "ismngxPcfoWb"
      },
      "source": [
        "## Ejercicio 2: Imputación\n",
        "\n",
        "1. Imputar los valores faltantes de la columna CouncilArea en base a la información presente en Suburb. (Si en el punto anterior no seleccionó ninguna de estas variables, agréguelas ahora el conjunto de datos).\n",
        "\n",
        "2. Imputar los valores faltantes de la(s) columna(s) que se agregaron a partir del conjunto de datos de AirBnB.\n",
        "\n"
      ]
    },
    {
      "cell_type": "markdown",
      "metadata": {
        "id": "NBN7-5OIxjJW"
      },
      "source": [
        "## Ejercicio 3\n",
        "\n",
        "Crear y guardar un nuevo conjunto de datos con todas las transformaciones realizadas anteriormente."
      ]
    },
    {
      "cell_type": "code",
      "metadata": {
        "id": "DfchYPgTxvQ4"
      },
      "source": [
        "def estudio(serie,out=0.99):\n",
        "  \n",
        "  variable='ninguna'\n",
        "  if serie.dtype=='object':\n",
        "    serie=serie.astype('category')\n",
        "    variable='categoria'\n",
        "  elif serie.dtype in ('float','float64','float32','float16'):\n",
        "    variable='continua'\n",
        "  elif serie.dtype in ('int','int32','int64','int16'):\n",
        "    variable='discreta'\n",
        "  print(variable)\n",
        "  #CATEGORIAS\n",
        "  \n",
        "  if variable=='categoria':\n",
        "    countplt, ax = plt.subplots(figsize = (18,7))\n",
        "    categorias=serie.unique()\n",
        "    n=8\n",
        "    if len(categorias)<=n:\n",
        "      nva=resumen.nlargest(n)\n",
        "      orden=list(nva.index)\n",
        "      ax=sns.countplot(x=serie,order=orden)\n",
        "    else:\n",
        "      dict={}\n",
        "      resumen=serie.value_counts()\n",
        "      nva=resumen.nlargest(n-1)\n",
        "      orden=list(nva.index)\n",
        "\n",
        "      for i in resumen.index:\n",
        "        if resumen.loc[i]<nva.iloc[-1]:\n",
        "          dict[i]='Otro'\n",
        "        else:\n",
        "          dict[i]=i\n",
        "      orden=orden+['Otro']\n",
        "      serie2=serie.replace(dict)\n",
        "      ax=sns.countplot(x=serie2,order=orden)\n",
        "    for rect in ax.patches:\n",
        "      ax.text (rect.get_x() + rect.get_width()  / 2,rect.get_height()+ 0.75,rect.get_height(),horizontalalignment='center', fontsize = 11)\n",
        "    plt.xticks(rotation=30);\n",
        "  elif variable=='continua':\n",
        "    fig, ax = plt.subplots(2,1,figsize = (18,7))\n",
        "    sns.histplot(serie,bins=50,ax=ax[0])\n",
        "    sns.boxplot(serie,ax=ax[1])\n",
        "    print(serie.describe())\n",
        "  elif variable=='discreta':\n",
        "    categorias=serie.unique()\n",
        "    n=50\n",
        "    if len(categorias)>n:\n",
        "      fig, ax = plt.subplots(2,1,figsize = (18,7))\n",
        "      sns.histplot(serie,bins=50,ax=ax[0])\n",
        "      sns.boxplot(serie,ax=ax[1])\n",
        "      print(serie.describe())\n",
        "    else:\n",
        "      countplt, ax = plt.subplots(figsize = (18,7))\n",
        "    categorias=serie.unique()\n",
        "    n=8\n",
        "    if len(categorias)<=n:\n",
        "      nva=resumen.nlargest(n)\n",
        "      orden=list(nva.index)\n",
        "      ax=sns.countplot(x=serie,order=orden)\n",
        "    else:\n",
        "      dict={}\n",
        "      resumen=serie.value_counts()\n",
        "      nva=resumen.nlargest(n-1)\n",
        "      for i in resumen.index:\n",
        "        if resumen.loc[i]<nva.iloc[-1]:\n",
        "          dict[i]='Otro'\n",
        "        else:\n",
        "          dict[i]=i\n",
        "      serie2=serie.replace(dict)\n",
        "      ax=sns.countplot(x=serie2)\n",
        "    for rect in ax.patches:\n",
        "      ax.text (rect.get_x() + rect.get_width()  / 2,rect.get_height()+ 0.75,rect.get_height(),horizontalalignment='center', fontsize = 11)\n",
        "    plt.xticks(rotation=30);\n",
        "\n",
        "\n"
      ],
      "execution_count": null,
      "outputs": []
    },
    {
      "cell_type": "code",
      "metadata": {
        "id": "IW_4WaC6pCzL"
      },
      "source": [
        "estudio(df['Rooms'])"
      ],
      "execution_count": null,
      "outputs": []
    },
    {
      "cell_type": "markdown",
      "metadata": {
        "id": "Bq7nuPg2HIYx"
      },
      "source": [
        "# **Respuestas**"
      ]
    },
    {
      "cell_type": "markdown",
      "metadata": {
        "id": "jtE2ym_BNjEJ"
      },
      "source": [
        "## **Ejercicio 1**"
      ]
    },
    {
      "cell_type": "markdown",
      "metadata": {
        "id": "9nc6325oNjEJ"
      },
      "source": [
        "### **1.Eliminar los valores extremos que no sean relevantes para la predicción de valores de las propiedades.**"
      ]
    },
    {
      "cell_type": "markdown",
      "metadata": {
        "id": "m4p_4UIzQOpr"
      },
      "source": [
        "Se procede a estudiar los outliers tanto superiores como inferiores"
      ]
    },
    {
      "cell_type": "code",
      "metadata": {
        "id": "5C80UKtQNjEJ"
      },
      "source": [
        "f,ax=plt.subplots(figsize=(15,6))\n",
        "sns.histplot(melb_df['Price'],bins=50)"
      ],
      "execution_count": null,
      "outputs": []
    },
    {
      "cell_type": "code",
      "metadata": {
        "id": "-KF_yrkvK73I"
      },
      "source": [
        "precio1=melb_df['Price']\n",
        "precio1.describe()"
      ],
      "execution_count": null,
      "outputs": []
    },
    {
      "cell_type": "markdown",
      "metadata": {
        "id": "yYqiegB5Li10"
      },
      "source": [
        "Se ve que el valor máximo llega a **9.000.000 USD** cuando el tercer cuartil es **1.330.000 USD**.\n",
        "\n",
        "Analizando el histograma y los parametros descriptivos se ve la existencia de outliers, sobre todo para el lado del máximo. \n"
      ]
    },
    {
      "cell_type": "code",
      "metadata": {
        "id": "FbFUY8zJNjEK"
      },
      "source": [
        "limite_sup=precio1.quantile(0.99)\n",
        "print(f'Limite superior propuesto: {limite_sup.round(2)} \\nCantidad de valores totales: {len(precio1)} \\nValores que quedarian fuera: {(precio1>limite_sup).sum()}\\n')\n",
        "\n",
        "\n",
        "rangointer=precio1.quantile(0.75)-precio1.quantile(0.25)\n",
        "w=(limite_sup-precio1.quantile(0.75))/rangointer\n",
        "\n",
        "f,ax=plt.subplots(figsize=(15,2))\n",
        "sns.boxplot(melb_df['Price'],whis=w)\n"
      ],
      "execution_count": null,
      "outputs": []
    },
    {
      "cell_type": "markdown",
      "metadata": {
        "id": "IEOtpzP4NjEK"
      },
      "source": [
        "Se podria tomar como limite superior para dejar fuera los outliers superiores, el percentil del **99%**, dejando afuera solo **136 valores**.\n",
        "\n",
        "Por lo tanto se toma como limite superior el valor de **3.338.150 USD**"
      ]
    },
    {
      "cell_type": "code",
      "metadata": {
        "id": "K3T2k-sHNjEL"
      },
      "source": [
        "f,ax=plt.subplots(figsize=(15,6))\n",
        "precio2=melb_df[(melb_df['Price']<limite_sup)]['Price']\n",
        "sns.histplot(precio2,bins=50)"
      ],
      "execution_count": null,
      "outputs": []
    },
    {
      "cell_type": "code",
      "metadata": {
        "id": "UDSM4xfNNjEL"
      },
      "source": [
        "f,ax=plt.subplots(figsize=(15,2))\n",
        "sns.boxplot(precio2,whis=3.9)"
      ],
      "execution_count": null,
      "outputs": []
    },
    {
      "cell_type": "code",
      "metadata": {
        "id": "jTvob8epJ2uy"
      },
      "source": [
        "\n",
        "limite_inf=precio1.quantile(0.005)\n",
        "print(f'Limite inferior propuesto: {limite_inf.round(2)} \\nCantidad de valores totales: {len(precio1)} \\nValores que quedarian fuera: {(precio1<limite_inf).sum()}\\n')\n"
      ],
      "execution_count": null,
      "outputs": []
    },
    {
      "cell_type": "markdown",
      "metadata": {
        "id": "rrK6ekAYOLZY"
      },
      "source": [
        "Se podria tomar como limite inferior para dejar fuera los outliers inferiores, el percentil del **0,5%**, dejando afuera solo **64 valores**.\n",
        "se propone un limite inferior de 0,5% y no de 1% como el superior por que estan más cercanos a la media y por lo tanto tienen menos influencia que los superiores. \n",
        "\n",
        "Por lo tanto se toma como limite inferior el valor de **270.000,0 USD** y se procede a relaizar el histograma final y una descricion de la variable **'Price'**"
      ]
    },
    {
      "cell_type": "code",
      "metadata": {
        "id": "-O4JL6MOOxAr"
      },
      "source": [
        "df=melb_df[(melb_df['Price']>=limite_inf) & (melb_df['Price']<=limite_sup)]\n",
        "precio=df['Price']\n",
        "estudio(df['Rooms'])\n",
        "f,ax=plt.subplots(figsize=(15,6))\n",
        "sns.histplot(precio,bins=50)\n",
        "precio.describe()"
      ],
      "execution_count": null,
      "outputs": []
    },
    {
      "cell_type": "markdown",
      "metadata": {
        "id": "mgQzhXtaNjEM"
      },
      "source": [
        "### **2.Investigar la distribución de las variables del conjunto de datos y seleccionar un subconjunto de columnas que les parezcan relevantes al problema de predicción del valor de la propiedad.**\n",
        "  1. Justificar cada columna no seleccionada.\n",
        "  2. Para las variables categóricas seleccionadas, agrupe o combine las categorías poco frecuentes para asegurar que todos los grupos tengan un número mínimo de registros."
      ]
    },
    {
      "cell_type": "code",
      "metadata": {
        "id": "lpH4NEGuYLey"
      },
      "source": [
        "df.isna().sum()"
      ],
      "execution_count": null,
      "outputs": []
    },
    {
      "cell_type": "code",
      "metadata": {
        "id": "IBJMYo1sbiQZ"
      },
      "source": [
        "variables=list(df.columns)\n",
        "for variable in variables:\n",
        "  print(variable,len(df[variable].unique()))"
      ],
      "execution_count": null,
      "outputs": []
    },
    {
      "cell_type": "markdown",
      "metadata": {
        "id": "Zrw535nZZHJJ"
      },
      "source": [
        "Como primer medidida se dejaria afuera **CouncilArea**, porque segun nuestro criterio tiene muchos faltantes y puede ser reeemplazada por mejores variables que den una ubicacion aproximada de la propiedad (como puede ser Suburb o PostCode), **Address** tampoco se tendria en cuenta porque es un valor categorico que es casi unico para cada propiedad y sería mejor utilizar otras variables para definir una ubicacion.\n",
        "\n",
        "La variable **SellerG** es una variable categorica de muchos valores posibles y el vendedor no deberia ser un factor importante en el precio de la propiedad \n",
        "\n",
        "**YearBuilt** y **BuildingArea** tienen muchos valores faltantes lo que podria ser un motivo para no tenerlas en cuenta, pero es cierto que parecieran ser parametros que influirian en el precio de la propiedad, por lo que por el momento se dejarian en estudio"
      ]
    },
    {
      "cell_type": "code",
      "metadata": {
        "id": "KQO7hiQSYbqg"
      },
      "source": [
        "variables=list(variables)\n",
        "excluir={'CouncilArea','Address','SellerG'}\n",
        "svariables=set(variables)\n",
        "svariables=svariables-excluir\n",
        "\n"
      ],
      "execution_count": null,
      "outputs": []
    },
    {
      "cell_type": "code",
      "metadata": {
        "id": "N-AS1YJPN559"
      },
      "source": [
        "scategoricas={'Regionname','Type','Suburb','Method','Regionname'}\n",
        "sdiscretas={'Rooms','Car','Bedroom2','Bathroom','Postcode'}\n",
        "stiempo={'Date'}\n",
        "snumericas=svariables-scategoricas-sdiscretas-stiempo\n",
        "\n",
        "numericas=list(snumericas)\n",
        "\n",
        "f,axs=plt.subplots(len(numericas),1,figsize=(15,6*len(numericas)))\n",
        "for variable in numericas:\n",
        "    sns.histplot(df[variable],bins=50,ax=axs[numericas.index(variable)])\n"
      ],
      "execution_count": null,
      "outputs": []
    },
    {
      "cell_type": "code",
      "metadata": {
        "id": "eSRJw1m8NjEM"
      },
      "source": [
        "f,axs=plt.subplots(len(numericas),1,figsize=(15,6*len(numericas)))\n",
        "for variable in numericas:\n",
        "    sns.boxplot(df[variable],ax=axs[numericas.index(variable)])"
      ],
      "execution_count": null,
      "outputs": []
    },
    {
      "cell_type": "markdown",
      "metadata": {
        "id": "6ntkwzUQfed6"
      },
      "source": [
        "Se ven outliers en algunas variables (BuildingArea, Landsize, YearBuilt), por lo que seria conveniente trabajar sobre estos valores, tal vez borrarlos o trabajarlos para corregirlos\n"
      ]
    },
    {
      "cell_type": "code",
      "metadata": {
        "id": "tRPaXUfCcxxN"
      },
      "source": [
        "print(df[(df['YearBuilt']<1800)]['YearBuilt'])\n",
        "print(df[(df['BuildingArea']>2000)]['BuildingArea'])\n",
        "print(df[(df['Landsize']>50000)]['Landsize'])"
      ],
      "execution_count": null,
      "outputs": []
    },
    {
      "cell_type": "code",
      "metadata": {
        "id": "Pl9kFeElYSt1"
      },
      "source": [
        "df_filtrado=df[((df['YearBuilt']!=1196)&((df['BuildingArea']<= 2000)|(df['BuildingArea'].isnull())) &((df['Landsize']<=50000)|(df['Landsize'].isnull())))]\n",
        "\n",
        "print(len(df),len(df_filtrado))"
      ],
      "execution_count": null,
      "outputs": []
    },
    {
      "cell_type": "code",
      "metadata": {
        "id": "pXLAPwvKNjEM"
      },
      "source": [
        "\n",
        "f,axs=plt.subplots(len(numericas),1,figsize=(15,6*len(numericas)))\n",
        "\n",
        "for variable in numericas:\n",
        "  sns.scatterplot(data=df_filtrado, x=variable, y=df_filtrado['Price'],ax=axs[numericas.index(variable)])\n"
      ],
      "execution_count": null,
      "outputs": []
    },
    {
      "cell_type": "code",
      "metadata": {
        "id": "_KbeZl2afhi8"
      },
      "source": [
        "categoricas=list(scategoricas)\n",
        "\n",
        "f,axs=plt.subplots(len(categoricas),1,figsize=(18,6*len(categoricas)))\n",
        "for variable in categoricas:\n",
        "    sns.barplot(data=df,x=variable,y='Price',ax=axs[categoricas.index(variable)])"
      ],
      "execution_count": null,
      "outputs": []
    },
    {
      "cell_type": "markdown",
      "metadata": {
        "id": "toVnEUfbHtUo"
      },
      "source": [
        "### 3.Agregar información adicional respectiva al entorno de una propiedad a partir del [conjunto de datos de AirBnB](https://www.kaggle.com/tylerx/melbourne-airbnb-open-data?select=cleansed_listings_dec18.csv) utilizado en el práctico. \n",
        "  1. Seleccionar qué variables agregar y qué combinaciones aplicar a cada una. Por ejemplo, pueden utilizar solo la columna `price`, o aplicar múltiples transformaciones como la mediana o el mínimo.\n"
      ]
    },
    {
      "cell_type": "code",
      "metadata": {
        "id": "GqPqfAEAAO_r"
      },
      "source": [
        "airbnb_df.info()"
      ],
      "execution_count": null,
      "outputs": []
    },
    {
      "cell_type": "code",
      "metadata": {
        "id": "b7QMzAgv9rlg"
      },
      "source": [
        "relevant_cols = ['price', 'weekly_price', 'monthly_price']\n",
        "airbnb_df.isna().sum()"
      ],
      "execution_count": null,
      "outputs": []
    },
    {
      "cell_type": "markdown",
      "metadata": {
        "id": "U9peDggm93dv"
      },
      "source": [
        "la columna precio no tiene valores perdidos, comparada con weekly price o monthly price, entiendo que s epodria usar la mediana"
      ]
    },
    {
      "cell_type": "markdown",
      "metadata": {
        "id": "R-cMzTLV_W5F"
      },
      "source": [
        "  2. Utilizar la variable zipcode para unir los conjuntos de datos. Sólo incluir los zipcodes que tengan una cantidad mínima de registros (a elección) como para que la información agregada sea relevante.\n",
        "  "
      ]
    },
    {
      "cell_type": "markdown",
      "metadata": {
        "id": "tC3cg3QE_cEm"
      },
      "source": [
        "3. Investigar al menos otras 2 variables que puedan servir para combinar los datos, y justificar si serían adecuadas o no. Pueden asumir que cuentan con la ayuda de anotadores expertos para encontrar equivalencias entre barrios o direcciones, o que cuentan con algoritmos para encontrar las n ubicaciones más cercanas a una propiedad a partir de sus coordenadas geográficas. **NO** es necesario que realicen la implementación.\n",
        "\n",
        "Pueden leer otras columnas del conjunto de AirBnB además de las que están en `interesting_cols`, si les parecen relevantes.\n"
      ]
    },
    {
      "cell_type": "markdown",
      "metadata": {
        "id": "eSvUdrQQ_lmj"
      },
      "source": [
        "La columna Suburb es una buena variable para combinar"
      ]
    },
    {
      "cell_type": "code",
      "metadata": {
        "id": "Cntb_2jj7c9w"
      },
      "source": [
        "airb=set(airbnb_df.suburb.unique())\n",
        "melb=set(melb_df.Suburb.unique())\n",
        "\n",
        "intersections = airb.intersection(melb)\n",
        "print(\"Airbnb unique Suburb\", len(airbnb_df.suburb.unique()))\n",
        "print(\"Sales unique Suburb\", len(melb_df.Suburb.unique()))\n",
        "print(\"Common Suburb\", len(intersections))"
      ],
      "execution_count": null,
      "outputs": []
    },
    {
      "cell_type": "code",
      "metadata": {
        "id": "dTTJxO5n8PBc"
      },
      "source": [
        "airbnb_df['zipcode'] = pd.to_numeric(airbnb_df.zipcode, errors='coerce')"
      ],
      "execution_count": null,
      "outputs": []
    },
    {
      "cell_type": "code",
      "metadata": {
        "id": "w1nOSCWK8BDK"
      },
      "source": [
        "intersection = np.intersect1d(\n",
        "    airbnb_df.zipcode.values, melb_df.Postcode.values, assume_unique=False)\n",
        "print(\"Airbnb unique zipcodes\", len(airbnb_df.zipcode.unique()))\n",
        "print(\"Sales unique zipcodes\", len(melb_df.Postcode.unique()))\n",
        "print(\"Common zipcodes\", len(intersection))"
      ],
      "execution_count": null,
      "outputs": []
    },
    {
      "cell_type": "code",
      "metadata": {
        "id": "T9bKxvpj7u73"
      },
      "source": [
        "print('Records in Sales df with corresponding suburb form Airbnb df',\n",
        "      melb_df.Suburb.isin(intersections).sum() / len(melb_df))\n",
        "print('Records in Airbnb df with corresponding suburb form Sales df',\n",
        "      airbnb_df.suburb.isin(intersections).sum() / len(airbnb_df))"
      ],
      "execution_count": null,
      "outputs": []
    },
    {
      "cell_type": "code",
      "metadata": {
        "id": "PpDlQ97O7zSr"
      },
      "source": [
        "#Intento de salvar valores fuera de la intercepcion de codigo postal\n",
        "melb_dfnzc=melb_df[(~melb_df.Postcode.isin(intersection))]\n",
        "melbnzc=set(melb_dfnzc.Suburb.unique())\n",
        "\n",
        "intersectionsnzc = airb.intersection(melbnzc)\n",
        "print(\"Airbnb unique Suburb\", len(airbnb_df.suburb.unique()))\n",
        "print(\"Sales unique Suburb\", len(melb_dfnzc.Suburb.unique()))\n",
        "print(\"Common Suburb\", len(intersectionsnzc))\n"
      ],
      "execution_count": null,
      "outputs": []
    },
    {
      "cell_type": "code",
      "metadata": {
        "id": "NGH4F7_476gp"
      },
      "source": [
        "#Intento de salvar valores fuera de la intercepcion de suburbios\n",
        "melb_dfnsb=melb_df[(~melb_df.Suburb.isin(intersections))]\n",
        "melbnsb=set(melb_dfnsb.Postcode.unique())\n",
        "\n",
        "intersectionsnsb = airb.intersection(melbnsb)\n",
        "print(\"Airbnb unique Zipcode\", len(airbnb_df.zipcode.unique()))\n",
        "print(\"Sales unique Postcode\", len(melb_dfnsb.Postcode.unique()))\n",
        "print(\"Common zipcode\", len(intersectionsnsb))"
      ],
      "execution_count": null,
      "outputs": []
    },
    {
      "cell_type": "code",
      "metadata": {
        "id": "HsItHDXk95Eh"
      },
      "source": [
        "airbnb_df[(airbnb_df.suburb.isin(intersections))].isna().sum()"
      ],
      "execution_count": null,
      "outputs": []
    },
    {
      "cell_type": "code",
      "metadata": {
        "id": "wMm7dlzu-O1v"
      },
      "source": [
        "airbnb_df[(airbnb_df.zipcode.isin(intersection))].isna().sum()"
      ],
      "execution_count": null,
      "outputs": []
    },
    {
      "cell_type": "markdown",
      "metadata": {
        "id": "_XpnfsxtHSMd"
      },
      "source": [
        "## Ejercicio 2: Imputación\n",
        "\n"
      ]
    },
    {
      "cell_type": "markdown",
      "metadata": {
        "id": "hOEwGegEHWmq"
      },
      "source": [
        "### 1.Imputar los valores faltantes de la columna CouncilArea en base a la información presente en Suburb. (Si en el punto anterior no seleccionó ninguna de estas variables, agréguelas ahora el conjunto de datos).\n",
        "\n"
      ]
    },
    {
      "cell_type": "code",
      "metadata": {
        "id": "eNcRrVhpIrIC"
      },
      "source": [
        ""
      ],
      "execution_count": null,
      "outputs": []
    },
    {
      "cell_type": "markdown",
      "metadata": {
        "id": "CNFcfJ53HhSp"
      },
      "source": [
        "\n",
        "### 2.Imputar los valores faltantes de la(s) columna(s) que se agregaron a partir del conjunto de datos de AirBnB."
      ]
    },
    {
      "cell_type": "code",
      "metadata": {
        "id": "7iE2fJoBHYUo"
      },
      "source": [
        ""
      ],
      "execution_count": null,
      "outputs": []
    }
  ]
}