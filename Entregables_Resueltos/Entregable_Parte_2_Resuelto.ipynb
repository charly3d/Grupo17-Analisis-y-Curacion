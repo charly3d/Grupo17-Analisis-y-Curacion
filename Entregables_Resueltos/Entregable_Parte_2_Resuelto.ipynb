{
  "nbformat": 4,
  "nbformat_minor": 0,
  "metadata": {
    "colab": {
      "name": "Entregable_Parte_2_20-06-2021 - COMUN.ipynb",
      "provenance": [],
      "collapsed_sections": [
        "8XjUel_4OMmm",
        "tZu3krAcHWqI",
        "gWnnHd4YHeSf",
        "gNumpO4SXcq_",
        "KEva4FczfgQt",
        "pLYlV3WF-JwU",
        "OUkVi52w-Nm5"
      ]
    },
    "kernelspec": {
      "name": "python3",
      "display_name": "Python 3"
    },
    "language_info": {
      "name": "python"
    }
  },
  "cells": [
    {
      "cell_type": "markdown",
      "metadata": {
        "id": "view-in-github"
      },
      "source": [
        "<a href=\"https://colab.research.google.com/github/DiploDatos/AnalisisYCuracion/blob/master/Entregable_Parte_2.ipynb\" target=\"_parent\"><img src=\"https://colab.research.google.com/assets/colab-badge.svg\" alt=\"Open In Colab\"/></a>"
      ]
    },
    {
      "cell_type": "markdown",
      "metadata": {
        "id": "zO4bRoxr2Apy"
      },
      "source": [
        "**Diplomatura en Ciencia de Datos, Aprendizaje Automático y sus Aplicaciones**\n",
        "\n",
        "**Exploración y Curación de Datos**\n",
        "\n",
        "*Edición 2021*\n",
        "\n",
        "----\n",
        "\n",
        "# Trabajo práctico entregable - parte 2\n",
        "\n",
        "\n",
        "En el ejercicio 1 de la parte 1 del entregable seleccionaron las filas y columnas relevantes al problema de predicción de precios de una propiedad. Además de ello, tuvieron que reducir el número de valores posibles para las variables categóricas utilizando información de dominio.\n",
        "\n",
        "En el ejercicio 2 de la parte 1 del entregable imputaron los valores faltantes de las columnas `Suburb` y las columnas obtenidas a partir del conjunto de datos `airbnb`.\n",
        "\n",
        "En esta notebook, **se utilizará resultado de dichas operaciones.**\n"
      ]
    },
    {
      "cell_type": "code",
      "metadata": {
        "id": "4udjxjk1EtVU"
      },
      "source": [
        "import matplotlib.pyplot as plt\n",
        "import numpy\n",
        "import pandas\n",
        "import seaborn\n",
        "seaborn.set_context('talk')"
      ],
      "execution_count": 13,
      "outputs": []
    },
    {
      "cell_type": "code",
      "metadata": {
        "id": "_qeFN3GnEvMk"
      },
      "source": [
        "# Leer DATA SET DE DRIVE, si este no funciona usar solo el de abajo\n",
        "try:\n",
        "  url = 'https://drive.google.com/file/d/1-9kBojyci_7lVVC4kqm-wix1R83Mtjbk/view?usp=sharing'\n",
        "  path = 'https://drive.google.com/uc?export=download&id='+url.split('/')[-2]\n",
        "\n",
        "  melb_df= pandas.read_csv(path)\n",
        "  melb_df['Postcode_Agrupado'] = melb_df['Postcode_Agrupado'].astype('str') \n",
        "  melb_df['Postcode_Agrupado'] = melb_df['Postcode_Agrupado'].astype('category') \n",
        "  melb_df[:3]\n",
        "except:\n",
        "  #Cargar DATA SET DE GITHUB\n",
        "\n",
        "  #Url donde se encuentran los datos\n",
        "  url ='https://github.com/charly3d/Grupo17-Analisis-y-Curacion/blob/main/Entregables_Resueltos/'\n",
        "\n",
        "  #Url Raw para poder levantar los datos\n",
        "  url2='https://raw.githubusercontent.com/charly3d/Grupo17-Analisis-y-Curacion/main/Entregables_Resueltos/'   \n",
        "                                                                                                                                         \n",
        "  melb_df=pandas.read_csv(url2 + 'melb_df_parte1.csv')\n",
        "  melb_df[:3]"
      ],
      "execution_count": 14,
      "outputs": []
    },
    {
      "cell_type": "code",
      "metadata": {
        "colab": {
          "base_uri": "https://localhost:8080/"
        },
        "id": "Ldt47pVzxITw",
        "outputId": "e925eb67-3255-47bb-fa0e-6844eb03ce24"
      },
      "source": [
        "melb_df.info()"
      ],
      "execution_count": 15,
      "outputs": [
        {
          "output_type": "stream",
          "text": [
            "<class 'pandas.core.frame.DataFrame'>\n",
            "RangeIndex: 12342 entries, 0 to 12341\n",
            "Data columns (total 17 columns):\n",
            " #   Column             Non-Null Count  Dtype   \n",
            "---  ------             --------------  -----   \n",
            " 0   Suburb             12342 non-null  object  \n",
            " 1   Rooms              12342 non-null  int64   \n",
            " 2   Type               12342 non-null  object  \n",
            " 3   Price              12342 non-null  float64 \n",
            " 4   Method             12342 non-null  object  \n",
            " 5   Postcode           12342 non-null  int64   \n",
            " 6   Bathroom           12342 non-null  int64   \n",
            " 7   Car                12342 non-null  int64   \n",
            " 8   Landsize           12342 non-null  float64 \n",
            " 9   BuildingArea       6332 non-null   float64 \n",
            " 10  YearBuilt          7351 non-null   float64 \n",
            " 11  CouncilArea        12335 non-null  object  \n",
            " 12  Lattitude          12342 non-null  float64 \n",
            " 13  Longtitude         12342 non-null  float64 \n",
            " 14  Regionname         12342 non-null  object  \n",
            " 15  Postcode_Agrupado  12342 non-null  category\n",
            " 16  Airbnb_Price       12316 non-null  float64 \n",
            "dtypes: category(1), float64(7), int64(4), object(5)\n",
            "memory usage: 1.5+ MB\n"
          ],
          "name": "stdout"
        }
      ]
    },
    {
      "cell_type": "markdown",
      "metadata": {
        "id": "s-mixICN22kA"
      },
      "source": [
        "## Ejercicio 1: Encoding\n",
        "\n",
        "1. Seleccionar todas las filas y columnas del conjunto de datos obtenido en la parte 1 del entregable, **excepto** `BuildingArea` y `YearBuilt`, que volveremos a imputar más adelante.\n",
        "\n",
        "2. Aplicar una codificación One-hot encoding a cada fila, tanto para variables numéricas como categóricas. Si lo consideran necesario, pueden volver a reducir el número de categorías únicas.\n",
        "\n",
        "Algunas opciones:\n",
        "  1. Utilizar `OneHotEncoder` junto con el parámetro `categories` para las variables categóricas y luego usar `numpy.hstack` para concatenar el resultado con las variables numéricas. \n",
        "  2. `DictVectorizer` con algunos pasos de pre-proceso previo.\n",
        "\n",
        "Recordar también que el atributo `pandas.DataFrame.values` permite acceder a la matriz de numpy subyacente a un DataFrame.\n"
      ]
    },
    {
      "cell_type": "markdown",
      "metadata": {
        "id": "ismngxPcfoWb"
      },
      "source": [
        "## Ejercicio 2: Imputación por KNN\n",
        " \n",
        "En el teórico se presentó el método `IterativeImputer` para imputar valores faltantes en variables numéricas. Sin embargo, los ejemplos presentados sólo utilizaban algunas variables numéricas presentes en el conjunto de datos. En este ejercicio, utilizaremos la matriz de datos codificada para imputar datos faltantes de manera más precisa.\n",
        " \n",
        "1. Agregue a la matriz obtenida en el punto anterior las columnas `YearBuilt` y `BuildingArea`.\n",
        "2. Aplique una instancia de `IterativeImputer` con un estimador `KNeighborsRegressor` para imputar los valores de las variables. ¿Es necesario estandarizar o escalar los datos previamente?\n",
        "3. Realice un gráfico mostrando la distribución de cada variable antes de ser imputada, y con ambos métodos de imputación."
      ]
    },
    {
      "cell_type": "code",
      "metadata": {
        "id": "G4ClSr_JapCw",
        "colab": {
          "base_uri": "https://localhost:8080/"
        },
        "outputId": "db1c0d1a-9d20-48bc-9b04-dcd231282098"
      },
      "source": [
        "from sklearn.experimental import enable_iterative_imputer\n",
        "from sklearn.neighbors import KNeighborsRegressor\n",
        "from sklearn.impute import IterativeImputer\n",
        "\n",
        "melb_data_mice = melb_df.copy(deep=True)\n",
        "\n",
        "mice_imputer = IterativeImputer(random_state=0, estimator=KNeighborsRegressor())\n",
        "melb_data_mice[['YearBuilt','BuildingArea']] = mice_imputer.fit_transform(\n",
        "    melb_data_mice[['YearBuilt', 'BuildingArea']])"
      ],
      "execution_count": 16,
      "outputs": [
        {
          "output_type": "stream",
          "text": [
            "/usr/local/lib/python3.7/dist-packages/sklearn/impute/_iterative.py:638: ConvergenceWarning: [IterativeImputer] Early stopping criterion not reached.\n",
            "  \" reached.\", ConvergenceWarning)\n"
          ],
          "name": "stderr"
        }
      ]
    },
    {
      "cell_type": "markdown",
      "metadata": {
        "id": "ImjXQZUbVoKH"
      },
      "source": [
        "Ejemplo de gráfico comparando las distribuciones de datos obtenidas con cada método de imputación."
      ]
    },
    {
      "cell_type": "code",
      "metadata": {
        "colab": {
          "base_uri": "https://localhost:8080/",
          "height": 355
        },
        "id": "PMK1ktqYQTJK",
        "outputId": "173667be-60eb-472f-d155-abadcfe89161"
      },
      "source": [
        "mice_year_built = melb_data_mice.YearBuilt.to_frame()\n",
        "mice_year_built['Imputation'] = 'KNN over YearBuilt and BuildingArea'\n",
        "melb_year_build = melb_df.YearBuilt.dropna().to_frame()\n",
        "melb_year_build['Imputation'] = 'Original'\n",
        "data = pandas.concat([mice_year_built, melb_year_build])\n",
        "fig = plt.figure(figsize=(8, 5))\n",
        "g = seaborn.kdeplot(data=data, x='YearBuilt', hue='Imputation')"
      ],
      "execution_count": 17,
      "outputs": [
        {
          "output_type": "display_data",
          "data": {
            "image/png": "[encoded data removed]",
            "text/plain": [
              "<Figure size 576x360 with 1 Axes>"
            ]
          },
          "metadata": {
            "tags": [],
            "needs_background": "light"
          }
        }
      ]
    },
    {
      "cell_type": "markdown",
      "metadata": {
        "id": "NBN7-5OIxjJW"
      },
      "source": [
        "## Ejercicio 3: Reducción de dimensionalidad.\n",
        " \n",
        "Utilizando la matriz obtenida en el ejercicio anterior:\n",
        "1. Aplique `PCA` para obtener $n$ componentes principales de la matriz, donde `n = min(20, X.shape[0])`. ¿Es necesario estandarizar o escalar los datos?\n",
        "2. Grafique la varianza capturada por los primeros $n$ componentes principales, para cada $n$.\n",
        "3. En base al gráfico, seleccione las primeras $m$ columnas de la matriz transformada para agregar como nuevas características al conjunto de datos."
      ]
    },
    {
      "cell_type": "markdown",
      "metadata": {
        "id": "VwhCdDrQPIGJ"
      },
      "source": [
        "### Estandarizar los datos\n",
        "\n",
        "El PCA se ve afectado por la escala, por lo que debe escalar las características de sus datos antes de aplicar el PCA. La estandarización es una normalización estandar: aplicar la función Z-score a los datos.\n",
        "\n",
        "Se utiliza *StandardScaler* para estandarizar las características del conjunto de datos en la escala de la unidad ($(\\mu,\\sigma) = (0,1)$) que es un requisito para el rendimiento óptimo de muchos algoritmos de aprendizaje automático. \n",
        "\n",
        "Para ver el efecto negativo que puede tener no escalar tus datos, scikit-learn tiene una sección sobre los efectos de no estandarizar tus datos [1](https://scikit-learn.org/stable/auto_examples/preprocessing/plot_scaling_importance.html#sphx-glr-auto-examples-preprocessing-plot-scaling-importance-py)."
      ]
    },
    {
      "cell_type": "markdown",
      "metadata": {
        "id": "WrZTYmG_ZyDy"
      },
      "source": [
        "## Ejercicio 4: Composición del resultado\n",
        " \n",
        "Transformar nuevamente el conjunto de datos procesado en un `pandas.DataFrame` y guardarlo en un archivo.\n",
        " \n",
        "Para eso, será necesario recordar el nombre original de cada columna de la matriz, en el orden correcto. Tener en cuenta:\n",
        "1. El método `OneHotEncoder.get_feature_names` o el atributo `OneHotEncoder.categories_` permiten obtener una lista con los valores de la categoría que le corresponde a cada índice de la matriz.\n",
        "2. Ninguno de los métodos aplicados intercambia de lugar las columnas o las filas de la matriz."
      ]
    },
    {
      "cell_type": "code",
      "metadata": {
        "id": "DfchYPgTxvQ4",
        "colab": {
          "base_uri": "https://localhost:8080/",
          "height": 292
        },
        "outputId": "46914361-bbc8-45f1-f679-e7ccda3f033c"
      },
      "source": [
        "## Small example\n",
        "from sklearn.decomposition import PCA\n",
        "from sklearn.preprocessing import OneHotEncoder\n",
        "\n",
        "## If we process our data with the following steps:\n",
        "categorical_cols = ['Type', 'Regionname']\n",
        "numerical_cols = ['Rooms', 'Car']\n",
        "new_columns = []\n",
        "\n",
        "# Step 1: encode categorical columns\n",
        "encoder = OneHotEncoder(handle_unknown='ignore', sparse=False)\n",
        "X_cat = encoder.fit_transform(melb_df[categorical_cols])\n",
        "for col, col_values in zip(categorical_cols, encoder.categories_):\n",
        "  for col_value in col_values:\n",
        "    new_columns.append('{}={}'.format(col, col_value))\n",
        "print(\"Matrix has shape {}, with columns: {}\".format(X_cat.shape, new_columns))\n",
        "\n",
        "# Step 2: Append the numerical columns\n",
        "X = numpy.hstack([X_cat, melb_df[numerical_cols].values])\n",
        "new_columns.extend(numerical_cols)\n",
        "print(\"Matrix has shape {}, with columns: {}\".format(X_cat.shape, new_columns))\n",
        "\n",
        "# Step 3: Append some new features, like PCA\n",
        "pca = PCA(n_components=2)\n",
        "pca_dummy_features = pca.fit_transform(X)\n",
        "X_pca = numpy.hstack([X, pca_dummy_features])\n",
        "new_columns.extend(['pca1', 'pca2'])\n",
        "\n",
        "## Re-build dataframe\n",
        "processed_melb_df = pandas.DataFrame(data=X_pca, columns=new_columns)\n",
        "processed_melb_df.head()\n"
      ],
      "execution_count": 18,
      "outputs": [
        {
          "output_type": "stream",
          "text": [
            "Matrix has shape (12342, 11), with columns: ['Type=h', 'Type=t', 'Type=u', 'Regionname=Eastern Metropolitan', 'Regionname=Eastern Victoria', 'Regionname=Northern Metropolitan', 'Regionname=Northern Victoria', 'Regionname=South-Eastern Metropolitan', 'Regionname=Southern Metropolitan', 'Regionname=Western Metropolitan', 'Regionname=Western Victoria']\n",
            "Matrix has shape (12342, 11), with columns: ['Type=h', 'Type=t', 'Type=u', 'Regionname=Eastern Metropolitan', 'Regionname=Eastern Victoria', 'Regionname=Northern Metropolitan', 'Regionname=Northern Victoria', 'Regionname=South-Eastern Metropolitan', 'Regionname=Southern Metropolitan', 'Regionname=Western Metropolitan', 'Regionname=Western Victoria', 'Rooms', 'Car']\n"
          ],
          "name": "stdout"
        },
        {
          "output_type": "execute_result",
          "data": {
            "text/html": [
              "<div>\n",
              "<style scoped>\n",
              "    .dataframe tbody tr th:only-of-type {\n",
              "        vertical-align: middle;\n",
              "    }\n",
              "\n",
              "    .dataframe tbody tr th {\n",
              "        vertical-align: top;\n",
              "    }\n",
              "\n",
              "    .dataframe thead th {\n",
              "        text-align: right;\n",
              "    }\n",
              "</style>\n",
              "<table border=\"1\" class=\"dataframe\">\n",
              "  <thead>\n",
              "    <tr style=\"text-align: right;\">\n",
              "      <th></th>\n",
              "      <th>Type=h</th>\n",
              "      <th>Type=t</th>\n",
              "      <th>Type=u</th>\n",
              "      <th>Regionname=Eastern Metropolitan</th>\n",
              "      <th>Regionname=Eastern Victoria</th>\n",
              "      <th>Regionname=Northern Metropolitan</th>\n",
              "      <th>Regionname=Northern Victoria</th>\n",
              "      <th>Regionname=South-Eastern Metropolitan</th>\n",
              "      <th>Regionname=Southern Metropolitan</th>\n",
              "      <th>Regionname=Western Metropolitan</th>\n",
              "      <th>Regionname=Western Victoria</th>\n",
              "      <th>Rooms</th>\n",
              "      <th>Car</th>\n",
              "      <th>pca1</th>\n",
              "      <th>pca2</th>\n",
              "    </tr>\n",
              "  </thead>\n",
              "  <tbody>\n",
              "    <tr>\n",
              "      <th>0</th>\n",
              "      <td>1.0</td>\n",
              "      <td>0.0</td>\n",
              "      <td>0.0</td>\n",
              "      <td>0.0</td>\n",
              "      <td>0.0</td>\n",
              "      <td>1.0</td>\n",
              "      <td>0.0</td>\n",
              "      <td>0.0</td>\n",
              "      <td>0.0</td>\n",
              "      <td>0.0</td>\n",
              "      <td>0.0</td>\n",
              "      <td>2.0</td>\n",
              "      <td>1.0</td>\n",
              "      <td>-0.858633</td>\n",
              "      <td>-0.164382</td>\n",
              "    </tr>\n",
              "    <tr>\n",
              "      <th>1</th>\n",
              "      <td>1.0</td>\n",
              "      <td>0.0</td>\n",
              "      <td>0.0</td>\n",
              "      <td>0.0</td>\n",
              "      <td>0.0</td>\n",
              "      <td>1.0</td>\n",
              "      <td>0.0</td>\n",
              "      <td>0.0</td>\n",
              "      <td>0.0</td>\n",
              "      <td>0.0</td>\n",
              "      <td>0.0</td>\n",
              "      <td>2.0</td>\n",
              "      <td>0.0</td>\n",
              "      <td>-1.498014</td>\n",
              "      <td>-0.924825</td>\n",
              "    </tr>\n",
              "    <tr>\n",
              "      <th>2</th>\n",
              "      <td>1.0</td>\n",
              "      <td>0.0</td>\n",
              "      <td>0.0</td>\n",
              "      <td>0.0</td>\n",
              "      <td>0.0</td>\n",
              "      <td>1.0</td>\n",
              "      <td>0.0</td>\n",
              "      <td>0.0</td>\n",
              "      <td>0.0</td>\n",
              "      <td>0.0</td>\n",
              "      <td>0.0</td>\n",
              "      <td>3.0</td>\n",
              "      <td>0.0</td>\n",
              "      <td>-0.809123</td>\n",
              "      <td>-1.460706</td>\n",
              "    </tr>\n",
              "    <tr>\n",
              "      <th>3</th>\n",
              "      <td>1.0</td>\n",
              "      <td>0.0</td>\n",
              "      <td>0.0</td>\n",
              "      <td>0.0</td>\n",
              "      <td>0.0</td>\n",
              "      <td>1.0</td>\n",
              "      <td>0.0</td>\n",
              "      <td>0.0</td>\n",
              "      <td>0.0</td>\n",
              "      <td>0.0</td>\n",
              "      <td>0.0</td>\n",
              "      <td>3.0</td>\n",
              "      <td>1.0</td>\n",
              "      <td>-0.169742</td>\n",
              "      <td>-0.700263</td>\n",
              "    </tr>\n",
              "    <tr>\n",
              "      <th>4</th>\n",
              "      <td>1.0</td>\n",
              "      <td>0.0</td>\n",
              "      <td>0.0</td>\n",
              "      <td>0.0</td>\n",
              "      <td>0.0</td>\n",
              "      <td>1.0</td>\n",
              "      <td>0.0</td>\n",
              "      <td>0.0</td>\n",
              "      <td>0.0</td>\n",
              "      <td>0.0</td>\n",
              "      <td>0.0</td>\n",
              "      <td>4.0</td>\n",
              "      <td>2.0</td>\n",
              "      <td>1.158530</td>\n",
              "      <td>-0.475701</td>\n",
              "    </tr>\n",
              "  </tbody>\n",
              "</table>\n",
              "</div>"
            ],
            "text/plain": [
              "   Type=h  Type=t  Type=u  ...  Car      pca1      pca2\n",
              "0     1.0     0.0     0.0  ...  1.0 -0.858633 -0.164382\n",
              "1     1.0     0.0     0.0  ...  0.0 -1.498014 -0.924825\n",
              "2     1.0     0.0     0.0  ...  0.0 -0.809123 -1.460706\n",
              "3     1.0     0.0     0.0  ...  1.0 -0.169742 -0.700263\n",
              "4     1.0     0.0     0.0  ...  2.0  1.158530 -0.475701\n",
              "\n",
              "[5 rows x 15 columns]"
            ]
          },
          "metadata": {
            "tags": []
          },
          "execution_count": 18
        }
      ]
    },
    {
      "cell_type": "markdown",
      "metadata": {
        "id": "mVBLFc8PhRtW"
      },
      "source": [
        "## Ejercicio 5: Documentación\n",
        " \n",
        "En un documento `.pdf` o `.md` realizar un reporte de las operaciones que realizaron para obtener el conjunto de datos final. Se debe incluir:\n",
        "  1. Criterios de exclusión (o inclusión) de filas\n",
        "  2. Interpretación de las columnas presentes\n",
        "  2. Todas las transofrmaciones realizadas\n",
        " \n",
        "Este documento es de uso técnico exclusivamente, y su objetivo es permitir que otres desarrolladores puedan reproducir los mismos pasos y obtener el mismo resultado. Debe ser detallado pero consiso. Por ejemplo:\n",
        " \n",
        "```\n",
        "  ## Criterios de exclusión de ejemplos\n",
        "  1. Se eliminan ejemplos donde el año de construcción es previo a 1900\n",
        " \n",
        "  ## Características seleccionadas\n",
        "  ### Características categóricas\n",
        "  1. Type: tipo de propiedad. 3 valores posibles\n",
        "  2. ...\n",
        "  Todas las características categóricas fueron codificadas con un\n",
        "  método OneHotEncoding utilizando como máximo sus 30 valores más \n",
        "  frecuentes.\n",
        "  \n",
        "  ### Características numéricas\n",
        "  1. Rooms: Cantidad de habitaciones\n",
        "  2. Distance: Distancia al centro de la ciudad.\n",
        "  3. airbnb_mean_price: Se agrega el precio promedio diario de \n",
        "     publicaciones de la plataforma AirBnB en el mismo código \n",
        "     postal. [Link al repositorio con datos externos].\n",
        " \n",
        "  ### Transformaciones:\n",
        "  1. Todas las características numéricas fueron estandarizadas.\n",
        "  2. La columna `Suburb` fue imputada utilizando el método ...\n",
        "  3. Las columnas `YearBuilt` y ... fueron imputadas utilizando el \n",
        "     algoritmo ...\n",
        "  4. ...\n",
        " \n",
        "  ### Datos aumentados\n",
        "  1. Se agregan las 5 primeras columnas obtenidas a través del\n",
        "     método de PCA, aplicado sobre el conjunto de datos\n",
        "     totalmente procesado.\n",
        "```"
      ]
    },
    {
      "cell_type": "markdown",
      "metadata": {
        "id": "ghQ50nILuwqx"
      },
      "source": [
        "#Resolución"
      ]
    },
    {
      "cell_type": "markdown",
      "metadata": {
        "id": "UdsBlfFhu6-A"
      },
      "source": [
        "## Ejercicio 1: Encoding\n",
        "\n",
        "\n"
      ]
    },
    {
      "cell_type": "markdown",
      "metadata": {
        "id": "XXgUSpKEvOtZ"
      },
      "source": [
        "###1.1 Seleccion de todas las filas y columnas excepto BuildingArea y YearBuilt"
      ]
    },
    {
      "cell_type": "code",
      "metadata": {
        "colab": {
          "base_uri": "https://localhost:8080/",
          "height": 142
        },
        "id": "0S0-20UyylaW",
        "outputId": "9776d8ff-7681-40d3-f903-de64bc23b762"
      },
      "source": [
        "#Inspeccionamos nuestro conjunto de datos\n",
        "melb_df.head(3)"
      ],
      "execution_count": 19,
      "outputs": [
        {
          "output_type": "execute_result",
          "data": {
            "text/html": [
              "<div>\n",
              "<style scoped>\n",
              "    .dataframe tbody tr th:only-of-type {\n",
              "        vertical-align: middle;\n",
              "    }\n",
              "\n",
              "    .dataframe tbody tr th {\n",
              "        vertical-align: top;\n",
              "    }\n",
              "\n",
              "    .dataframe thead th {\n",
              "        text-align: right;\n",
              "    }\n",
              "</style>\n",
              "<table border=\"1\" class=\"dataframe\">\n",
              "  <thead>\n",
              "    <tr style=\"text-align: right;\">\n",
              "      <th></th>\n",
              "      <th>Suburb</th>\n",
              "      <th>Rooms</th>\n",
              "      <th>Type</th>\n",
              "      <th>Price</th>\n",
              "      <th>Method</th>\n",
              "      <th>Postcode</th>\n",
              "      <th>Bathroom</th>\n",
              "      <th>Car</th>\n",
              "      <th>Landsize</th>\n",
              "      <th>BuildingArea</th>\n",
              "      <th>YearBuilt</th>\n",
              "      <th>CouncilArea</th>\n",
              "      <th>Lattitude</th>\n",
              "      <th>Longtitude</th>\n",
              "      <th>Regionname</th>\n",
              "      <th>Postcode_Agrupado</th>\n",
              "      <th>Airbnb_Price</th>\n",
              "    </tr>\n",
              "  </thead>\n",
              "  <tbody>\n",
              "    <tr>\n",
              "      <th>0</th>\n",
              "      <td>Abbotsford</td>\n",
              "      <td>2</td>\n",
              "      <td>h</td>\n",
              "      <td>1480000.0</td>\n",
              "      <td>S</td>\n",
              "      <td>3067</td>\n",
              "      <td>1</td>\n",
              "      <td>1</td>\n",
              "      <td>202.0</td>\n",
              "      <td>NaN</td>\n",
              "      <td>NaN</td>\n",
              "      <td>Yarra</td>\n",
              "      <td>-37.7996</td>\n",
              "      <td>144.9984</td>\n",
              "      <td>Northern Metropolitan</td>\n",
              "      <td>3099.0</td>\n",
              "      <td>130.62402</td>\n",
              "    </tr>\n",
              "    <tr>\n",
              "      <th>1</th>\n",
              "      <td>Abbotsford</td>\n",
              "      <td>2</td>\n",
              "      <td>h</td>\n",
              "      <td>1035000.0</td>\n",
              "      <td>S</td>\n",
              "      <td>3067</td>\n",
              "      <td>1</td>\n",
              "      <td>0</td>\n",
              "      <td>156.0</td>\n",
              "      <td>79.0</td>\n",
              "      <td>1900.0</td>\n",
              "      <td>Yarra</td>\n",
              "      <td>-37.8079</td>\n",
              "      <td>144.9934</td>\n",
              "      <td>Northern Metropolitan</td>\n",
              "      <td>3099.0</td>\n",
              "      <td>130.62402</td>\n",
              "    </tr>\n",
              "    <tr>\n",
              "      <th>2</th>\n",
              "      <td>Abbotsford</td>\n",
              "      <td>3</td>\n",
              "      <td>h</td>\n",
              "      <td>1465000.0</td>\n",
              "      <td>SP</td>\n",
              "      <td>3067</td>\n",
              "      <td>2</td>\n",
              "      <td>0</td>\n",
              "      <td>134.0</td>\n",
              "      <td>150.0</td>\n",
              "      <td>1900.0</td>\n",
              "      <td>Yarra</td>\n",
              "      <td>-37.8093</td>\n",
              "      <td>144.9944</td>\n",
              "      <td>Northern Metropolitan</td>\n",
              "      <td>3099.0</td>\n",
              "      <td>130.62402</td>\n",
              "    </tr>\n",
              "  </tbody>\n",
              "</table>\n",
              "</div>"
            ],
            "text/plain": [
              "       Suburb  Rooms  ... Postcode_Agrupado  Airbnb_Price\n",
              "0  Abbotsford      2  ...            3099.0     130.62402\n",
              "1  Abbotsford      2  ...            3099.0     130.62402\n",
              "2  Abbotsford      3  ...            3099.0     130.62402\n",
              "\n",
              "[3 rows x 17 columns]"
            ]
          },
          "metadata": {
            "tags": []
          },
          "execution_count": 19
        }
      ]
    },
    {
      "cell_type": "code",
      "metadata": {
        "colab": {
          "base_uri": "https://localhost:8080/"
        },
        "id": "uhm3JCAao-Bi",
        "outputId": "fcb0b8b4-9e97-4f38-b238-0d65492a38f8"
      },
      "source": [
        "melb_df.isna().sum()"
      ],
      "execution_count": 20,
      "outputs": [
        {
          "output_type": "execute_result",
          "data": {
            "text/plain": [
              "Suburb                  0\n",
              "Rooms                   0\n",
              "Type                    0\n",
              "Price                   0\n",
              "Method                  0\n",
              "Postcode                0\n",
              "Bathroom                0\n",
              "Car                     0\n",
              "Landsize                0\n",
              "BuildingArea         6010\n",
              "YearBuilt            4991\n",
              "CouncilArea             7\n",
              "Lattitude               0\n",
              "Longtitude              0\n",
              "Regionname              0\n",
              "Postcode_Agrupado       0\n",
              "Airbnb_Price           26\n",
              "dtype: int64"
            ]
          },
          "metadata": {
            "tags": []
          },
          "execution_count": 20
        }
      ]
    },
    {
      "cell_type": "code",
      "metadata": {
        "id": "ORLf_Jq9QmiT"
      },
      "source": [
        "#Le quitamos las filas que tienen Nan para las columnas de CouncilArea y Airbnb_Price\n",
        "melb_df_na = melb_df.dropna(subset=['CouncilArea', 'Airbnb_Price'])  # Esto se podria hacer al final del entregable 1"
      ],
      "execution_count": 21,
      "outputs": []
    },
    {
      "cell_type": "code",
      "metadata": {
        "colab": {
          "base_uri": "https://localhost:8080/",
          "height": 419
        },
        "id": "nJ-GsqWuvZ-r",
        "outputId": "85831995-b6f8-4f57-9b7d-1f7b71ca7d9c"
      },
      "source": [
        "#Excluimos las columnas de BuildingArea y YearBuilt siguiendo el enunciado.\n",
        "excepcion = ['BuildingArea','YearBuilt']\n",
        "col = melb_df_na.columns.isin(excepcion)\n",
        "\n",
        "#Crea data frame con todas las columnas menos BuildingArea y YearBuilt\n",
        "df_filt=melb_df_na.loc[:,~col]   \n",
        "df_filt"
      ],
      "execution_count": 22,
      "outputs": [
        {
          "output_type": "execute_result",
          "data": {
            "text/html": [
              "<div>\n",
              "<style scoped>\n",
              "    .dataframe tbody tr th:only-of-type {\n",
              "        vertical-align: middle;\n",
              "    }\n",
              "\n",
              "    .dataframe tbody tr th {\n",
              "        vertical-align: top;\n",
              "    }\n",
              "\n",
              "    .dataframe thead th {\n",
              "        text-align: right;\n",
              "    }\n",
              "</style>\n",
              "<table border=\"1\" class=\"dataframe\">\n",
              "  <thead>\n",
              "    <tr style=\"text-align: right;\">\n",
              "      <th></th>\n",
              "      <th>Suburb</th>\n",
              "      <th>Rooms</th>\n",
              "      <th>Type</th>\n",
              "      <th>Price</th>\n",
              "      <th>Method</th>\n",
              "      <th>Postcode</th>\n",
              "      <th>Bathroom</th>\n",
              "      <th>Car</th>\n",
              "      <th>Landsize</th>\n",
              "      <th>CouncilArea</th>\n",
              "      <th>Lattitude</th>\n",
              "      <th>Longtitude</th>\n",
              "      <th>Regionname</th>\n",
              "      <th>Postcode_Agrupado</th>\n",
              "      <th>Airbnb_Price</th>\n",
              "    </tr>\n",
              "  </thead>\n",
              "  <tbody>\n",
              "    <tr>\n",
              "      <th>0</th>\n",
              "      <td>Abbotsford</td>\n",
              "      <td>2</td>\n",
              "      <td>h</td>\n",
              "      <td>1480000.0</td>\n",
              "      <td>S</td>\n",
              "      <td>3067</td>\n",
              "      <td>1</td>\n",
              "      <td>1</td>\n",
              "      <td>202.0</td>\n",
              "      <td>Yarra</td>\n",
              "      <td>-37.79960</td>\n",
              "      <td>144.99840</td>\n",
              "      <td>Northern Metropolitan</td>\n",
              "      <td>3099.0</td>\n",
              "      <td>130.62402</td>\n",
              "    </tr>\n",
              "    <tr>\n",
              "      <th>1</th>\n",
              "      <td>Abbotsford</td>\n",
              "      <td>2</td>\n",
              "      <td>h</td>\n",
              "      <td>1035000.0</td>\n",
              "      <td>S</td>\n",
              "      <td>3067</td>\n",
              "      <td>1</td>\n",
              "      <td>0</td>\n",
              "      <td>156.0</td>\n",
              "      <td>Yarra</td>\n",
              "      <td>-37.80790</td>\n",
              "      <td>144.99340</td>\n",
              "      <td>Northern Metropolitan</td>\n",
              "      <td>3099.0</td>\n",
              "      <td>130.62402</td>\n",
              "    </tr>\n",
              "    <tr>\n",
              "      <th>2</th>\n",
              "      <td>Abbotsford</td>\n",
              "      <td>3</td>\n",
              "      <td>h</td>\n",
              "      <td>1465000.0</td>\n",
              "      <td>SP</td>\n",
              "      <td>3067</td>\n",
              "      <td>2</td>\n",
              "      <td>0</td>\n",
              "      <td>134.0</td>\n",
              "      <td>Yarra</td>\n",
              "      <td>-37.80930</td>\n",
              "      <td>144.99440</td>\n",
              "      <td>Northern Metropolitan</td>\n",
              "      <td>3099.0</td>\n",
              "      <td>130.62402</td>\n",
              "    </tr>\n",
              "    <tr>\n",
              "      <th>3</th>\n",
              "      <td>Abbotsford</td>\n",
              "      <td>3</td>\n",
              "      <td>h</td>\n",
              "      <td>850000.0</td>\n",
              "      <td>PI</td>\n",
              "      <td>3067</td>\n",
              "      <td>2</td>\n",
              "      <td>1</td>\n",
              "      <td>94.0</td>\n",
              "      <td>Yarra</td>\n",
              "      <td>-37.79690</td>\n",
              "      <td>144.99690</td>\n",
              "      <td>Northern Metropolitan</td>\n",
              "      <td>3099.0</td>\n",
              "      <td>130.62402</td>\n",
              "    </tr>\n",
              "    <tr>\n",
              "      <th>4</th>\n",
              "      <td>Abbotsford</td>\n",
              "      <td>4</td>\n",
              "      <td>h</td>\n",
              "      <td>1600000.0</td>\n",
              "      <td>VB</td>\n",
              "      <td>3067</td>\n",
              "      <td>1</td>\n",
              "      <td>2</td>\n",
              "      <td>120.0</td>\n",
              "      <td>Yarra</td>\n",
              "      <td>-37.80720</td>\n",
              "      <td>144.99410</td>\n",
              "      <td>Northern Metropolitan</td>\n",
              "      <td>3099.0</td>\n",
              "      <td>130.62402</td>\n",
              "    </tr>\n",
              "    <tr>\n",
              "      <th>...</th>\n",
              "      <td>...</td>\n",
              "      <td>...</td>\n",
              "      <td>...</td>\n",
              "      <td>...</td>\n",
              "      <td>...</td>\n",
              "      <td>...</td>\n",
              "      <td>...</td>\n",
              "      <td>...</td>\n",
              "      <td>...</td>\n",
              "      <td>...</td>\n",
              "      <td>...</td>\n",
              "      <td>...</td>\n",
              "      <td>...</td>\n",
              "      <td>...</td>\n",
              "      <td>...</td>\n",
              "    </tr>\n",
              "    <tr>\n",
              "      <th>12337</th>\n",
              "      <td>Westmeadows</td>\n",
              "      <td>3</td>\n",
              "      <td>h</td>\n",
              "      <td>582000.0</td>\n",
              "      <td>S</td>\n",
              "      <td>3049</td>\n",
              "      <td>2</td>\n",
              "      <td>2</td>\n",
              "      <td>256.0</td>\n",
              "      <td>Hume</td>\n",
              "      <td>-37.67917</td>\n",
              "      <td>144.89390</td>\n",
              "      <td>Northern Metropolitan</td>\n",
              "      <td>3099.0</td>\n",
              "      <td>92.28571</td>\n",
              "    </tr>\n",
              "    <tr>\n",
              "      <th>12338</th>\n",
              "      <td>Wheelers Hill</td>\n",
              "      <td>4</td>\n",
              "      <td>h</td>\n",
              "      <td>1245000.0</td>\n",
              "      <td>S</td>\n",
              "      <td>3150</td>\n",
              "      <td>2</td>\n",
              "      <td>2</td>\n",
              "      <td>652.0</td>\n",
              "      <td>Monash</td>\n",
              "      <td>-37.90562</td>\n",
              "      <td>145.16761</td>\n",
              "      <td>South-Eastern Metropolitan</td>\n",
              "      <td>3199.0</td>\n",
              "      <td>124.02646</td>\n",
              "    </tr>\n",
              "    <tr>\n",
              "      <th>12339</th>\n",
              "      <td>Williamstown</td>\n",
              "      <td>3</td>\n",
              "      <td>h</td>\n",
              "      <td>1031000.0</td>\n",
              "      <td>SP</td>\n",
              "      <td>3016</td>\n",
              "      <td>2</td>\n",
              "      <td>2</td>\n",
              "      <td>333.0</td>\n",
              "      <td>Hobsons Bay</td>\n",
              "      <td>-37.85927</td>\n",
              "      <td>144.87904</td>\n",
              "      <td>Western Metropolitan</td>\n",
              "      <td>3099.0</td>\n",
              "      <td>191.09459</td>\n",
              "    </tr>\n",
              "    <tr>\n",
              "      <th>12340</th>\n",
              "      <td>Williamstown</td>\n",
              "      <td>3</td>\n",
              "      <td>h</td>\n",
              "      <td>1170000.0</td>\n",
              "      <td>S</td>\n",
              "      <td>3016</td>\n",
              "      <td>2</td>\n",
              "      <td>4</td>\n",
              "      <td>436.0</td>\n",
              "      <td>Hobsons Bay</td>\n",
              "      <td>-37.85274</td>\n",
              "      <td>144.88738</td>\n",
              "      <td>Western Metropolitan</td>\n",
              "      <td>3099.0</td>\n",
              "      <td>191.09459</td>\n",
              "    </tr>\n",
              "    <tr>\n",
              "      <th>12341</th>\n",
              "      <td>Yarraville</td>\n",
              "      <td>4</td>\n",
              "      <td>h</td>\n",
              "      <td>1285000.0</td>\n",
              "      <td>SP</td>\n",
              "      <td>3013</td>\n",
              "      <td>1</td>\n",
              "      <td>1</td>\n",
              "      <td>362.0</td>\n",
              "      <td>Maribyrnong</td>\n",
              "      <td>-37.81188</td>\n",
              "      <td>144.88449</td>\n",
              "      <td>Western Metropolitan</td>\n",
              "      <td>3099.0</td>\n",
              "      <td>135.60976</td>\n",
              "    </tr>\n",
              "  </tbody>\n",
              "</table>\n",
              "<p>12311 rows × 15 columns</p>\n",
              "</div>"
            ],
            "text/plain": [
              "              Suburb  Rooms  ... Postcode_Agrupado  Airbnb_Price\n",
              "0         Abbotsford      2  ...            3099.0     130.62402\n",
              "1         Abbotsford      2  ...            3099.0     130.62402\n",
              "2         Abbotsford      3  ...            3099.0     130.62402\n",
              "3         Abbotsford      3  ...            3099.0     130.62402\n",
              "4         Abbotsford      4  ...            3099.0     130.62402\n",
              "...              ...    ...  ...               ...           ...\n",
              "12337    Westmeadows      3  ...            3099.0      92.28571\n",
              "12338  Wheelers Hill      4  ...            3199.0     124.02646\n",
              "12339   Williamstown      3  ...            3099.0     191.09459\n",
              "12340   Williamstown      3  ...            3099.0     191.09459\n",
              "12341     Yarraville      4  ...            3099.0     135.60976\n",
              "\n",
              "[12311 rows x 15 columns]"
            ]
          },
          "metadata": {
            "tags": []
          },
          "execution_count": 22
        }
      ]
    },
    {
      "cell_type": "code",
      "metadata": {
        "colab": {
          "base_uri": "https://localhost:8080/"
        },
        "id": "QjLOXdnW_hcp",
        "outputId": "4f717103-df73-4151-b721-e4408cf7478b"
      },
      "source": [
        "#Verifico que se hayan eliminado los Nan en el conjunto de datos (también observo que las columnas YearBuilt y BuildingArea ya no estan)\n",
        "df_filt.isna().sum()"
      ],
      "execution_count": 23,
      "outputs": [
        {
          "output_type": "execute_result",
          "data": {
            "text/plain": [
              "Suburb               0\n",
              "Rooms                0\n",
              "Type                 0\n",
              "Price                0\n",
              "Method               0\n",
              "Postcode             0\n",
              "Bathroom             0\n",
              "Car                  0\n",
              "Landsize             0\n",
              "CouncilArea          0\n",
              "Lattitude            0\n",
              "Longtitude           0\n",
              "Regionname           0\n",
              "Postcode_Agrupado    0\n",
              "Airbnb_Price         0\n",
              "dtype: int64"
            ]
          },
          "metadata": {
            "tags": []
          },
          "execution_count": 23
        }
      ]
    },
    {
      "cell_type": "markdown",
      "metadata": {
        "id": "Bq7nuPg2HIYx"
      },
      "source": [
        "###1.2. Aplicar una codificación One-hot encoding a cada fila, tanto para variables numéricas como categóricas. Si lo consideran necesario, pueden volver a reducir el número de categorías únicas.\n",
        "\n",
        "Algunas opciones:\n",
        "  1. Utilizar `OneHotEncoder` junto con el parámetro `categories` para las variables categóricas y luego usar `numpy.hstack` para concatenar el resultado con las variables numéricas. \n",
        "  2. `DictVectorizer` con algunos pasos de pre-proceso previo.\n",
        "\n",
        "Recordar también que el atributo `pandas.DataFrame.values` permite acceder a la matriz de numpy subyacente a un DataFrame."
      ]
    },
    {
      "cell_type": "markdown",
      "metadata": {
        "id": "pAGcPR8R0JqI"
      },
      "source": [
        "####Análisis del Conjunto de Datos"
      ]
    },
    {
      "cell_type": "code",
      "metadata": {
        "id": "nc8HdYCoyCh2"
      },
      "source": [
        "#Variables y sus tipos\n",
        "categorical_cols = ['Type','Method','CouncilArea','Regionname','Postcode_Agrupado']  #Revisar si queremos dejar Council Area\n",
        "discretas = ['Rooms','Bathroom','Car']\n",
        "continuas = ['Distance','Lattitude','Longtitude','BuildingArea', 'Landsize','Airbnb_Price' ]  "
      ],
      "execution_count": 24,
      "outputs": []
    },
    {
      "cell_type": "code",
      "metadata": {
        "colab": {
          "base_uri": "https://localhost:8080/"
        },
        "id": "oSNfW1BBJnV0",
        "outputId": "7fe8b542-4f30-427b-ddd3-f7f9eac7a544"
      },
      "source": [
        "#Ver valores unicos de cada Categoria\n",
        "df_filt[categorical_cols].nunique()"
      ],
      "execution_count": 25,
      "outputs": [
        {
          "output_type": "execute_result",
          "data": {
            "text/plain": [
              "Type                  3\n",
              "Method                5\n",
              "CouncilArea          30\n",
              "Regionname            8\n",
              "Postcode_Agrupado     8\n",
              "dtype: int64"
            ]
          },
          "metadata": {
            "tags": []
          },
          "execution_count": 25
        }
      ]
    },
    {
      "cell_type": "code",
      "metadata": {
        "colab": {
          "base_uri": "https://localhost:8080/"
        },
        "id": "XPDDOVHNNywn",
        "outputId": "cca9657e-61e7-477c-b6a5-ea95ee469834"
      },
      "source": [
        "# Chequear los Nulos\n",
        "df_filt[categorical_cols].isna().sum()"
      ],
      "execution_count": 26,
      "outputs": [
        {
          "output_type": "execute_result",
          "data": {
            "text/plain": [
              "Type                 0\n",
              "Method               0\n",
              "CouncilArea          0\n",
              "Regionname           0\n",
              "Postcode_Agrupado    0\n",
              "dtype: int64"
            ]
          },
          "metadata": {
            "tags": []
          },
          "execution_count": 26
        }
      ]
    },
    {
      "cell_type": "markdown",
      "metadata": {
        "id": "8XjUel_4OMmm"
      },
      "source": [
        "####Reducir el número de categorías únicas **CouncilArea**"
      ]
    },
    {
      "cell_type": "code",
      "metadata": {
        "id": "iIzjRMC9KlvT",
        "colab": {
          "base_uri": "https://localhost:8080/",
          "height": 0
        },
        "outputId": "a09cd02e-2be3-41c2-f94d-6de2cd017c04"
      },
      "source": [
        "#Agrupamiento por cantidad de Categorias deseadas\n",
        "#Si quiero dejar solo 15 categorias selecciono n=15\n",
        "\n",
        "n=15 #15 Categorias\n",
        "\n",
        "df=df_filt.copy()\n",
        "serie=df['CouncilArea']\n",
        "resumen=serie.value_counts()\n",
        "categorias=serie.unique()\n",
        "nva=resumen.nlargest(n)\n",
        "\n",
        "orden=[]\n",
        "a=[]\n",
        "dict={}\n",
        "\n",
        "if len(categorias)>n:\n",
        "  a=['Otros']\n",
        "\n",
        "for i in resumen.index:\n",
        "  if resumen.loc[i]<nva.iloc[-1]:\n",
        "    dict[i]='Otros'\n",
        "  else:\n",
        "    dict[i]=i\n",
        "    orden+=[i]\n",
        "\n",
        "orden=orden+a\n",
        "\n",
        "#Reemplazo de Columna\n",
        "df.loc[:,'CouncilArea']=df['CouncilArea'].replace(dict)\n",
        "\n",
        "#Grafico\n",
        "f,axs=plt.subplots(2,1,figsize=(18,16))\n",
        "cajas=seaborn.boxplot(data=df,x='CouncilArea',y='Price',ax=axs[0],order=orden)\n",
        "conteo=seaborn.countplot(data=df,x='CouncilArea',order=orden)\n",
        "conteo.set_xticklabels(conteo.get_xticklabels(),rotation=20,horizontalalignment='right')\n",
        "cajas.set_xticklabels(cajas.get_xticklabels(),rotation=20, horizontalalignment='right')\n",
        "print()"
      ],
      "execution_count": 27,
      "outputs": [
        {
          "output_type": "stream",
          "text": [
            "\n"
          ],
          "name": "stdout"
        },
        {
          "output_type": "display_data",
          "data": {
            "image/png": "[encoded data removed]",
            "text/plain": [
              "<Figure size 1296x1152 with 2 Axes>"
            ]
          },
          "metadata": {
            "tags": [],
            "needs_background": "light"
          }
        }
      ]
    },
    {
      "cell_type": "code",
      "metadata": {
        "colab": {
          "base_uri": "https://localhost:8080/",
          "height": 0
        },
        "id": "XkEmWLsVQfaB",
        "outputId": "be6664b9-4e45-4921-e2e6-1c5b88ad3e00"
      },
      "source": [
        "#Otra opcion en agrupar categorias en Otros por % minimo de valores en la categoria\n",
        "#Si quiero quedarme con las categorias que tengan minimamente el 2% de los datos hago min=0.02\n",
        "\n",
        "min_=len(df_filt)*0.02 #Al menos 2% de los datos\n",
        "\n",
        "df=df_filt.copy()\n",
        "serie=df['CouncilArea']\n",
        "resumen=serie.value_counts()\n",
        "\n",
        "dicc={}\n",
        "orden=[]\n",
        "\n",
        "\n",
        "for i in resumen.index:\n",
        "  if resumen.loc[i]<min_:\n",
        "    dicc[i]='Otros'\n",
        "  else:\n",
        "    orden+=[i]\n",
        "    dicc[i]=i\n",
        "orden=orden+['Otros']\n",
        "\n",
        "#Reemplazo de Columna\n",
        "df.loc[:,'CouncilArea']=df['CouncilArea'].replace(dicc)\n",
        "\n",
        "#Grafico\n",
        "f,axs=plt.subplots(2,1,figsize=(18,16))\n",
        "cajas=seaborn.boxplot(data=df,x='CouncilArea',y='Price',ax=axs[0],order=orden)\n",
        "conteo=seaborn.countplot(data=df,x='CouncilArea',order=orden)\n",
        "conteo.set_xticklabels(conteo.get_xticklabels(),rotation=20,horizontalalignment='right')\n",
        "cajas.set_xticklabels(cajas.get_xticklabels(),rotation=20, horizontalalignment='right')\n",
        "print()\n"
      ],
      "execution_count": 28,
      "outputs": [
        {
          "output_type": "stream",
          "text": [
            "\n"
          ],
          "name": "stdout"
        },
        {
          "output_type": "display_data",
          "data": {
            "image/png": "[encoded data removed]",
            "text/plain": [
              "<Figure size 1296x1152 with 2 Axes>"
            ]
          },
          "metadata": {
            "tags": [],
            "needs_background": "light"
          }
        }
      ]
    },
    {
      "cell_type": "code",
      "metadata": {
        "colab": {
          "base_uri": "https://localhost:8080/"
        },
        "id": "Gp72-qbhYxPv",
        "outputId": "aba7a11a-f7c5-41b2-c4a9-8c2447be287a"
      },
      "source": [
        "#Verifico cuantos valores unicos quedaron para cada categoría luego del agrupamiento\n",
        "df[categorical_cols].nunique() #De 30 categorías para CouncilArea me quedaron 18"
      ],
      "execution_count": 29,
      "outputs": [
        {
          "output_type": "execute_result",
          "data": {
            "text/plain": [
              "Type                  3\n",
              "Method                5\n",
              "CouncilArea          19\n",
              "Regionname            8\n",
              "Postcode_Agrupado     8\n",
              "dtype: int64"
            ]
          },
          "metadata": {
            "tags": []
          },
          "execution_count": 29
        }
      ]
    },
    {
      "cell_type": "markdown",
      "metadata": {
        "id": "KM9Dc0CYk8kd"
      },
      "source": [
        "Al reducir la cantidad de Categorias de CouncilArea, la columna Otros se hace la más frecuente y no tiene mucho sentido, por lo que vamos a descartar council area por el momento."
      ]
    },
    {
      "cell_type": "markdown",
      "metadata": {
        "id": "0HXNfB2V763K"
      },
      "source": [
        " **Excluimos Price para no tenerla en cuenta para la imputaciones**"
      ]
    },
    {
      "cell_type": "code",
      "metadata": {
        "colab": {
          "base_uri": "https://localhost:8080/",
          "height": 0
        },
        "id": "D0Dolp8c75H9",
        "outputId": "d61c0476-1c74-4f0f-a393-29c2752bca72"
      },
      "source": [
        "excepcion = ['Price']\n",
        "col =df.columns.isin(excepcion)\n",
        "\n",
        "#Crea data frame con todas las columnas menos BuildingArea y YearBuilt\n",
        "df=df.loc[:,~col]   \n",
        "df"
      ],
      "execution_count": 30,
      "outputs": [
        {
          "output_type": "execute_result",
          "data": {
            "text/html": [
              "<div>\n",
              "<style scoped>\n",
              "    .dataframe tbody tr th:only-of-type {\n",
              "        vertical-align: middle;\n",
              "    }\n",
              "\n",
              "    .dataframe tbody tr th {\n",
              "        vertical-align: top;\n",
              "    }\n",
              "\n",
              "    .dataframe thead th {\n",
              "        text-align: right;\n",
              "    }\n",
              "</style>\n",
              "<table border=\"1\" class=\"dataframe\">\n",
              "  <thead>\n",
              "    <tr style=\"text-align: right;\">\n",
              "      <th></th>\n",
              "      <th>Suburb</th>\n",
              "      <th>Rooms</th>\n",
              "      <th>Type</th>\n",
              "      <th>Method</th>\n",
              "      <th>Postcode</th>\n",
              "      <th>Bathroom</th>\n",
              "      <th>Car</th>\n",
              "      <th>Landsize</th>\n",
              "      <th>CouncilArea</th>\n",
              "      <th>Lattitude</th>\n",
              "      <th>Longtitude</th>\n",
              "      <th>Regionname</th>\n",
              "      <th>Postcode_Agrupado</th>\n",
              "      <th>Airbnb_Price</th>\n",
              "    </tr>\n",
              "  </thead>\n",
              "  <tbody>\n",
              "    <tr>\n",
              "      <th>0</th>\n",
              "      <td>Abbotsford</td>\n",
              "      <td>2</td>\n",
              "      <td>h</td>\n",
              "      <td>S</td>\n",
              "      <td>3067</td>\n",
              "      <td>1</td>\n",
              "      <td>1</td>\n",
              "      <td>202.0</td>\n",
              "      <td>Yarra</td>\n",
              "      <td>-37.79960</td>\n",
              "      <td>144.99840</td>\n",
              "      <td>Northern Metropolitan</td>\n",
              "      <td>3099.0</td>\n",
              "      <td>130.62402</td>\n",
              "    </tr>\n",
              "    <tr>\n",
              "      <th>1</th>\n",
              "      <td>Abbotsford</td>\n",
              "      <td>2</td>\n",
              "      <td>h</td>\n",
              "      <td>S</td>\n",
              "      <td>3067</td>\n",
              "      <td>1</td>\n",
              "      <td>0</td>\n",
              "      <td>156.0</td>\n",
              "      <td>Yarra</td>\n",
              "      <td>-37.80790</td>\n",
              "      <td>144.99340</td>\n",
              "      <td>Northern Metropolitan</td>\n",
              "      <td>3099.0</td>\n",
              "      <td>130.62402</td>\n",
              "    </tr>\n",
              "    <tr>\n",
              "      <th>2</th>\n",
              "      <td>Abbotsford</td>\n",
              "      <td>3</td>\n",
              "      <td>h</td>\n",
              "      <td>SP</td>\n",
              "      <td>3067</td>\n",
              "      <td>2</td>\n",
              "      <td>0</td>\n",
              "      <td>134.0</td>\n",
              "      <td>Yarra</td>\n",
              "      <td>-37.80930</td>\n",
              "      <td>144.99440</td>\n",
              "      <td>Northern Metropolitan</td>\n",
              "      <td>3099.0</td>\n",
              "      <td>130.62402</td>\n",
              "    </tr>\n",
              "    <tr>\n",
              "      <th>3</th>\n",
              "      <td>Abbotsford</td>\n",
              "      <td>3</td>\n",
              "      <td>h</td>\n",
              "      <td>PI</td>\n",
              "      <td>3067</td>\n",
              "      <td>2</td>\n",
              "      <td>1</td>\n",
              "      <td>94.0</td>\n",
              "      <td>Yarra</td>\n",
              "      <td>-37.79690</td>\n",
              "      <td>144.99690</td>\n",
              "      <td>Northern Metropolitan</td>\n",
              "      <td>3099.0</td>\n",
              "      <td>130.62402</td>\n",
              "    </tr>\n",
              "    <tr>\n",
              "      <th>4</th>\n",
              "      <td>Abbotsford</td>\n",
              "      <td>4</td>\n",
              "      <td>h</td>\n",
              "      <td>VB</td>\n",
              "      <td>3067</td>\n",
              "      <td>1</td>\n",
              "      <td>2</td>\n",
              "      <td>120.0</td>\n",
              "      <td>Yarra</td>\n",
              "      <td>-37.80720</td>\n",
              "      <td>144.99410</td>\n",
              "      <td>Northern Metropolitan</td>\n",
              "      <td>3099.0</td>\n",
              "      <td>130.62402</td>\n",
              "    </tr>\n",
              "    <tr>\n",
              "      <th>...</th>\n",
              "      <td>...</td>\n",
              "      <td>...</td>\n",
              "      <td>...</td>\n",
              "      <td>...</td>\n",
              "      <td>...</td>\n",
              "      <td>...</td>\n",
              "      <td>...</td>\n",
              "      <td>...</td>\n",
              "      <td>...</td>\n",
              "      <td>...</td>\n",
              "      <td>...</td>\n",
              "      <td>...</td>\n",
              "      <td>...</td>\n",
              "      <td>...</td>\n",
              "    </tr>\n",
              "    <tr>\n",
              "      <th>12337</th>\n",
              "      <td>Westmeadows</td>\n",
              "      <td>3</td>\n",
              "      <td>h</td>\n",
              "      <td>S</td>\n",
              "      <td>3049</td>\n",
              "      <td>2</td>\n",
              "      <td>2</td>\n",
              "      <td>256.0</td>\n",
              "      <td>Otros</td>\n",
              "      <td>-37.67917</td>\n",
              "      <td>144.89390</td>\n",
              "      <td>Northern Metropolitan</td>\n",
              "      <td>3099.0</td>\n",
              "      <td>92.28571</td>\n",
              "    </tr>\n",
              "    <tr>\n",
              "      <th>12338</th>\n",
              "      <td>Wheelers Hill</td>\n",
              "      <td>4</td>\n",
              "      <td>h</td>\n",
              "      <td>S</td>\n",
              "      <td>3150</td>\n",
              "      <td>2</td>\n",
              "      <td>2</td>\n",
              "      <td>652.0</td>\n",
              "      <td>Monash</td>\n",
              "      <td>-37.90562</td>\n",
              "      <td>145.16761</td>\n",
              "      <td>South-Eastern Metropolitan</td>\n",
              "      <td>3199.0</td>\n",
              "      <td>124.02646</td>\n",
              "    </tr>\n",
              "    <tr>\n",
              "      <th>12339</th>\n",
              "      <td>Williamstown</td>\n",
              "      <td>3</td>\n",
              "      <td>h</td>\n",
              "      <td>SP</td>\n",
              "      <td>3016</td>\n",
              "      <td>2</td>\n",
              "      <td>2</td>\n",
              "      <td>333.0</td>\n",
              "      <td>Hobsons Bay</td>\n",
              "      <td>-37.85927</td>\n",
              "      <td>144.87904</td>\n",
              "      <td>Western Metropolitan</td>\n",
              "      <td>3099.0</td>\n",
              "      <td>191.09459</td>\n",
              "    </tr>\n",
              "    <tr>\n",
              "      <th>12340</th>\n",
              "      <td>Williamstown</td>\n",
              "      <td>3</td>\n",
              "      <td>h</td>\n",
              "      <td>S</td>\n",
              "      <td>3016</td>\n",
              "      <td>2</td>\n",
              "      <td>4</td>\n",
              "      <td>436.0</td>\n",
              "      <td>Hobsons Bay</td>\n",
              "      <td>-37.85274</td>\n",
              "      <td>144.88738</td>\n",
              "      <td>Western Metropolitan</td>\n",
              "      <td>3099.0</td>\n",
              "      <td>191.09459</td>\n",
              "    </tr>\n",
              "    <tr>\n",
              "      <th>12341</th>\n",
              "      <td>Yarraville</td>\n",
              "      <td>4</td>\n",
              "      <td>h</td>\n",
              "      <td>SP</td>\n",
              "      <td>3013</td>\n",
              "      <td>1</td>\n",
              "      <td>1</td>\n",
              "      <td>362.0</td>\n",
              "      <td>Maribyrnong</td>\n",
              "      <td>-37.81188</td>\n",
              "      <td>144.88449</td>\n",
              "      <td>Western Metropolitan</td>\n",
              "      <td>3099.0</td>\n",
              "      <td>135.60976</td>\n",
              "    </tr>\n",
              "  </tbody>\n",
              "</table>\n",
              "<p>12311 rows × 14 columns</p>\n",
              "</div>"
            ],
            "text/plain": [
              "              Suburb  Rooms  ... Postcode_Agrupado Airbnb_Price\n",
              "0         Abbotsford      2  ...            3099.0    130.62402\n",
              "1         Abbotsford      2  ...            3099.0    130.62402\n",
              "2         Abbotsford      3  ...            3099.0    130.62402\n",
              "3         Abbotsford      3  ...            3099.0    130.62402\n",
              "4         Abbotsford      4  ...            3099.0    130.62402\n",
              "...              ...    ...  ...               ...          ...\n",
              "12337    Westmeadows      3  ...            3099.0     92.28571\n",
              "12338  Wheelers Hill      4  ...            3199.0    124.02646\n",
              "12339   Williamstown      3  ...            3099.0    191.09459\n",
              "12340   Williamstown      3  ...            3099.0    191.09459\n",
              "12341     Yarraville      4  ...            3099.0    135.60976\n",
              "\n",
              "[12311 rows x 14 columns]"
            ]
          },
          "metadata": {
            "tags": []
          },
          "execution_count": 30
        }
      ]
    },
    {
      "cell_type": "markdown",
      "metadata": {
        "id": "p0eIND4Qlkd0"
      },
      "source": [
        "#### Encoding"
      ]
    },
    {
      "cell_type": "markdown",
      "metadata": {
        "id": "tZu3krAcHWqI"
      },
      "source": [
        "##### Usando get_dummies"
      ]
    },
    {
      "cell_type": "code",
      "metadata": {
        "colab": {
          "base_uri": "https://localhost:8080/",
          "height": 0
        },
        "id": "ZFu-XSm5aKEq",
        "outputId": "b90980d0-27d4-459a-f6c9-46afbc8ceaaf"
      },
      "source": [
        "# USANDO get_dummies\n",
        "categorical_cols=['Type','Method','Regionname','Postcode_Agrupado'] #Se descarto CouncilArea\n",
        "discretas=['Rooms','Bathroom','Car']\n",
        "continuas=[ 'Landsize','Airbnb_Price' ]\n",
        "\n",
        "#Obtención de DataFrame con variables categoricas expresadas como vectores de 1 y 0, más el resto de las varibles continuas\n",
        "dum_df = pandas.get_dummies(df[categorical_cols+discretas+continuas])\n",
        "dum_df"
      ],
      "execution_count": 31,
      "outputs": [
        {
          "output_type": "execute_result",
          "data": {
            "text/html": [
              "<div>\n",
              "<style scoped>\n",
              "    .dataframe tbody tr th:only-of-type {\n",
              "        vertical-align: middle;\n",
              "    }\n",
              "\n",
              "    .dataframe tbody tr th {\n",
              "        vertical-align: top;\n",
              "    }\n",
              "\n",
              "    .dataframe thead th {\n",
              "        text-align: right;\n",
              "    }\n",
              "</style>\n",
              "<table border=\"1\" class=\"dataframe\">\n",
              "  <thead>\n",
              "    <tr style=\"text-align: right;\">\n",
              "      <th></th>\n",
              "      <th>Rooms</th>\n",
              "      <th>Bathroom</th>\n",
              "      <th>Car</th>\n",
              "      <th>Landsize</th>\n",
              "      <th>Airbnb_Price</th>\n",
              "      <th>Type_h</th>\n",
              "      <th>Type_t</th>\n",
              "      <th>Type_u</th>\n",
              "      <th>Method_PI</th>\n",
              "      <th>Method_S</th>\n",
              "      <th>Method_SA</th>\n",
              "      <th>Method_SP</th>\n",
              "      <th>Method_VB</th>\n",
              "      <th>Regionname_Eastern Metropolitan</th>\n",
              "      <th>Regionname_Eastern Victoria</th>\n",
              "      <th>Regionname_Northern Metropolitan</th>\n",
              "      <th>Regionname_Northern Victoria</th>\n",
              "      <th>Regionname_South-Eastern Metropolitan</th>\n",
              "      <th>Regionname_Southern Metropolitan</th>\n",
              "      <th>Regionname_Western Metropolitan</th>\n",
              "      <th>Regionname_Western Victoria</th>\n",
              "      <th>Postcode_Agrupado_3099.0</th>\n",
              "      <th>Postcode_Agrupado_3199.0</th>\n",
              "      <th>Postcode_Agrupado_3299.0</th>\n",
              "      <th>Postcode_Agrupado_3399.0</th>\n",
              "      <th>Postcode_Agrupado_3499.0</th>\n",
              "      <th>Postcode_Agrupado_3799.0</th>\n",
              "      <th>Postcode_Agrupado_3899.0</th>\n",
              "      <th>Postcode_Agrupado_3999.0</th>\n",
              "    </tr>\n",
              "  </thead>\n",
              "  <tbody>\n",
              "    <tr>\n",
              "      <th>0</th>\n",
              "      <td>2</td>\n",
              "      <td>1</td>\n",
              "      <td>1</td>\n",
              "      <td>202.0</td>\n",
              "      <td>130.62402</td>\n",
              "      <td>1</td>\n",
              "      <td>0</td>\n",
              "      <td>0</td>\n",
              "      <td>0</td>\n",
              "      <td>1</td>\n",
              "      <td>0</td>\n",
              "      <td>0</td>\n",
              "      <td>0</td>\n",
              "      <td>0</td>\n",
              "      <td>0</td>\n",
              "      <td>1</td>\n",
              "      <td>0</td>\n",
              "      <td>0</td>\n",
              "      <td>0</td>\n",
              "      <td>0</td>\n",
              "      <td>0</td>\n",
              "      <td>1</td>\n",
              "      <td>0</td>\n",
              "      <td>0</td>\n",
              "      <td>0</td>\n",
              "      <td>0</td>\n",
              "      <td>0</td>\n",
              "      <td>0</td>\n",
              "      <td>0</td>\n",
              "    </tr>\n",
              "    <tr>\n",
              "      <th>1</th>\n",
              "      <td>2</td>\n",
              "      <td>1</td>\n",
              "      <td>0</td>\n",
              "      <td>156.0</td>\n",
              "      <td>130.62402</td>\n",
              "      <td>1</td>\n",
              "      <td>0</td>\n",
              "      <td>0</td>\n",
              "      <td>0</td>\n",
              "      <td>1</td>\n",
              "      <td>0</td>\n",
              "      <td>0</td>\n",
              "      <td>0</td>\n",
              "      <td>0</td>\n",
              "      <td>0</td>\n",
              "      <td>1</td>\n",
              "      <td>0</td>\n",
              "      <td>0</td>\n",
              "      <td>0</td>\n",
              "      <td>0</td>\n",
              "      <td>0</td>\n",
              "      <td>1</td>\n",
              "      <td>0</td>\n",
              "      <td>0</td>\n",
              "      <td>0</td>\n",
              "      <td>0</td>\n",
              "      <td>0</td>\n",
              "      <td>0</td>\n",
              "      <td>0</td>\n",
              "    </tr>\n",
              "    <tr>\n",
              "      <th>2</th>\n",
              "      <td>3</td>\n",
              "      <td>2</td>\n",
              "      <td>0</td>\n",
              "      <td>134.0</td>\n",
              "      <td>130.62402</td>\n",
              "      <td>1</td>\n",
              "      <td>0</td>\n",
              "      <td>0</td>\n",
              "      <td>0</td>\n",
              "      <td>0</td>\n",
              "      <td>0</td>\n",
              "      <td>1</td>\n",
              "      <td>0</td>\n",
              "      <td>0</td>\n",
              "      <td>0</td>\n",
              "      <td>1</td>\n",
              "      <td>0</td>\n",
              "      <td>0</td>\n",
              "      <td>0</td>\n",
              "      <td>0</td>\n",
              "      <td>0</td>\n",
              "      <td>1</td>\n",
              "      <td>0</td>\n",
              "      <td>0</td>\n",
              "      <td>0</td>\n",
              "      <td>0</td>\n",
              "      <td>0</td>\n",
              "      <td>0</td>\n",
              "      <td>0</td>\n",
              "    </tr>\n",
              "    <tr>\n",
              "      <th>3</th>\n",
              "      <td>3</td>\n",
              "      <td>2</td>\n",
              "      <td>1</td>\n",
              "      <td>94.0</td>\n",
              "      <td>130.62402</td>\n",
              "      <td>1</td>\n",
              "      <td>0</td>\n",
              "      <td>0</td>\n",
              "      <td>1</td>\n",
              "      <td>0</td>\n",
              "      <td>0</td>\n",
              "      <td>0</td>\n",
              "      <td>0</td>\n",
              "      <td>0</td>\n",
              "      <td>0</td>\n",
              "      <td>1</td>\n",
              "      <td>0</td>\n",
              "      <td>0</td>\n",
              "      <td>0</td>\n",
              "      <td>0</td>\n",
              "      <td>0</td>\n",
              "      <td>1</td>\n",
              "      <td>0</td>\n",
              "      <td>0</td>\n",
              "      <td>0</td>\n",
              "      <td>0</td>\n",
              "      <td>0</td>\n",
              "      <td>0</td>\n",
              "      <td>0</td>\n",
              "    </tr>\n",
              "    <tr>\n",
              "      <th>4</th>\n",
              "      <td>4</td>\n",
              "      <td>1</td>\n",
              "      <td>2</td>\n",
              "      <td>120.0</td>\n",
              "      <td>130.62402</td>\n",
              "      <td>1</td>\n",
              "      <td>0</td>\n",
              "      <td>0</td>\n",
              "      <td>0</td>\n",
              "      <td>0</td>\n",
              "      <td>0</td>\n",
              "      <td>0</td>\n",
              "      <td>1</td>\n",
              "      <td>0</td>\n",
              "      <td>0</td>\n",
              "      <td>1</td>\n",
              "      <td>0</td>\n",
              "      <td>0</td>\n",
              "      <td>0</td>\n",
              "      <td>0</td>\n",
              "      <td>0</td>\n",
              "      <td>1</td>\n",
              "      <td>0</td>\n",
              "      <td>0</td>\n",
              "      <td>0</td>\n",
              "      <td>0</td>\n",
              "      <td>0</td>\n",
              "      <td>0</td>\n",
              "      <td>0</td>\n",
              "    </tr>\n",
              "    <tr>\n",
              "      <th>...</th>\n",
              "      <td>...</td>\n",
              "      <td>...</td>\n",
              "      <td>...</td>\n",
              "      <td>...</td>\n",
              "      <td>...</td>\n",
              "      <td>...</td>\n",
              "      <td>...</td>\n",
              "      <td>...</td>\n",
              "      <td>...</td>\n",
              "      <td>...</td>\n",
              "      <td>...</td>\n",
              "      <td>...</td>\n",
              "      <td>...</td>\n",
              "      <td>...</td>\n",
              "      <td>...</td>\n",
              "      <td>...</td>\n",
              "      <td>...</td>\n",
              "      <td>...</td>\n",
              "      <td>...</td>\n",
              "      <td>...</td>\n",
              "      <td>...</td>\n",
              "      <td>...</td>\n",
              "      <td>...</td>\n",
              "      <td>...</td>\n",
              "      <td>...</td>\n",
              "      <td>...</td>\n",
              "      <td>...</td>\n",
              "      <td>...</td>\n",
              "      <td>...</td>\n",
              "    </tr>\n",
              "    <tr>\n",
              "      <th>12337</th>\n",
              "      <td>3</td>\n",
              "      <td>2</td>\n",
              "      <td>2</td>\n",
              "      <td>256.0</td>\n",
              "      <td>92.28571</td>\n",
              "      <td>1</td>\n",
              "      <td>0</td>\n",
              "      <td>0</td>\n",
              "      <td>0</td>\n",
              "      <td>1</td>\n",
              "      <td>0</td>\n",
              "      <td>0</td>\n",
              "      <td>0</td>\n",
              "      <td>0</td>\n",
              "      <td>0</td>\n",
              "      <td>1</td>\n",
              "      <td>0</td>\n",
              "      <td>0</td>\n",
              "      <td>0</td>\n",
              "      <td>0</td>\n",
              "      <td>0</td>\n",
              "      <td>1</td>\n",
              "      <td>0</td>\n",
              "      <td>0</td>\n",
              "      <td>0</td>\n",
              "      <td>0</td>\n",
              "      <td>0</td>\n",
              "      <td>0</td>\n",
              "      <td>0</td>\n",
              "    </tr>\n",
              "    <tr>\n",
              "      <th>12338</th>\n",
              "      <td>4</td>\n",
              "      <td>2</td>\n",
              "      <td>2</td>\n",
              "      <td>652.0</td>\n",
              "      <td>124.02646</td>\n",
              "      <td>1</td>\n",
              "      <td>0</td>\n",
              "      <td>0</td>\n",
              "      <td>0</td>\n",
              "      <td>1</td>\n",
              "      <td>0</td>\n",
              "      <td>0</td>\n",
              "      <td>0</td>\n",
              "      <td>0</td>\n",
              "      <td>0</td>\n",
              "      <td>0</td>\n",
              "      <td>0</td>\n",
              "      <td>1</td>\n",
              "      <td>0</td>\n",
              "      <td>0</td>\n",
              "      <td>0</td>\n",
              "      <td>0</td>\n",
              "      <td>1</td>\n",
              "      <td>0</td>\n",
              "      <td>0</td>\n",
              "      <td>0</td>\n",
              "      <td>0</td>\n",
              "      <td>0</td>\n",
              "      <td>0</td>\n",
              "    </tr>\n",
              "    <tr>\n",
              "      <th>12339</th>\n",
              "      <td>3</td>\n",
              "      <td>2</td>\n",
              "      <td>2</td>\n",
              "      <td>333.0</td>\n",
              "      <td>191.09459</td>\n",
              "      <td>1</td>\n",
              "      <td>0</td>\n",
              "      <td>0</td>\n",
              "      <td>0</td>\n",
              "      <td>0</td>\n",
              "      <td>0</td>\n",
              "      <td>1</td>\n",
              "      <td>0</td>\n",
              "      <td>0</td>\n",
              "      <td>0</td>\n",
              "      <td>0</td>\n",
              "      <td>0</td>\n",
              "      <td>0</td>\n",
              "      <td>0</td>\n",
              "      <td>1</td>\n",
              "      <td>0</td>\n",
              "      <td>1</td>\n",
              "      <td>0</td>\n",
              "      <td>0</td>\n",
              "      <td>0</td>\n",
              "      <td>0</td>\n",
              "      <td>0</td>\n",
              "      <td>0</td>\n",
              "      <td>0</td>\n",
              "    </tr>\n",
              "    <tr>\n",
              "      <th>12340</th>\n",
              "      <td>3</td>\n",
              "      <td>2</td>\n",
              "      <td>4</td>\n",
              "      <td>436.0</td>\n",
              "      <td>191.09459</td>\n",
              "      <td>1</td>\n",
              "      <td>0</td>\n",
              "      <td>0</td>\n",
              "      <td>0</td>\n",
              "      <td>1</td>\n",
              "      <td>0</td>\n",
              "      <td>0</td>\n",
              "      <td>0</td>\n",
              "      <td>0</td>\n",
              "      <td>0</td>\n",
              "      <td>0</td>\n",
              "      <td>0</td>\n",
              "      <td>0</td>\n",
              "      <td>0</td>\n",
              "      <td>1</td>\n",
              "      <td>0</td>\n",
              "      <td>1</td>\n",
              "      <td>0</td>\n",
              "      <td>0</td>\n",
              "      <td>0</td>\n",
              "      <td>0</td>\n",
              "      <td>0</td>\n",
              "      <td>0</td>\n",
              "      <td>0</td>\n",
              "    </tr>\n",
              "    <tr>\n",
              "      <th>12341</th>\n",
              "      <td>4</td>\n",
              "      <td>1</td>\n",
              "      <td>1</td>\n",
              "      <td>362.0</td>\n",
              "      <td>135.60976</td>\n",
              "      <td>1</td>\n",
              "      <td>0</td>\n",
              "      <td>0</td>\n",
              "      <td>0</td>\n",
              "      <td>0</td>\n",
              "      <td>0</td>\n",
              "      <td>1</td>\n",
              "      <td>0</td>\n",
              "      <td>0</td>\n",
              "      <td>0</td>\n",
              "      <td>0</td>\n",
              "      <td>0</td>\n",
              "      <td>0</td>\n",
              "      <td>0</td>\n",
              "      <td>1</td>\n",
              "      <td>0</td>\n",
              "      <td>1</td>\n",
              "      <td>0</td>\n",
              "      <td>0</td>\n",
              "      <td>0</td>\n",
              "      <td>0</td>\n",
              "      <td>0</td>\n",
              "      <td>0</td>\n",
              "      <td>0</td>\n",
              "    </tr>\n",
              "  </tbody>\n",
              "</table>\n",
              "<p>12311 rows × 29 columns</p>\n",
              "</div>"
            ],
            "text/plain": [
              "       Rooms  Bathroom  ...  Postcode_Agrupado_3899.0  Postcode_Agrupado_3999.0\n",
              "0          2         1  ...                         0                         0\n",
              "1          2         1  ...                         0                         0\n",
              "2          3         2  ...                         0                         0\n",
              "3          3         2  ...                         0                         0\n",
              "4          4         1  ...                         0                         0\n",
              "...      ...       ...  ...                       ...                       ...\n",
              "12337      3         2  ...                         0                         0\n",
              "12338      4         2  ...                         0                         0\n",
              "12339      3         2  ...                         0                         0\n",
              "12340      3         2  ...                         0                         0\n",
              "12341      4         1  ...                         0                         0\n",
              "\n",
              "[12311 rows x 29 columns]"
            ]
          },
          "metadata": {
            "tags": []
          },
          "execution_count": 31
        }
      ]
    },
    {
      "cell_type": "markdown",
      "metadata": {
        "id": "gWnnHd4YHeSf"
      },
      "source": [
        "##### Usando OneHotEncoder"
      ]
    },
    {
      "cell_type": "code",
      "metadata": {
        "id": "7-vh3Sfsb-Iz"
      },
      "source": [
        "#Usando OneHotEncoder\n",
        "from sklearn.preprocessing import OneHotEncoder\n",
        "encoder = OneHotEncoder(categories='auto', sparse=False)"
      ],
      "execution_count": 32,
      "outputs": []
    },
    {
      "cell_type": "code",
      "metadata": {
        "colab": {
          "base_uri": "https://localhost:8080/"
        },
        "id": "EDgEWgK1b_5L",
        "outputId": "c3ccec57-d373-4ac9-a714-2480d4b12daa"
      },
      "source": [
        "encoder.fit(df[categorical_cols])\n",
        "ohe_cat= encoder.transform(df[categorical_cols])\n",
        "\n",
        "ohe_cat"
      ],
      "execution_count": 33,
      "outputs": [
        {
          "output_type": "execute_result",
          "data": {
            "text/plain": [
              "array([[1., 0., 0., ..., 0., 0., 0.],\n",
              "       [1., 0., 0., ..., 0., 0., 0.],\n",
              "       [1., 0., 0., ..., 0., 0., 0.],\n",
              "       ...,\n",
              "       [1., 0., 0., ..., 0., 0., 0.],\n",
              "       [1., 0., 0., ..., 0., 0., 0.],\n",
              "       [1., 0., 0., ..., 0., 0., 0.]])"
            ]
          },
          "metadata": {
            "tags": []
          },
          "execution_count": 33
        }
      ]
    },
    {
      "cell_type": "code",
      "metadata": {
        "colab": {
          "base_uri": "https://localhost:8080/"
        },
        "id": "x39NQayxC9sx",
        "outputId": "24a947ba-6591-4afd-cdca-e97d1daa7de1"
      },
      "source": [
        "ohe_cat.shape"
      ],
      "execution_count": 34,
      "outputs": [
        {
          "output_type": "execute_result",
          "data": {
            "text/plain": [
              "(12311, 24)"
            ]
          },
          "metadata": {
            "tags": []
          },
          "execution_count": 34
        }
      ]
    },
    {
      "cell_type": "code",
      "metadata": {
        "colab": {
          "base_uri": "https://localhost:8080/"
        },
        "id": "4st5LFim0ZGa",
        "outputId": "d2752563-facc-4ea1-eb5a-a205a8efcff7"
      },
      "source": [
        "#Variables discretas y continuas\n",
        "ohe_num=numpy.array(df[discretas+continuas])\n",
        "ohe_num.shape"
      ],
      "execution_count": 35,
      "outputs": [
        {
          "output_type": "execute_result",
          "data": {
            "text/plain": [
              "(12311, 5)"
            ]
          },
          "metadata": {
            "tags": []
          },
          "execution_count": 35
        }
      ]
    },
    {
      "cell_type": "code",
      "metadata": {
        "id": "h22ye8GXlgrl"
      },
      "source": [
        "#Uso de hstack para agregar las variables numericas\n",
        "ohe_all=numpy.hstack((ohe_num,ohe_cat))"
      ],
      "execution_count": 36,
      "outputs": []
    },
    {
      "cell_type": "code",
      "metadata": {
        "colab": {
          "base_uri": "https://localhost:8080/"
        },
        "id": "05pJgB63m_34",
        "outputId": "d895183f-a69f-41fe-d214-8c41ed8a5ee2"
      },
      "source": [
        "ohe_all"
      ],
      "execution_count": 37,
      "outputs": [
        {
          "output_type": "execute_result",
          "data": {
            "text/plain": [
              "array([[2., 1., 1., ..., 0., 0., 0.],\n",
              "       [2., 1., 0., ..., 0., 0., 0.],\n",
              "       [3., 2., 0., ..., 0., 0., 0.],\n",
              "       ...,\n",
              "       [3., 2., 2., ..., 0., 0., 0.],\n",
              "       [3., 2., 4., ..., 0., 0., 0.],\n",
              "       [4., 1., 1., ..., 0., 0., 0.]])"
            ]
          },
          "metadata": {
            "tags": []
          },
          "execution_count": 37
        }
      ]
    },
    {
      "cell_type": "code",
      "metadata": {
        "colab": {
          "base_uri": "https://localhost:8080/"
        },
        "id": "qRHYq2jGnDO4",
        "outputId": "49b90a69-cb39-4ef1-9606-66429a8ba62f"
      },
      "source": [
        "ohe_all.shape"
      ],
      "execution_count": 38,
      "outputs": [
        {
          "output_type": "execute_result",
          "data": {
            "text/plain": [
              "(12311, 29)"
            ]
          },
          "metadata": {
            "tags": []
          },
          "execution_count": 38
        }
      ]
    },
    {
      "cell_type": "markdown",
      "metadata": {
        "id": "hzP6mfwSjLAx"
      },
      "source": [
        " \n",
        "## Ejercicio 2: Imputación por KNN(pág.83'99')\n",
        " \n",
        "En el teórico se presentó el método `IterativeImputer` para imputar valores faltantes en variables numéricas. Sin embargo, los ejemplos presentados sólo utilizaban algunas variables numéricas presentes en el conjunto de datos. En este ejercicio, utilizaremos la matriz de datos codificada para imputar datos faltantes de manera más precisa.\n",
        " \n"
      ]
    },
    {
      "cell_type": "markdown",
      "metadata": {
        "id": "ykSaUIGPnhWh"
      },
      "source": [
        "#### 1.Agregue a la matriz obtenida en el punto anterior las columnas `YearBuilt` y `BuildingArea`.\n"
      ]
    },
    {
      "cell_type": "code",
      "metadata": {
        "id": "22I8HV8CpvRt"
      },
      "source": [
        "matriz=numpy.hstack((ohe_all,numpy.array(melb_df_na.YearBuilt).reshape(-1,1),numpy.array(melb_df_na.BuildingArea).reshape(-1,1)))"
      ],
      "execution_count": 39,
      "outputs": []
    },
    {
      "cell_type": "code",
      "metadata": {
        "colab": {
          "base_uri": "https://localhost:8080/"
        },
        "id": "cLCZbWmdr8Fh",
        "outputId": "3e878e2c-e8a9-4a9e-b235-3b0f3d4db00d"
      },
      "source": [
        "matriz#.shape"
      ],
      "execution_count": 40,
      "outputs": [
        {
          "output_type": "execute_result",
          "data": {
            "text/plain": [
              "array([[2.000e+00, 1.000e+00, 1.000e+00, ..., 0.000e+00,       nan,\n",
              "              nan],\n",
              "       [2.000e+00, 1.000e+00, 0.000e+00, ..., 0.000e+00, 1.900e+03,\n",
              "        7.900e+01],\n",
              "       [3.000e+00, 2.000e+00, 0.000e+00, ..., 0.000e+00, 1.900e+03,\n",
              "        1.500e+02],\n",
              "       ...,\n",
              "       [3.000e+00, 2.000e+00, 2.000e+00, ..., 0.000e+00, 1.995e+03,\n",
              "        1.330e+02],\n",
              "       [3.000e+00, 2.000e+00, 4.000e+00, ..., 0.000e+00, 1.997e+03,\n",
              "              nan],\n",
              "       [4.000e+00, 1.000e+00, 1.000e+00, ..., 0.000e+00, 1.920e+03,\n",
              "        1.120e+02]])"
            ]
          },
          "metadata": {
            "tags": []
          },
          "execution_count": 40
        }
      ]
    },
    {
      "cell_type": "markdown",
      "metadata": {
        "id": "eFf4hmovue8s"
      },
      "source": [
        "#### 2.Aplique una instancia de `IterativeImputer` con un estimador `KNeighborsRegressor` para imputar los valores de las variables. ¿Es necesario estandarizar o escalar los datos previamente?\n",
        "\n"
      ]
    },
    {
      "cell_type": "markdown",
      "metadata": {
        "id": "301akO1vKT4N"
      },
      "source": [
        "#####Imputación Sin Escalar"
      ]
    },
    {
      "cell_type": "code",
      "metadata": {
        "id": "8Lc8jimNu0W0",
        "colab": {
          "base_uri": "https://localhost:8080/"
        },
        "outputId": "53780ee5-9757-4ea9-9b8a-a53c1a73bd86"
      },
      "source": [
        "#Importamos librerias\n",
        "from sklearn.experimental import enable_iterative_imputer\n",
        "from sklearn.neighbors import KNeighborsRegressor\n",
        "from sklearn.impute import IterativeImputer\n",
        "\n",
        "#Aplicamos instancia de IterativeImputer con estimador KNeighborsRegressor\n",
        "imputer = IterativeImputer(random_state=0, estimator=KNeighborsRegressor(n_neighbors=5))\n",
        "\n",
        "pred = imputer.fit_transform(matriz)\n",
        "print(imputer.n_iter_)"
      ],
      "execution_count": 41,
      "outputs": [
        {
          "output_type": "stream",
          "text": [
            "10\n"
          ],
          "name": "stdout"
        },
        {
          "output_type": "stream",
          "text": [
            "/usr/local/lib/python3.7/dist-packages/sklearn/impute/_iterative.py:638: ConvergenceWarning: [IterativeImputer] Early stopping criterion not reached.\n",
            "  \" reached.\", ConvergenceWarning)\n"
          ],
          "name": "stderr"
        }
      ]
    },
    {
      "cell_type": "code",
      "metadata": {
        "colab": {
          "base_uri": "https://localhost:8080/"
        },
        "id": "YvqdqPES4q9L",
        "outputId": "5048089a-d5eb-43fb-f91d-2779cb8a5c34"
      },
      "source": [
        "matriz[:,-2:]"
      ],
      "execution_count": 42,
      "outputs": [
        {
          "output_type": "execute_result",
          "data": {
            "text/plain": [
              "array([[  nan,   nan],\n",
              "       [1900.,   79.],\n",
              "       [1900.,  150.],\n",
              "       ...,\n",
              "       [1995.,  133.],\n",
              "       [1997.,   nan],\n",
              "       [1920.,  112.]])"
            ]
          },
          "metadata": {
            "tags": []
          },
          "execution_count": 42
        }
      ]
    },
    {
      "cell_type": "code",
      "metadata": {
        "colab": {
          "base_uri": "https://localhost:8080/"
        },
        "id": "q2S3rbiqLKjm",
        "outputId": "ecce61f0-8166-4139-babc-93cbf85912bb"
      },
      "source": [
        "#Valores de YearBuild y BuildingArea predichos\n",
        "pred[:,-2:]"
      ],
      "execution_count": 43,
      "outputs": [
        {
          "output_type": "execute_result",
          "data": {
            "text/plain": [
              "array([[1926. ,  111.2],\n",
              "       [1900. ,   79. ],\n",
              "       [1900. ,  150. ],\n",
              "       ...,\n",
              "       [1995. ,  133. ],\n",
              "       [1997. ,  220.4],\n",
              "       [1920. ,  112. ]])"
            ]
          },
          "metadata": {
            "tags": []
          },
          "execution_count": 43
        }
      ]
    },
    {
      "cell_type": "markdown",
      "metadata": {
        "id": "fnq4h6cMtJDU"
      },
      "source": [
        "#####Escalado de los Datos"
      ]
    },
    {
      "cell_type": "markdown",
      "metadata": {
        "id": "qlzWdmAPBN27"
      },
      "source": [
        "Para utilizar este metodo se recomienda escalar los datos, al utilizar distancias para determinar los vecinos más cercanos, si los datos no están escalados, las variables cuya diferencia entre valores sea de un valor númerico muy alto, va a pesar demasiado en el calculo de distancia entre los puntos.\n",
        "por ejemplo:\n",
        "\n",
        "-Precio va entre valores de decenas de miles de dolares a millones de dolares, por lo que la distancia entre dos puntos puede ser muy grande, por otro lado en la cantidad de baños los valores estan en el orden de las unidades, y las distancias entre dos puntos de esta variable no van a ser muy grandes.\n",
        "Por lo que al componer estas dos distancias la mayor influencia la tendria precio.\n"
      ]
    },
    {
      "cell_type": "code",
      "metadata": {
        "id": "OOMYoYOANrYk"
      },
      "source": [
        "#Importamos libreria para escalar los datos\n",
        "from sklearn.preprocessing import MinMaxScaler"
      ],
      "execution_count": 44,
      "outputs": []
    },
    {
      "cell_type": "code",
      "metadata": {
        "id": "aT00N06zOV6K"
      },
      "source": [
        "#Lista de columnas del conjunto de datos\n",
        "columnas = dum_df.columns.to_list()"
      ],
      "execution_count": 45,
      "outputs": []
    },
    {
      "cell_type": "code",
      "metadata": {
        "colab": {
          "base_uri": "https://localhost:8080/"
        },
        "id": "saMXVNeNNfKu",
        "outputId": "d19a5aa1-91a5-4518-9483-5de9188cc6c5"
      },
      "source": [
        "#Escalamos los datos\n",
        "scaler = MinMaxScaler((0,1))\n",
        "\n",
        "#ohe_all_scal = scaler.fit_transform(ohe_all) #Solo se escalan los datos de las otras columnas no YearBu y BuilAre\n",
        "#matriz_scal=numpy.hstack((ohe_all_scal,numpy.array(melb_df_na.YearBuilt).reshape(-1,1),numpy.array(melb_df_na.BuildingArea).reshape(-1,1)))\n",
        "matriz_scal = scaler.fit_transform(matriz)\n",
        "\n",
        "#Verificamos el tamaño\n",
        "matriz_scal.shape\n",
        "\n",
        "#Lo importante es que entregar un array de números donde las filas sean los valores \n",
        "#de una unidad muestral, es decir los valores de x para un solo punto."
      ],
      "execution_count": 46,
      "outputs": [
        {
          "output_type": "execute_result",
          "data": {
            "text/plain": [
              "(12311, 31)"
            ]
          },
          "metadata": {
            "tags": []
          },
          "execution_count": 46
        }
      ]
    },
    {
      "cell_type": "code",
      "metadata": {
        "colab": {
          "base_uri": "https://localhost:8080/"
        },
        "id": "9NOr6zaYOamD",
        "outputId": "27c03e86-ed68-4110-ab8b-3fbf57d773b3"
      },
      "source": [
        "matriz_scal[0]"
      ],
      "execution_count": 47,
      "outputs": [
        {
          "output_type": "execute_result",
          "data": {
            "text/plain": [
              "array([0.2       , 0.        , 0.2       , 0.14885777, 0.11494992,\n",
              "       1.        , 0.        , 0.        , 0.        , 1.        ,\n",
              "       0.        , 0.        , 0.        , 0.        , 0.        ,\n",
              "       1.        , 0.        , 0.        , 0.        , 0.        ,\n",
              "       0.        , 1.        , 0.        , 0.        , 0.        ,\n",
              "       0.        , 0.        , 0.        , 0.        ,        nan,\n",
              "              nan])"
            ]
          },
          "metadata": {
            "tags": []
          },
          "execution_count": 47
        }
      ]
    },
    {
      "cell_type": "markdown",
      "metadata": {
        "id": "5PFQjMUpOmXr"
      },
      "source": [
        "#####Imputación Con Datos Escalados"
      ]
    },
    {
      "cell_type": "code",
      "metadata": {
        "colab": {
          "base_uri": "https://localhost:8080/"
        },
        "id": "LJs2QPp-OhWv",
        "outputId": "c69afa06-56bb-4960-cb45-6f38620c7135"
      },
      "source": [
        "#Aplicamos instancia de IterativeImputer con estimador KNeighborsRegressor\n",
        "imputer_scal = IterativeImputer(random_state=0, estimator=KNeighborsRegressor(n_neighbors=5))\n",
        "\n",
        "pred_scal = imputer_scal.fit_transform(matriz_scal)\n",
        "print(imputer.n_iter_)"
      ],
      "execution_count": 48,
      "outputs": [
        {
          "output_type": "stream",
          "text": [
            "10\n"
          ],
          "name": "stdout"
        },
        {
          "output_type": "stream",
          "text": [
            "/usr/local/lib/python3.7/dist-packages/sklearn/impute/_iterative.py:638: ConvergenceWarning: [IterativeImputer] Early stopping criterion not reached.\n",
            "  \" reached.\", ConvergenceWarning)\n"
          ],
          "name": "stderr"
        }
      ]
    },
    {
      "cell_type": "code",
      "metadata": {
        "colab": {
          "base_uri": "https://localhost:8080/"
        },
        "id": "gWO-Ku8iPKzz",
        "outputId": "15446733-2214-4edc-c249-1ab3c6cfe2ee"
      },
      "source": [
        "#Valores de YearBuild y BuildingArea predichos con datos escalados\n",
        "pred_scal[:,-2:]"
      ],
      "execution_count": 49,
      "outputs": [
        {
          "output_type": "execute_result",
          "data": {
            "text/plain": [
              "array([[0.17021277, 0.31449275],\n",
              "       [0.16312057, 0.28623188],\n",
              "       [0.16312057, 0.54347826],\n",
              "       ...,\n",
              "       [0.83687943, 0.48188406],\n",
              "       [0.85106383, 0.64471014],\n",
              "       [0.30496454, 0.4057971 ]])"
            ]
          },
          "metadata": {
            "tags": []
          },
          "execution_count": 49
        }
      ]
    },
    {
      "cell_type": "code",
      "metadata": {
        "colab": {
          "base_uri": "https://localhost:8080/"
        },
        "id": "owny9yqtO9gA",
        "outputId": "1dadd24e-b1b4-400b-ce42-a95927d2f9b8"
      },
      "source": [
        "pred_scal[0]"
      ],
      "execution_count": 50,
      "outputs": [
        {
          "output_type": "execute_result",
          "data": {
            "text/plain": [
              "array([0.2       , 0.        , 0.2       , 0.14885777, 0.11494992,\n",
              "       1.        , 0.        , 0.        , 0.        , 1.        ,\n",
              "       0.        , 0.        , 0.        , 0.        , 0.        ,\n",
              "       1.        , 0.        , 0.        , 0.        , 0.        ,\n",
              "       0.        , 1.        , 0.        , 0.        , 0.        ,\n",
              "       0.        , 0.        , 0.        , 0.        , 0.17021277,\n",
              "       0.31449275])"
            ]
          },
          "metadata": {
            "tags": []
          },
          "execution_count": 50
        }
      ]
    },
    {
      "cell_type": "code",
      "metadata": {
        "id": "q8VAUHUHRFlx"
      },
      "source": [
        "#Para Des-escalar\n",
        "pred_scal_inv=scaler.inverse_transform(pred_scal)"
      ],
      "execution_count": 51,
      "outputs": []
    },
    {
      "cell_type": "code",
      "metadata": {
        "colab": {
          "base_uri": "https://localhost:8080/",
          "height": 493
        },
        "id": "BIhk4RVeRTTx",
        "outputId": "aa12bee8-246a-4af9-c4f1-aa6b51905dfe"
      },
      "source": [
        "#Plotemoas las 2 instancias para comparar \n",
        "fig, ax = plt.subplots(nrows=1, ncols=1, figsize=(20, 6))\n",
        "seaborn.distplot(pred[:,-2], ax=ax,color='Green',label='Sin Escalar')\n",
        "\n",
        "seaborn.distplot(pred_scal_inv[:,-2], ax=ax,color='Blue',label='Escalado')\n",
        "plt.legend()"
      ],
      "execution_count": 52,
      "outputs": [
        {
          "output_type": "stream",
          "text": [
            "/usr/local/lib/python3.7/dist-packages/seaborn/distributions.py:2557: FutureWarning: `distplot` is a deprecated function and will be removed in a future version. Please adapt your code to use either `displot` (a figure-level function with similar flexibility) or `histplot` (an axes-level function for histograms).\n",
            "  warnings.warn(msg, FutureWarning)\n",
            "/usr/local/lib/python3.7/dist-packages/seaborn/distributions.py:2557: FutureWarning: `distplot` is a deprecated function and will be removed in a future version. Please adapt your code to use either `displot` (a figure-level function with similar flexibility) or `histplot` (an axes-level function for histograms).\n",
            "  warnings.warn(msg, FutureWarning)\n"
          ],
          "name": "stderr"
        },
        {
          "output_type": "execute_result",
          "data": {
            "text/plain": [
              "<matplotlib.legend.Legend at 0x7f0652d5bb50>"
            ]
          },
          "metadata": {
            "tags": []
          },
          "execution_count": 52
        },
        {
          "output_type": "display_data",
          "data": {
            "image/png": "[encoded data removed]",
            "text/plain": [
              "<Figure size 1440x432 with 1 Axes>"
            ]
          },
          "metadata": {
            "tags": [],
            "needs_background": "light"
          }
        }
      ]
    },
    {
      "cell_type": "markdown",
      "metadata": {
        "id": "6Pp9fALUmHEl"
      },
      "source": [
        "Sin escalar los datos se ve una centralización mayor de la distribución de la variable"
      ]
    },
    {
      "cell_type": "code",
      "metadata": {
        "colab": {
          "base_uri": "https://localhost:8080/"
        },
        "id": "FlcyLhQNmbeQ",
        "outputId": "b41be44f-3bb8-48c4-b2fd-11ade7defcce"
      },
      "source": [
        "pred[:,-2].std()"
      ],
      "execution_count": 53,
      "outputs": [
        {
          "output_type": "execute_result",
          "data": {
            "text/plain": [
              "30.664828354989133"
            ]
          },
          "metadata": {
            "tags": []
          },
          "execution_count": 53
        }
      ]
    },
    {
      "cell_type": "code",
      "metadata": {
        "colab": {
          "base_uri": "https://localhost:8080/"
        },
        "id": "rNDo0ZHfmRLR",
        "outputId": "366ede98-664f-4ea6-91df-6c49868d0689"
      },
      "source": [
        "pred_scal_inv[:,-2].std()"
      ],
      "execution_count": 54,
      "outputs": [
        {
          "output_type": "execute_result",
          "data": {
            "text/plain": [
              "31.837006817000486"
            ]
          },
          "metadata": {
            "tags": []
          },
          "execution_count": 54
        }
      ]
    },
    {
      "cell_type": "code",
      "metadata": {
        "id": "nVlK5VyjxiU1"
      },
      "source": [
        "#melb_df_na['BuildingArea']=pred_scal_inv[:,-1]\n",
        "#melb_df_na['YearBuilt']=pred_scal_inv[:,-2]"
      ],
      "execution_count": 55,
      "outputs": []
    },
    {
      "cell_type": "markdown",
      "metadata": {
        "id": "glNQN4CSusOt"
      },
      "source": [
        "### 3.Realice un gráfico mostrando la distribución de cada variable antes de ser imputada, y con ambos métodos de imputación.\n"
      ]
    },
    {
      "cell_type": "code",
      "metadata": {
        "colab": {
          "base_uri": "https://localhost:8080/",
          "height": 410
        },
        "id": "KIXvgSfOTNZJ",
        "outputId": "92b06d62-a92e-45ce-a826-237c1ca482b9"
      },
      "source": [
        "mice_year_built = melb_data_mice.YearBuilt.to_frame()\n",
        "mice_year_built['Imputation'] = 'KNN realizado solo con las columnas YearBuild y BuildingArea y sin escalar'\n",
        "melb_year_build['Imputation'] = 'Original'\n",
        "imp_year_build=pandas.DataFrame(pred_scal_inv[:,-2],columns=['YearBuilt'])\n",
        "imp_year_build['Imputation'] = 'KNN usando One Hot Encoder y escalando'\n",
        "data = pandas.concat([mice_year_built, melb_year_build,imp_year_build])\n",
        "fig = plt.figure(figsize=(18, 6))\n",
        "g = seaborn.kdeplot(data=data, x='YearBuilt', hue='Imputation')"
      ],
      "execution_count": 56,
      "outputs": [
        {
          "output_type": "display_data",
          "data": {
            "image/png": "[encoded data removed]",
            "text/plain": [
              "<Figure size 1296x432 with 1 Axes>"
            ]
          },
          "metadata": {
            "tags": [],
            "needs_background": "light"
          }
        }
      ]
    },
    {
      "cell_type": "code",
      "metadata": {
        "colab": {
          "base_uri": "https://localhost:8080/",
          "height": 410
        },
        "id": "Tk07pMZmUlnA",
        "outputId": "f52da9b1-0db3-4739-f3f7-2f18868dd2e0"
      },
      "source": [
        "mice_BuildingArea = melb_data_mice.BuildingArea.to_frame()\n",
        "mice_BuildingArea['Imputacion'] = 'KNN realizado solo con las columnas YearBuild y BuildingArea y sin escalar'\n",
        "melb_BuildingArea = melb_df.BuildingArea.dropna().to_frame()\n",
        "melb_BuildingArea['Imputacion'] = 'Original'\n",
        "imp_BuildingArea=pandas.DataFrame(pred_scal_inv[:,-1],columns=['BuildingArea'])\n",
        "imp_BuildingArea['Imputacion'] = 'KNN usando One Hot Encoder y escalando'\n",
        "data = pandas.concat([mice_BuildingArea, melb_BuildingArea,imp_BuildingArea])\n",
        "fig = plt.figure(figsize=(18, 6))\n",
        "g = seaborn.kdeplot(data=data, x='BuildingArea', hue='Imputacion')"
      ],
      "execution_count": 57,
      "outputs": [
        {
          "output_type": "display_data",
          "data": {
            "image/png": "[encoded data removed]",
            "text/plain": [
              "<Figure size 1296x432 with 1 Axes>"
            ]
          },
          "metadata": {
            "tags": [],
            "needs_background": "light"
          }
        }
      ]
    },
    {
      "cell_type": "markdown",
      "metadata": {
        "id": "L0l00iXwmpsm"
      },
      "source": [
        "Se ve en los graficos, que escalando y usando el resto de las variables con one hot encoder da mejores resultados"
      ]
    },
    {
      "cell_type": "markdown",
      "metadata": {
        "id": "Cs63R-6XkNXO"
      },
      "source": [
        "## Ejercicio 3: Reducción de dimensionalidad.(pág.279'293')\n",
        " \n",
        "Utilizando la matriz obtenida en el ejercicio anterior:\n"
      ]
    },
    {
      "cell_type": "code",
      "metadata": {
        "colab": {
          "base_uri": "https://localhost:8080/"
        },
        "id": "4tsN59FNd0ai",
        "outputId": "ef3fdbf1-b98d-42c4-b313-f5aa0741c598"
      },
      "source": [
        "#Matriz obtenida en el punto anterior\n",
        "pred_scal_pca =  pred_scal\n",
        "pred_scal_pca.shape"
      ],
      "execution_count": 58,
      "outputs": [
        {
          "output_type": "execute_result",
          "data": {
            "text/plain": [
              "(12311, 31)"
            ]
          },
          "metadata": {
            "tags": []
          },
          "execution_count": 58
        }
      ]
    },
    {
      "cell_type": "markdown",
      "metadata": {
        "id": "WlrI1ESi2o3C"
      },
      "source": [
        "### 1.Aplique `PCA` para obtener $n$ componentes principales de la matriz, donde `n = min(20, X.shape[0])`. ¿Es necesario estandarizar o escalar los datos?\n"
      ]
    },
    {
      "cell_type": "markdown",
      "metadata": {
        "id": "Kyw3YUTRVl_4"
      },
      "source": [
        "Para aplicar PCA es necesario realizar una estandarización o escalado de los datos, recomendandonse realizar una estandarización.\n",
        "\n",
        "Es necesario porque si en vez de medir las areas en metros cuadrados se midieran en pulgadas cuadradas, la covarianza (que es sobre lo que trabaja el metodo de PCA) se veria afectada por este cambio de unidad, no cambiando la dimension que nos interesa. Sin escalar o estandarizar le dariamos mayor peso a la variable cuya unidad sea menor, ya que el número que la representa es mayor"
      ]
    },
    {
      "cell_type": "markdown",
      "metadata": {
        "id": "SY5bF_cKyXgh"
      },
      "source": [
        "#### Con datos escalados resultado ejercicio anterior"
      ]
    },
    {
      "cell_type": "code",
      "metadata": {
        "id": "fhA1iXR13K5f",
        "colab": {
          "base_uri": "https://localhost:8080/"
        },
        "outputId": "49097977-809f-4af8-a739-0baebd1a30cb"
      },
      "source": [
        "#Importo libreria\n",
        "from sklearn.decomposition import PCA\n",
        "\n",
        "#Obtengo n componentes principales\n",
        "n = min(20, pred_scal_pca.shape[1]) # minimo entre 20 y el número de filas\n",
        "\n",
        "pca = PCA(n_components=n)\n",
        "pca.fit(pred_scal_pca)\n",
        "proyected_features = pca.transform(pred_scal_pca)\n",
        "\n",
        "print(\"Explained variance: \")\n",
        "print(pca.explained_variance_.round(4))\n",
        "print(\"Explained variance ratio\")\n",
        "print(pca.explained_variance_ratio_.round(4))\n",
        "#proyected_features.shape"
      ],
      "execution_count": 59,
      "outputs": [
        {
          "output_type": "stream",
          "text": [
            "Explained variance: \n",
            "[0.7227 0.3971 0.2944 0.2551 0.1512 0.1257 0.1155 0.0909 0.0771 0.0631\n",
            " 0.0481 0.0324 0.0252 0.0232 0.0197 0.0116 0.0087 0.0085 0.0075 0.0067]\n",
            "Explained variance ratio\n",
            "[0.2889 0.1587 0.1177 0.102  0.0604 0.0503 0.0462 0.0364 0.0308 0.0252\n",
            " 0.0192 0.0129 0.0101 0.0093 0.0079 0.0046 0.0035 0.0034 0.003  0.0027]\n"
          ],
          "name": "stdout"
        }
      ]
    },
    {
      "cell_type": "markdown",
      "metadata": {
        "id": "tir21Ft4yXDH"
      },
      "source": [
        "#### Con datos estandarizados"
      ]
    },
    {
      "cell_type": "code",
      "metadata": {
        "id": "ZqADiyyQ2Bij"
      },
      "source": [
        "from sklearn.preprocessing import StandardScaler\n",
        "matriz_sin_escalar=matriz.copy()\n",
        "matriz_sin_escalar[:,-2:]=pred_scal_inv[:,-2:]\n",
        "scaler=StandardScaler()\n",
        "matriz_std=scaler.fit_transform(matriz_sin_escalar)"
      ],
      "execution_count": 60,
      "outputs": []
    },
    {
      "cell_type": "code",
      "metadata": {
        "colab": {
          "base_uri": "https://localhost:8080/",
          "height": 317
        },
        "id": "qpyeCcXw1vqK",
        "outputId": "3a81c60c-e7c0-4c85-d2fc-dd0f235bfcd1"
      },
      "source": [
        "pandas.DataFrame(matriz_std).describe().round(2)"
      ],
      "execution_count": 61,
      "outputs": [
        {
          "output_type": "execute_result",
          "data": {
            "text/html": [
              "<div>\n",
              "<style scoped>\n",
              "    .dataframe tbody tr th:only-of-type {\n",
              "        vertical-align: middle;\n",
              "    }\n",
              "\n",
              "    .dataframe tbody tr th {\n",
              "        vertical-align: top;\n",
              "    }\n",
              "\n",
              "    .dataframe thead th {\n",
              "        text-align: right;\n",
              "    }\n",
              "</style>\n",
              "<table border=\"1\" class=\"dataframe\">\n",
              "  <thead>\n",
              "    <tr style=\"text-align: right;\">\n",
              "      <th></th>\n",
              "      <th>0</th>\n",
              "      <th>1</th>\n",
              "      <th>2</th>\n",
              "      <th>3</th>\n",
              "      <th>4</th>\n",
              "      <th>5</th>\n",
              "      <th>6</th>\n",
              "      <th>7</th>\n",
              "      <th>8</th>\n",
              "      <th>9</th>\n",
              "      <th>10</th>\n",
              "      <th>11</th>\n",
              "      <th>12</th>\n",
              "      <th>13</th>\n",
              "      <th>14</th>\n",
              "      <th>15</th>\n",
              "      <th>16</th>\n",
              "      <th>17</th>\n",
              "      <th>18</th>\n",
              "      <th>19</th>\n",
              "      <th>20</th>\n",
              "      <th>21</th>\n",
              "      <th>22</th>\n",
              "      <th>23</th>\n",
              "      <th>24</th>\n",
              "      <th>25</th>\n",
              "      <th>26</th>\n",
              "      <th>27</th>\n",
              "      <th>28</th>\n",
              "      <th>29</th>\n",
              "      <th>30</th>\n",
              "    </tr>\n",
              "  </thead>\n",
              "  <tbody>\n",
              "    <tr>\n",
              "      <th>count</th>\n",
              "      <td>12311.00</td>\n",
              "      <td>12311.00</td>\n",
              "      <td>12311.00</td>\n",
              "      <td>12311.00</td>\n",
              "      <td>12311.00</td>\n",
              "      <td>12311.00</td>\n",
              "      <td>12311.00</td>\n",
              "      <td>12311.00</td>\n",
              "      <td>12311.00</td>\n",
              "      <td>12311.00</td>\n",
              "      <td>12311.00</td>\n",
              "      <td>12311.00</td>\n",
              "      <td>12311.00</td>\n",
              "      <td>12311.00</td>\n",
              "      <td>12311.00</td>\n",
              "      <td>12311.00</td>\n",
              "      <td>12311.00</td>\n",
              "      <td>12311.00</td>\n",
              "      <td>12311.00</td>\n",
              "      <td>12311.00</td>\n",
              "      <td>12311.00</td>\n",
              "      <td>12311.00</td>\n",
              "      <td>12311.00</td>\n",
              "      <td>12311.00</td>\n",
              "      <td>12311.00</td>\n",
              "      <td>12311.00</td>\n",
              "      <td>12311.00</td>\n",
              "      <td>12311.00</td>\n",
              "      <td>12311.00</td>\n",
              "      <td>12311.00</td>\n",
              "      <td>12311.00</td>\n",
              "    </tr>\n",
              "    <tr>\n",
              "      <th>mean</th>\n",
              "      <td>0.00</td>\n",
              "      <td>-0.00</td>\n",
              "      <td>0.00</td>\n",
              "      <td>0.00</td>\n",
              "      <td>-0.00</td>\n",
              "      <td>0.00</td>\n",
              "      <td>-0.00</td>\n",
              "      <td>0.00</td>\n",
              "      <td>-0.00</td>\n",
              "      <td>-0.00</td>\n",
              "      <td>-0.00</td>\n",
              "      <td>0.00</td>\n",
              "      <td>-0.00</td>\n",
              "      <td>-0.00</td>\n",
              "      <td>-0.00</td>\n",
              "      <td>0.00</td>\n",
              "      <td>0.00</td>\n",
              "      <td>-0.00</td>\n",
              "      <td>-0.00</td>\n",
              "      <td>0.00</td>\n",
              "      <td>-0.00</td>\n",
              "      <td>0.00</td>\n",
              "      <td>-0.00</td>\n",
              "      <td>0.00</td>\n",
              "      <td>0.00</td>\n",
              "      <td>0.00</td>\n",
              "      <td>0.00</td>\n",
              "      <td>-0.00</td>\n",
              "      <td>0.00</td>\n",
              "      <td>0.00</td>\n",
              "      <td>-0.00</td>\n",
              "    </tr>\n",
              "    <tr>\n",
              "      <th>std</th>\n",
              "      <td>1.00</td>\n",
              "      <td>1.00</td>\n",
              "      <td>1.00</td>\n",
              "      <td>1.00</td>\n",
              "      <td>1.00</td>\n",
              "      <td>1.00</td>\n",
              "      <td>1.00</td>\n",
              "      <td>1.00</td>\n",
              "      <td>1.00</td>\n",
              "      <td>1.00</td>\n",
              "      <td>1.00</td>\n",
              "      <td>1.00</td>\n",
              "      <td>1.00</td>\n",
              "      <td>1.00</td>\n",
              "      <td>1.00</td>\n",
              "      <td>1.00</td>\n",
              "      <td>1.00</td>\n",
              "      <td>1.00</td>\n",
              "      <td>1.00</td>\n",
              "      <td>1.00</td>\n",
              "      <td>1.00</td>\n",
              "      <td>1.00</td>\n",
              "      <td>1.00</td>\n",
              "      <td>1.00</td>\n",
              "      <td>1.00</td>\n",
              "      <td>1.00</td>\n",
              "      <td>1.00</td>\n",
              "      <td>1.00</td>\n",
              "      <td>1.00</td>\n",
              "      <td>1.00</td>\n",
              "      <td>1.00</td>\n",
              "    </tr>\n",
              "    <tr>\n",
              "      <th>min</th>\n",
              "      <td>-2.09</td>\n",
              "      <td>-0.77</td>\n",
              "      <td>-1.72</td>\n",
              "      <td>-1.41</td>\n",
              "      <td>-1.27</td>\n",
              "      <td>-1.49</td>\n",
              "      <td>-0.31</td>\n",
              "      <td>-0.54</td>\n",
              "      <td>-0.35</td>\n",
              "      <td>-1.43</td>\n",
              "      <td>-0.08</td>\n",
              "      <td>-0.38</td>\n",
              "      <td>-0.30</td>\n",
              "      <td>-0.35</td>\n",
              "      <td>-0.06</td>\n",
              "      <td>-0.65</td>\n",
              "      <td>-0.04</td>\n",
              "      <td>-0.19</td>\n",
              "      <td>-0.69</td>\n",
              "      <td>-0.54</td>\n",
              "      <td>-0.05</td>\n",
              "      <td>-1.09</td>\n",
              "      <td>-0.82</td>\n",
              "      <td>-0.21</td>\n",
              "      <td>-0.06</td>\n",
              "      <td>-0.06</td>\n",
              "      <td>-0.06</td>\n",
              "      <td>-0.05</td>\n",
              "      <td>-0.03</td>\n",
              "      <td>-2.70</td>\n",
              "      <td>-2.71</td>\n",
              "    </tr>\n",
              "    <tr>\n",
              "      <th>25%</th>\n",
              "      <td>-0.97</td>\n",
              "      <td>-0.77</td>\n",
              "      <td>-0.61</td>\n",
              "      <td>-0.84</td>\n",
              "      <td>-0.55</td>\n",
              "      <td>-1.49</td>\n",
              "      <td>-0.31</td>\n",
              "      <td>-0.54</td>\n",
              "      <td>-0.35</td>\n",
              "      <td>-1.43</td>\n",
              "      <td>-0.08</td>\n",
              "      <td>-0.38</td>\n",
              "      <td>-0.30</td>\n",
              "      <td>-0.35</td>\n",
              "      <td>-0.06</td>\n",
              "      <td>-0.65</td>\n",
              "      <td>-0.04</td>\n",
              "      <td>-0.19</td>\n",
              "      <td>-0.69</td>\n",
              "      <td>-0.54</td>\n",
              "      <td>-0.05</td>\n",
              "      <td>-1.09</td>\n",
              "      <td>-0.82</td>\n",
              "      <td>-0.21</td>\n",
              "      <td>-0.06</td>\n",
              "      <td>-0.06</td>\n",
              "      <td>-0.06</td>\n",
              "      <td>-0.05</td>\n",
              "      <td>-0.03</td>\n",
              "      <td>-0.50</td>\n",
              "      <td>-0.68</td>\n",
              "    </tr>\n",
              "    <tr>\n",
              "      <th>50%</th>\n",
              "      <td>0.14</td>\n",
              "      <td>-0.77</td>\n",
              "      <td>-0.61</td>\n",
              "      <td>-0.04</td>\n",
              "      <td>-0.23</td>\n",
              "      <td>0.67</td>\n",
              "      <td>-0.31</td>\n",
              "      <td>-0.54</td>\n",
              "      <td>-0.35</td>\n",
              "      <td>0.70</td>\n",
              "      <td>-0.08</td>\n",
              "      <td>-0.38</td>\n",
              "      <td>-0.30</td>\n",
              "      <td>-0.35</td>\n",
              "      <td>-0.06</td>\n",
              "      <td>-0.65</td>\n",
              "      <td>-0.04</td>\n",
              "      <td>-0.19</td>\n",
              "      <td>-0.69</td>\n",
              "      <td>-0.54</td>\n",
              "      <td>-0.05</td>\n",
              "      <td>0.92</td>\n",
              "      <td>-0.82</td>\n",
              "      <td>-0.21</td>\n",
              "      <td>-0.06</td>\n",
              "      <td>-0.06</td>\n",
              "      <td>-0.06</td>\n",
              "      <td>-0.05</td>\n",
              "      <td>-0.03</td>\n",
              "      <td>0.06</td>\n",
              "      <td>-0.09</td>\n",
              "    </tr>\n",
              "    <tr>\n",
              "      <th>75%</th>\n",
              "      <td>0.14</td>\n",
              "      <td>0.88</td>\n",
              "      <td>0.49</td>\n",
              "      <td>0.80</td>\n",
              "      <td>0.28</td>\n",
              "      <td>0.67</td>\n",
              "      <td>-0.31</td>\n",
              "      <td>-0.54</td>\n",
              "      <td>-0.35</td>\n",
              "      <td>0.70</td>\n",
              "      <td>-0.08</td>\n",
              "      <td>-0.38</td>\n",
              "      <td>-0.30</td>\n",
              "      <td>-0.35</td>\n",
              "      <td>-0.06</td>\n",
              "      <td>1.53</td>\n",
              "      <td>-0.04</td>\n",
              "      <td>-0.19</td>\n",
              "      <td>1.45</td>\n",
              "      <td>-0.54</td>\n",
              "      <td>-0.05</td>\n",
              "      <td>0.92</td>\n",
              "      <td>1.22</td>\n",
              "      <td>-0.21</td>\n",
              "      <td>-0.06</td>\n",
              "      <td>-0.06</td>\n",
              "      <td>-0.06</td>\n",
              "      <td>-0.05</td>\n",
              "      <td>-0.03</td>\n",
              "      <td>0.69</td>\n",
              "      <td>0.59</td>\n",
              "    </tr>\n",
              "    <tr>\n",
              "      <th>max</th>\n",
              "      <td>3.49</td>\n",
              "      <td>4.18</td>\n",
              "      <td>3.79</td>\n",
              "      <td>3.39</td>\n",
              "      <td>10.07</td>\n",
              "      <td>0.67</td>\n",
              "      <td>3.23</td>\n",
              "      <td>1.86</td>\n",
              "      <td>2.83</td>\n",
              "      <td>0.70</td>\n",
              "      <td>11.99</td>\n",
              "      <td>2.61</td>\n",
              "      <td>3.34</td>\n",
              "      <td>2.86</td>\n",
              "      <td>17.74</td>\n",
              "      <td>1.53</td>\n",
              "      <td>23.63</td>\n",
              "      <td>5.31</td>\n",
              "      <td>1.45</td>\n",
              "      <td>1.84</td>\n",
              "      <td>20.23</td>\n",
              "      <td>0.92</td>\n",
              "      <td>1.22</td>\n",
              "      <td>4.77</td>\n",
              "      <td>16.89</td>\n",
              "      <td>17.51</td>\n",
              "      <td>16.33</td>\n",
              "      <td>20.23</td>\n",
              "      <td>30.76</td>\n",
              "      <td>1.73</td>\n",
              "      <td>3.24</td>\n",
              "    </tr>\n",
              "  </tbody>\n",
              "</table>\n",
              "</div>"
            ],
            "text/plain": [
              "             0         1         2   ...        28        29        30\n",
              "count  12311.00  12311.00  12311.00  ...  12311.00  12311.00  12311.00\n",
              "mean       0.00     -0.00      0.00  ...      0.00      0.00     -0.00\n",
              "std        1.00      1.00      1.00  ...      1.00      1.00      1.00\n",
              "min       -2.09     -0.77     -1.72  ...     -0.03     -2.70     -2.71\n",
              "25%       -0.97     -0.77     -0.61  ...     -0.03     -0.50     -0.68\n",
              "50%        0.14     -0.77     -0.61  ...     -0.03      0.06     -0.09\n",
              "75%        0.14      0.88      0.49  ...     -0.03      0.69      0.59\n",
              "max        3.49      4.18      3.79  ...     30.76      1.73      3.24\n",
              "\n",
              "[8 rows x 31 columns]"
            ]
          },
          "metadata": {
            "tags": []
          },
          "execution_count": 61
        }
      ]
    },
    {
      "cell_type": "code",
      "metadata": {
        "colab": {
          "base_uri": "https://localhost:8080/"
        },
        "id": "oQSdnPGiyUX1",
        "outputId": "0f9527a2-b458-4f7a-b400-e5c4a0af06a4"
      },
      "source": [
        "#Obtengo n componentes principales\n",
        "\n",
        "n = min(20, matriz_std.shape[1]) # minimo entre 20 y el número de columnas\n",
        "pca_std = PCA(n_components=n)\n",
        "pca_std.fit(matriz_std)\n",
        "proyected_features = pca_std.transform(matriz_std)\n",
        "\n",
        "print(\"Explained variance: \")\n",
        "print(pca_std.explained_variance_.round(4))\n",
        "print(\"Explained variance ratio\")\n",
        "print(pca_std.explained_variance_ratio_.round(4))\n",
        "#proyected_features.shape"
      ],
      "execution_count": 62,
      "outputs": [
        {
          "output_type": "stream",
          "text": [
            "Explained variance: \n",
            "[3.9477 3.2758 2.0078 1.9463 1.7088 1.5429 1.4011 1.365  1.253  1.1089\n",
            " 1.097  1.0579 1.0181 1.0089 0.9827 0.9428 0.9141 0.791  0.7574 0.7146]\n",
            "Explained variance ratio\n",
            "[0.1273 0.1057 0.0648 0.0628 0.0551 0.0498 0.0452 0.044  0.0404 0.0358\n",
            " 0.0354 0.0341 0.0328 0.0325 0.0317 0.0304 0.0295 0.0255 0.0244 0.023 ]\n"
          ],
          "name": "stdout"
        }
      ]
    },
    {
      "cell_type": "markdown",
      "metadata": {
        "id": "_BoBiwFH2ch-"
      },
      "source": [
        "### 2.Grafique la varianza capturada por los primeros $n$ componentes principales, para cada $n$.\n"
      ]
    },
    {
      "cell_type": "code",
      "metadata": {
        "colab": {
          "base_uri": "https://localhost:8080/",
          "height": 430
        },
        "id": "Om7SYHk8rLVg",
        "outputId": "069c11f0-bade-4202-fa36-3d519981b9ff"
      },
      "source": [
        "#Porcentaje  de varianza para los primeros n componentes principales\n",
        "fig = plt.figure(figsize=(10,6))\n",
        "seaborn.lineplot(x=range(pca.n_components),\n",
        "                 y=pca.explained_variance_ratio_,\n",
        "                 label='Escalado MINMAX')\n",
        "seaborn.lineplot(x=range(pca_std.n_components),\n",
        "                 y=pca_std.explained_variance_ratio_,\n",
        "                 label='Estandarizado')\n",
        "\n",
        "plt.ylabel(\"Ratio of variance explained\")\n",
        "plt.xlabel(\"Components\")"
      ],
      "execution_count": 63,
      "outputs": [
        {
          "output_type": "execute_result",
          "data": {
            "text/plain": [
              "Text(0.5, 0, 'Components')"
            ]
          },
          "metadata": {
            "tags": []
          },
          "execution_count": 63
        },
        {
          "output_type": "display_data",
          "data": {
            "image/png": "[encoded data removed]",
            "text/plain": [
              "<Figure size 720x432 with 1 Axes>"
            ]
          },
          "metadata": {
            "tags": [],
            "needs_background": "light"
          }
        }
      ]
    },
    {
      "cell_type": "markdown",
      "metadata": {
        "id": "r4rpj0_myN0Q"
      },
      "source": [
        "Se ve que con el estandarizado, el porcentaje de varianza que explica cada componente es bastante similar, vamos a tomar que al menos explique un 5% de la varianza"
      ]
    },
    {
      "cell_type": "code",
      "metadata": {
        "id": "KJiXtzOE3LZx"
      },
      "source": [
        "#cols = ['YearBuilt', 'Landsize']\n",
        "#data = melb_df_sample[cols + ['pca1_scaled', 'pca2_scaled']][:1000].dropna(how='any')\n",
        "#fig, axes = plt.subplots(1, 2, figsize=(20, 10))\n",
        "# Other variables to try: 'Price' 'Landsize' 'Price' 'YearBuilt'\n",
        "#seaborn.scatterplot(data=data, x='pca1_scaled', y='pca2_scaled',\n",
        "#                    hue='YearBuilt', ax=axes[0])  \n",
        "#seaborn.scatterplot(data=data, x='pca1_scaled', y='pca2_scaled',\n",
        " #                   hue='Landsize', ax=axes[1])"
      ],
      "execution_count": 64,
      "outputs": []
    },
    {
      "cell_type": "markdown",
      "metadata": {
        "id": "bcbLSBKU2jdW"
      },
      "source": [
        "### 3.En base al gráfico, seleccione las primeras $m$ columnas de la matriz transformada para agregar como nuevas características al conjunto de datos."
      ]
    },
    {
      "cell_type": "code",
      "metadata": {
        "id": "kLRRszbQ3MIn",
        "colab": {
          "base_uri": "https://localhost:8080/"
        },
        "outputId": "740d0922-e33c-4a8e-9a9e-87c5ba7ff77c"
      },
      "source": [
        "#Eleccion por aquellos componentes que expliquen más del 6% de la varianza\n",
        "porcentaje=0.05\n",
        "val_may_porce=pca_std.explained_variance_ratio_[(pca_std.explained_variance_ratio_>porcentaje)]\n",
        "m=len(val_may_porce)\n",
        "print (f'm={m},varianzas={val_may_porce.round(3)},explican el: {round(val_may_porce.sum(),3)} de la varianza total')"
      ],
      "execution_count": 65,
      "outputs": [
        {
          "output_type": "stream",
          "text": [
            "m=5,varianzas=[0.127 0.106 0.065 0.063 0.055],explican el: 0.416 de la varianza total\n"
          ],
          "name": "stdout"
        }
      ]
    },
    {
      "cell_type": "code",
      "metadata": {
        "id": "z34Xlw-X39W7"
      },
      "source": [
        "columnas_PCA=proyected_features[:,-m:]"
      ],
      "execution_count": 66,
      "outputs": []
    },
    {
      "cell_type": "code",
      "metadata": {
        "id": "o-toGFG_4uVZ"
      },
      "source": [
        "n_columnas=[]\n",
        "for i in range(m):\n",
        "  n_columnas.append(f'Componente{i+1}')"
      ],
      "execution_count": 67,
      "outputs": []
    },
    {
      "cell_type": "code",
      "metadata": {
        "id": "CBMBaTVV4fpk"
      },
      "source": [
        "df_PCA=pandas.DataFrame(columnas_PCA,columns=n_columnas)"
      ],
      "execution_count": 68,
      "outputs": []
    },
    {
      "cell_type": "code",
      "metadata": {
        "colab": {
          "base_uri": "https://localhost:8080/",
          "height": 419
        },
        "id": "WHj0_enE5TA6",
        "outputId": "425a2698-ea36-4054-886e-1b9d4713470d"
      },
      "source": [
        "df_PCA"
      ],
      "execution_count": 69,
      "outputs": [
        {
          "output_type": "execute_result",
          "data": {
            "text/html": [
              "<div>\n",
              "<style scoped>\n",
              "    .dataframe tbody tr th:only-of-type {\n",
              "        vertical-align: middle;\n",
              "    }\n",
              "\n",
              "    .dataframe tbody tr th {\n",
              "        vertical-align: top;\n",
              "    }\n",
              "\n",
              "    .dataframe thead th {\n",
              "        text-align: right;\n",
              "    }\n",
              "</style>\n",
              "<table border=\"1\" class=\"dataframe\">\n",
              "  <thead>\n",
              "    <tr style=\"text-align: right;\">\n",
              "      <th></th>\n",
              "      <th>Componente1</th>\n",
              "      <th>Componente2</th>\n",
              "      <th>Componente3</th>\n",
              "      <th>Componente4</th>\n",
              "      <th>Componente5</th>\n",
              "    </tr>\n",
              "  </thead>\n",
              "  <tbody>\n",
              "    <tr>\n",
              "      <th>0</th>\n",
              "      <td>0.549854</td>\n",
              "      <td>-0.453588</td>\n",
              "      <td>0.093456</td>\n",
              "      <td>0.017831</td>\n",
              "      <td>-0.033764</td>\n",
              "    </tr>\n",
              "    <tr>\n",
              "      <th>1</th>\n",
              "      <td>0.844901</td>\n",
              "      <td>-0.926863</td>\n",
              "      <td>0.212720</td>\n",
              "      <td>-0.592243</td>\n",
              "      <td>0.127163</td>\n",
              "    </tr>\n",
              "    <tr>\n",
              "      <th>2</th>\n",
              "      <td>1.082967</td>\n",
              "      <td>-0.243775</td>\n",
              "      <td>0.514492</td>\n",
              "      <td>-1.831404</td>\n",
              "      <td>0.626473</td>\n",
              "    </tr>\n",
              "    <tr>\n",
              "      <th>3</th>\n",
              "      <td>0.187858</td>\n",
              "      <td>-0.514866</td>\n",
              "      <td>0.446729</td>\n",
              "      <td>-0.911272</td>\n",
              "      <td>0.306118</td>\n",
              "    </tr>\n",
              "    <tr>\n",
              "      <th>4</th>\n",
              "      <td>-0.450819</td>\n",
              "      <td>-0.079701</td>\n",
              "      <td>-0.159461</td>\n",
              "      <td>0.410806</td>\n",
              "      <td>-0.027681</td>\n",
              "    </tr>\n",
              "    <tr>\n",
              "      <th>...</th>\n",
              "      <td>...</td>\n",
              "      <td>...</td>\n",
              "      <td>...</td>\n",
              "      <td>...</td>\n",
              "      <td>...</td>\n",
              "    </tr>\n",
              "    <tr>\n",
              "      <th>12306</th>\n",
              "      <td>-0.332098</td>\n",
              "      <td>0.681498</td>\n",
              "      <td>-0.049202</td>\n",
              "      <td>-0.463924</td>\n",
              "      <td>0.610993</td>\n",
              "    </tr>\n",
              "    <tr>\n",
              "      <th>12307</th>\n",
              "      <td>-1.567506</td>\n",
              "      <td>-1.438622</td>\n",
              "      <td>1.016909</td>\n",
              "      <td>-0.811260</td>\n",
              "      <td>-0.185345</td>\n",
              "    </tr>\n",
              "    <tr>\n",
              "      <th>12308</th>\n",
              "      <td>0.212851</td>\n",
              "      <td>0.886340</td>\n",
              "      <td>1.100086</td>\n",
              "      <td>-0.199852</td>\n",
              "      <td>-0.811923</td>\n",
              "    </tr>\n",
              "    <tr>\n",
              "      <th>12309</th>\n",
              "      <td>-0.569478</td>\n",
              "      <td>1.598590</td>\n",
              "      <td>1.070427</td>\n",
              "      <td>0.942970</td>\n",
              "      <td>-1.099300</td>\n",
              "    </tr>\n",
              "    <tr>\n",
              "      <th>12310</th>\n",
              "      <td>0.951815</td>\n",
              "      <td>-0.070313</td>\n",
              "      <td>0.426215</td>\n",
              "      <td>-0.420300</td>\n",
              "      <td>-0.419926</td>\n",
              "    </tr>\n",
              "  </tbody>\n",
              "</table>\n",
              "<p>12311 rows × 5 columns</p>\n",
              "</div>"
            ],
            "text/plain": [
              "       Componente1  Componente2  Componente3  Componente4  Componente5\n",
              "0         0.549854    -0.453588     0.093456     0.017831    -0.033764\n",
              "1         0.844901    -0.926863     0.212720    -0.592243     0.127163\n",
              "2         1.082967    -0.243775     0.514492    -1.831404     0.626473\n",
              "3         0.187858    -0.514866     0.446729    -0.911272     0.306118\n",
              "4        -0.450819    -0.079701    -0.159461     0.410806    -0.027681\n",
              "...            ...          ...          ...          ...          ...\n",
              "12306    -0.332098     0.681498    -0.049202    -0.463924     0.610993\n",
              "12307    -1.567506    -1.438622     1.016909    -0.811260    -0.185345\n",
              "12308     0.212851     0.886340     1.100086    -0.199852    -0.811923\n",
              "12309    -0.569478     1.598590     1.070427     0.942970    -1.099300\n",
              "12310     0.951815    -0.070313     0.426215    -0.420300    -0.419926\n",
              "\n",
              "[12311 rows x 5 columns]"
            ]
          },
          "metadata": {
            "tags": []
          },
          "execution_count": 69
        }
      ]
    },
    {
      "cell_type": "markdown",
      "metadata": {
        "id": "Pa6GqPCKlDnH"
      },
      "source": [
        "## Ejercicio 4: Composición del resultado\n",
        " \n",
        "Transformar nuevamente el conjunto de datos procesado en un `pandas.DataFrame` y guardarlo en un archivo.\n",
        " \n",
        "Para eso, será necesario recordar el nombre original de cada columna de la matriz, en el orden correcto. Tener en cuenta:\n",
        "1. El método `OneHotEncoder.get_feature_names` o el atributo `OneHotEncoder.categories_` permiten obtener una lista con los valores de la categoría que le corresponde a cada índice de la matriz.\n",
        "\n",
        "2. Ninguno de los métodos aplicados intercambia de lugar las columnas o las filas de la matriz.\n"
      ]
    },
    {
      "cell_type": "code",
      "metadata": {
        "id": "OJDK_3cg5s_L"
      },
      "source": [
        "cat_columns=list(encoder.get_feature_names())"
      ],
      "execution_count": 70,
      "outputs": []
    },
    {
      "cell_type": "code",
      "metadata": {
        "id": "6uNmZmGz74aL"
      },
      "source": [
        "new_df_columns=discretas+continuas+cat_columns+['YearBuilt','BuildingArea']"
      ],
      "execution_count": 71,
      "outputs": []
    },
    {
      "cell_type": "code",
      "metadata": {
        "colab": {
          "base_uri": "https://localhost:8080/"
        },
        "id": "fJkAwsvw60R5",
        "outputId": "d1ea3927-6ab9-4654-cfd8-0411765fbd28"
      },
      "source": [
        "new_df_columns"
      ],
      "execution_count": 72,
      "outputs": [
        {
          "output_type": "execute_result",
          "data": {
            "text/plain": [
              "['Rooms',\n",
              " 'Bathroom',\n",
              " 'Car',\n",
              " 'Landsize',\n",
              " 'Airbnb_Price',\n",
              " 'x0_h',\n",
              " 'x0_t',\n",
              " 'x0_u',\n",
              " 'x1_PI',\n",
              " 'x1_S',\n",
              " 'x1_SA',\n",
              " 'x1_SP',\n",
              " 'x1_VB',\n",
              " 'x2_Eastern Metropolitan',\n",
              " 'x2_Eastern Victoria',\n",
              " 'x2_Northern Metropolitan',\n",
              " 'x2_Northern Victoria',\n",
              " 'x2_South-Eastern Metropolitan',\n",
              " 'x2_Southern Metropolitan',\n",
              " 'x2_Western Metropolitan',\n",
              " 'x2_Western Victoria',\n",
              " 'x3_3099.0',\n",
              " 'x3_3199.0',\n",
              " 'x3_3299.0',\n",
              " 'x3_3399.0',\n",
              " 'x3_3499.0',\n",
              " 'x3_3799.0',\n",
              " 'x3_3899.0',\n",
              " 'x3_3999.0',\n",
              " 'YearBuilt',\n",
              " 'BuildingArea']"
            ]
          },
          "metadata": {
            "tags": []
          },
          "execution_count": 72
        }
      ]
    },
    {
      "cell_type": "code",
      "metadata": {
        "id": "1x6qtiDi5zoe"
      },
      "source": [
        "new_df=pandas.DataFrame(pred_scal_inv,columns=new_df_columns)"
      ],
      "execution_count": 73,
      "outputs": []
    },
    {
      "cell_type": "code",
      "metadata": {
        "colab": {
          "base_uri": "https://localhost:8080/",
          "height": 473
        },
        "id": "g4QoNa4_6T_-",
        "outputId": "cacb64ae-f664-4c2b-b6e8-b5cdc269de05"
      },
      "source": [
        "new_df"
      ],
      "execution_count": 74,
      "outputs": [
        {
          "output_type": "execute_result",
          "data": {
            "text/html": [
              "<div>\n",
              "<style scoped>\n",
              "    .dataframe tbody tr th:only-of-type {\n",
              "        vertical-align: middle;\n",
              "    }\n",
              "\n",
              "    .dataframe tbody tr th {\n",
              "        vertical-align: top;\n",
              "    }\n",
              "\n",
              "    .dataframe thead th {\n",
              "        text-align: right;\n",
              "    }\n",
              "</style>\n",
              "<table border=\"1\" class=\"dataframe\">\n",
              "  <thead>\n",
              "    <tr style=\"text-align: right;\">\n",
              "      <th></th>\n",
              "      <th>Rooms</th>\n",
              "      <th>Bathroom</th>\n",
              "      <th>Car</th>\n",
              "      <th>Landsize</th>\n",
              "      <th>Airbnb_Price</th>\n",
              "      <th>x0_h</th>\n",
              "      <th>x0_t</th>\n",
              "      <th>x0_u</th>\n",
              "      <th>x1_PI</th>\n",
              "      <th>x1_S</th>\n",
              "      <th>x1_SA</th>\n",
              "      <th>x1_SP</th>\n",
              "      <th>x1_VB</th>\n",
              "      <th>x2_Eastern Metropolitan</th>\n",
              "      <th>x2_Eastern Victoria</th>\n",
              "      <th>x2_Northern Metropolitan</th>\n",
              "      <th>x2_Northern Victoria</th>\n",
              "      <th>x2_South-Eastern Metropolitan</th>\n",
              "      <th>x2_Southern Metropolitan</th>\n",
              "      <th>x2_Western Metropolitan</th>\n",
              "      <th>x2_Western Victoria</th>\n",
              "      <th>x3_3099.0</th>\n",
              "      <th>x3_3199.0</th>\n",
              "      <th>x3_3299.0</th>\n",
              "      <th>x3_3399.0</th>\n",
              "      <th>x3_3499.0</th>\n",
              "      <th>x3_3799.0</th>\n",
              "      <th>x3_3899.0</th>\n",
              "      <th>x3_3999.0</th>\n",
              "      <th>YearBuilt</th>\n",
              "      <th>BuildingArea</th>\n",
              "    </tr>\n",
              "  </thead>\n",
              "  <tbody>\n",
              "    <tr>\n",
              "      <th>0</th>\n",
              "      <td>2.0</td>\n",
              "      <td>1.0</td>\n",
              "      <td>1.0</td>\n",
              "      <td>202.0</td>\n",
              "      <td>130.62402</td>\n",
              "      <td>1.0</td>\n",
              "      <td>0.0</td>\n",
              "      <td>0.0</td>\n",
              "      <td>0.0</td>\n",
              "      <td>1.0</td>\n",
              "      <td>0.0</td>\n",
              "      <td>0.0</td>\n",
              "      <td>0.0</td>\n",
              "      <td>0.0</td>\n",
              "      <td>0.0</td>\n",
              "      <td>1.0</td>\n",
              "      <td>0.0</td>\n",
              "      <td>0.0</td>\n",
              "      <td>0.0</td>\n",
              "      <td>0.0</td>\n",
              "      <td>0.0</td>\n",
              "      <td>1.0</td>\n",
              "      <td>0.0</td>\n",
              "      <td>0.0</td>\n",
              "      <td>0.0</td>\n",
              "      <td>0.0</td>\n",
              "      <td>0.0</td>\n",
              "      <td>0.0</td>\n",
              "      <td>0.0</td>\n",
              "      <td>1901.0</td>\n",
              "      <td>86.80</td>\n",
              "    </tr>\n",
              "    <tr>\n",
              "      <th>1</th>\n",
              "      <td>2.0</td>\n",
              "      <td>1.0</td>\n",
              "      <td>0.0</td>\n",
              "      <td>156.0</td>\n",
              "      <td>130.62402</td>\n",
              "      <td>1.0</td>\n",
              "      <td>0.0</td>\n",
              "      <td>0.0</td>\n",
              "      <td>0.0</td>\n",
              "      <td>1.0</td>\n",
              "      <td>0.0</td>\n",
              "      <td>0.0</td>\n",
              "      <td>0.0</td>\n",
              "      <td>0.0</td>\n",
              "      <td>0.0</td>\n",
              "      <td>1.0</td>\n",
              "      <td>0.0</td>\n",
              "      <td>0.0</td>\n",
              "      <td>0.0</td>\n",
              "      <td>0.0</td>\n",
              "      <td>0.0</td>\n",
              "      <td>1.0</td>\n",
              "      <td>0.0</td>\n",
              "      <td>0.0</td>\n",
              "      <td>0.0</td>\n",
              "      <td>0.0</td>\n",
              "      <td>0.0</td>\n",
              "      <td>0.0</td>\n",
              "      <td>0.0</td>\n",
              "      <td>1900.0</td>\n",
              "      <td>79.00</td>\n",
              "    </tr>\n",
              "    <tr>\n",
              "      <th>2</th>\n",
              "      <td>3.0</td>\n",
              "      <td>2.0</td>\n",
              "      <td>0.0</td>\n",
              "      <td>134.0</td>\n",
              "      <td>130.62402</td>\n",
              "      <td>1.0</td>\n",
              "      <td>0.0</td>\n",
              "      <td>0.0</td>\n",
              "      <td>0.0</td>\n",
              "      <td>0.0</td>\n",
              "      <td>0.0</td>\n",
              "      <td>1.0</td>\n",
              "      <td>0.0</td>\n",
              "      <td>0.0</td>\n",
              "      <td>0.0</td>\n",
              "      <td>1.0</td>\n",
              "      <td>0.0</td>\n",
              "      <td>0.0</td>\n",
              "      <td>0.0</td>\n",
              "      <td>0.0</td>\n",
              "      <td>0.0</td>\n",
              "      <td>1.0</td>\n",
              "      <td>0.0</td>\n",
              "      <td>0.0</td>\n",
              "      <td>0.0</td>\n",
              "      <td>0.0</td>\n",
              "      <td>0.0</td>\n",
              "      <td>0.0</td>\n",
              "      <td>0.0</td>\n",
              "      <td>1900.0</td>\n",
              "      <td>150.00</td>\n",
              "    </tr>\n",
              "    <tr>\n",
              "      <th>3</th>\n",
              "      <td>3.0</td>\n",
              "      <td>2.0</td>\n",
              "      <td>1.0</td>\n",
              "      <td>94.0</td>\n",
              "      <td>130.62402</td>\n",
              "      <td>1.0</td>\n",
              "      <td>0.0</td>\n",
              "      <td>0.0</td>\n",
              "      <td>1.0</td>\n",
              "      <td>0.0</td>\n",
              "      <td>0.0</td>\n",
              "      <td>0.0</td>\n",
              "      <td>0.0</td>\n",
              "      <td>0.0</td>\n",
              "      <td>0.0</td>\n",
              "      <td>1.0</td>\n",
              "      <td>0.0</td>\n",
              "      <td>0.0</td>\n",
              "      <td>0.0</td>\n",
              "      <td>0.0</td>\n",
              "      <td>0.0</td>\n",
              "      <td>1.0</td>\n",
              "      <td>0.0</td>\n",
              "      <td>0.0</td>\n",
              "      <td>0.0</td>\n",
              "      <td>0.0</td>\n",
              "      <td>0.0</td>\n",
              "      <td>0.0</td>\n",
              "      <td>0.0</td>\n",
              "      <td>1934.6</td>\n",
              "      <td>131.40</td>\n",
              "    </tr>\n",
              "    <tr>\n",
              "      <th>4</th>\n",
              "      <td>4.0</td>\n",
              "      <td>1.0</td>\n",
              "      <td>2.0</td>\n",
              "      <td>120.0</td>\n",
              "      <td>130.62402</td>\n",
              "      <td>1.0</td>\n",
              "      <td>0.0</td>\n",
              "      <td>0.0</td>\n",
              "      <td>0.0</td>\n",
              "      <td>0.0</td>\n",
              "      <td>0.0</td>\n",
              "      <td>0.0</td>\n",
              "      <td>1.0</td>\n",
              "      <td>0.0</td>\n",
              "      <td>0.0</td>\n",
              "      <td>1.0</td>\n",
              "      <td>0.0</td>\n",
              "      <td>0.0</td>\n",
              "      <td>0.0</td>\n",
              "      <td>0.0</td>\n",
              "      <td>0.0</td>\n",
              "      <td>1.0</td>\n",
              "      <td>0.0</td>\n",
              "      <td>0.0</td>\n",
              "      <td>0.0</td>\n",
              "      <td>0.0</td>\n",
              "      <td>0.0</td>\n",
              "      <td>0.0</td>\n",
              "      <td>0.0</td>\n",
              "      <td>2014.0</td>\n",
              "      <td>142.00</td>\n",
              "    </tr>\n",
              "    <tr>\n",
              "      <th>...</th>\n",
              "      <td>...</td>\n",
              "      <td>...</td>\n",
              "      <td>...</td>\n",
              "      <td>...</td>\n",
              "      <td>...</td>\n",
              "      <td>...</td>\n",
              "      <td>...</td>\n",
              "      <td>...</td>\n",
              "      <td>...</td>\n",
              "      <td>...</td>\n",
              "      <td>...</td>\n",
              "      <td>...</td>\n",
              "      <td>...</td>\n",
              "      <td>...</td>\n",
              "      <td>...</td>\n",
              "      <td>...</td>\n",
              "      <td>...</td>\n",
              "      <td>...</td>\n",
              "      <td>...</td>\n",
              "      <td>...</td>\n",
              "      <td>...</td>\n",
              "      <td>...</td>\n",
              "      <td>...</td>\n",
              "      <td>...</td>\n",
              "      <td>...</td>\n",
              "      <td>...</td>\n",
              "      <td>...</td>\n",
              "      <td>...</td>\n",
              "      <td>...</td>\n",
              "      <td>...</td>\n",
              "      <td>...</td>\n",
              "    </tr>\n",
              "    <tr>\n",
              "      <th>12306</th>\n",
              "      <td>3.0</td>\n",
              "      <td>2.0</td>\n",
              "      <td>2.0</td>\n",
              "      <td>256.0</td>\n",
              "      <td>92.28571</td>\n",
              "      <td>1.0</td>\n",
              "      <td>0.0</td>\n",
              "      <td>0.0</td>\n",
              "      <td>0.0</td>\n",
              "      <td>1.0</td>\n",
              "      <td>0.0</td>\n",
              "      <td>0.0</td>\n",
              "      <td>0.0</td>\n",
              "      <td>0.0</td>\n",
              "      <td>0.0</td>\n",
              "      <td>1.0</td>\n",
              "      <td>0.0</td>\n",
              "      <td>0.0</td>\n",
              "      <td>0.0</td>\n",
              "      <td>0.0</td>\n",
              "      <td>0.0</td>\n",
              "      <td>1.0</td>\n",
              "      <td>0.0</td>\n",
              "      <td>0.0</td>\n",
              "      <td>0.0</td>\n",
              "      <td>0.0</td>\n",
              "      <td>0.0</td>\n",
              "      <td>0.0</td>\n",
              "      <td>0.0</td>\n",
              "      <td>1987.6</td>\n",
              "      <td>168.80</td>\n",
              "    </tr>\n",
              "    <tr>\n",
              "      <th>12307</th>\n",
              "      <td>4.0</td>\n",
              "      <td>2.0</td>\n",
              "      <td>2.0</td>\n",
              "      <td>652.0</td>\n",
              "      <td>124.02646</td>\n",
              "      <td>1.0</td>\n",
              "      <td>0.0</td>\n",
              "      <td>0.0</td>\n",
              "      <td>0.0</td>\n",
              "      <td>1.0</td>\n",
              "      <td>0.0</td>\n",
              "      <td>0.0</td>\n",
              "      <td>0.0</td>\n",
              "      <td>0.0</td>\n",
              "      <td>0.0</td>\n",
              "      <td>0.0</td>\n",
              "      <td>0.0</td>\n",
              "      <td>1.0</td>\n",
              "      <td>0.0</td>\n",
              "      <td>0.0</td>\n",
              "      <td>0.0</td>\n",
              "      <td>0.0</td>\n",
              "      <td>1.0</td>\n",
              "      <td>0.0</td>\n",
              "      <td>0.0</td>\n",
              "      <td>0.0</td>\n",
              "      <td>0.0</td>\n",
              "      <td>0.0</td>\n",
              "      <td>0.0</td>\n",
              "      <td>1981.0</td>\n",
              "      <td>195.20</td>\n",
              "    </tr>\n",
              "    <tr>\n",
              "      <th>12308</th>\n",
              "      <td>3.0</td>\n",
              "      <td>2.0</td>\n",
              "      <td>2.0</td>\n",
              "      <td>333.0</td>\n",
              "      <td>191.09459</td>\n",
              "      <td>1.0</td>\n",
              "      <td>0.0</td>\n",
              "      <td>0.0</td>\n",
              "      <td>0.0</td>\n",
              "      <td>0.0</td>\n",
              "      <td>0.0</td>\n",
              "      <td>1.0</td>\n",
              "      <td>0.0</td>\n",
              "      <td>0.0</td>\n",
              "      <td>0.0</td>\n",
              "      <td>0.0</td>\n",
              "      <td>0.0</td>\n",
              "      <td>0.0</td>\n",
              "      <td>0.0</td>\n",
              "      <td>1.0</td>\n",
              "      <td>0.0</td>\n",
              "      <td>1.0</td>\n",
              "      <td>0.0</td>\n",
              "      <td>0.0</td>\n",
              "      <td>0.0</td>\n",
              "      <td>0.0</td>\n",
              "      <td>0.0</td>\n",
              "      <td>0.0</td>\n",
              "      <td>0.0</td>\n",
              "      <td>1995.0</td>\n",
              "      <td>133.00</td>\n",
              "    </tr>\n",
              "    <tr>\n",
              "      <th>12309</th>\n",
              "      <td>3.0</td>\n",
              "      <td>2.0</td>\n",
              "      <td>4.0</td>\n",
              "      <td>436.0</td>\n",
              "      <td>191.09459</td>\n",
              "      <td>1.0</td>\n",
              "      <td>0.0</td>\n",
              "      <td>0.0</td>\n",
              "      <td>0.0</td>\n",
              "      <td>1.0</td>\n",
              "      <td>0.0</td>\n",
              "      <td>0.0</td>\n",
              "      <td>0.0</td>\n",
              "      <td>0.0</td>\n",
              "      <td>0.0</td>\n",
              "      <td>0.0</td>\n",
              "      <td>0.0</td>\n",
              "      <td>0.0</td>\n",
              "      <td>0.0</td>\n",
              "      <td>1.0</td>\n",
              "      <td>0.0</td>\n",
              "      <td>1.0</td>\n",
              "      <td>0.0</td>\n",
              "      <td>0.0</td>\n",
              "      <td>0.0</td>\n",
              "      <td>0.0</td>\n",
              "      <td>0.0</td>\n",
              "      <td>0.0</td>\n",
              "      <td>0.0</td>\n",
              "      <td>1997.0</td>\n",
              "      <td>177.94</td>\n",
              "    </tr>\n",
              "    <tr>\n",
              "      <th>12310</th>\n",
              "      <td>4.0</td>\n",
              "      <td>1.0</td>\n",
              "      <td>1.0</td>\n",
              "      <td>362.0</td>\n",
              "      <td>135.60976</td>\n",
              "      <td>1.0</td>\n",
              "      <td>0.0</td>\n",
              "      <td>0.0</td>\n",
              "      <td>0.0</td>\n",
              "      <td>0.0</td>\n",
              "      <td>0.0</td>\n",
              "      <td>1.0</td>\n",
              "      <td>0.0</td>\n",
              "      <td>0.0</td>\n",
              "      <td>0.0</td>\n",
              "      <td>0.0</td>\n",
              "      <td>0.0</td>\n",
              "      <td>0.0</td>\n",
              "      <td>0.0</td>\n",
              "      <td>1.0</td>\n",
              "      <td>0.0</td>\n",
              "      <td>1.0</td>\n",
              "      <td>0.0</td>\n",
              "      <td>0.0</td>\n",
              "      <td>0.0</td>\n",
              "      <td>0.0</td>\n",
              "      <td>0.0</td>\n",
              "      <td>0.0</td>\n",
              "      <td>0.0</td>\n",
              "      <td>1920.0</td>\n",
              "      <td>112.00</td>\n",
              "    </tr>\n",
              "  </tbody>\n",
              "</table>\n",
              "<p>12311 rows × 31 columns</p>\n",
              "</div>"
            ],
            "text/plain": [
              "       Rooms  Bathroom  Car  ...  x3_3999.0  YearBuilt  BuildingArea\n",
              "0        2.0       1.0  1.0  ...        0.0     1901.0         86.80\n",
              "1        2.0       1.0  0.0  ...        0.0     1900.0         79.00\n",
              "2        3.0       2.0  0.0  ...        0.0     1900.0        150.00\n",
              "3        3.0       2.0  1.0  ...        0.0     1934.6        131.40\n",
              "4        4.0       1.0  2.0  ...        0.0     2014.0        142.00\n",
              "...      ...       ...  ...  ...        ...        ...           ...\n",
              "12306    3.0       2.0  2.0  ...        0.0     1987.6        168.80\n",
              "12307    4.0       2.0  2.0  ...        0.0     1981.0        195.20\n",
              "12308    3.0       2.0  2.0  ...        0.0     1995.0        133.00\n",
              "12309    3.0       2.0  4.0  ...        0.0     1997.0        177.94\n",
              "12310    4.0       1.0  1.0  ...        0.0     1920.0        112.00\n",
              "\n",
              "[12311 rows x 31 columns]"
            ]
          },
          "metadata": {
            "tags": []
          },
          "execution_count": 74
        }
      ]
    },
    {
      "cell_type": "code",
      "metadata": {
        "id": "gxVFekjmJeS4"
      },
      "source": [
        "df_fin=pandas.concat((new_df,df_PCA),axis=1)\n",
        "df_fin['Price']=melb_df_na['Price']\n"
      ],
      "execution_count": 75,
      "outputs": []
    },
    {
      "cell_type": "code",
      "metadata": {
        "id": "mPaoze2EKJZj",
        "colab": {
          "base_uri": "https://localhost:8080/",
          "height": 473
        },
        "outputId": "856c1e77-0a13-4b94-8cbe-b0e041d4865d"
      },
      "source": [
        "df_fin"
      ],
      "execution_count": 76,
      "outputs": [
        {
          "output_type": "execute_result",
          "data": {
            "text/html": [
              "<div>\n",
              "<style scoped>\n",
              "    .dataframe tbody tr th:only-of-type {\n",
              "        vertical-align: middle;\n",
              "    }\n",
              "\n",
              "    .dataframe tbody tr th {\n",
              "        vertical-align: top;\n",
              "    }\n",
              "\n",
              "    .dataframe thead th {\n",
              "        text-align: right;\n",
              "    }\n",
              "</style>\n",
              "<table border=\"1\" class=\"dataframe\">\n",
              "  <thead>\n",
              "    <tr style=\"text-align: right;\">\n",
              "      <th></th>\n",
              "      <th>Rooms</th>\n",
              "      <th>Bathroom</th>\n",
              "      <th>Car</th>\n",
              "      <th>Landsize</th>\n",
              "      <th>Airbnb_Price</th>\n",
              "      <th>x0_h</th>\n",
              "      <th>x0_t</th>\n",
              "      <th>x0_u</th>\n",
              "      <th>x1_PI</th>\n",
              "      <th>x1_S</th>\n",
              "      <th>x1_SA</th>\n",
              "      <th>x1_SP</th>\n",
              "      <th>x1_VB</th>\n",
              "      <th>x2_Eastern Metropolitan</th>\n",
              "      <th>x2_Eastern Victoria</th>\n",
              "      <th>x2_Northern Metropolitan</th>\n",
              "      <th>x2_Northern Victoria</th>\n",
              "      <th>x2_South-Eastern Metropolitan</th>\n",
              "      <th>x2_Southern Metropolitan</th>\n",
              "      <th>x2_Western Metropolitan</th>\n",
              "      <th>x2_Western Victoria</th>\n",
              "      <th>x3_3099.0</th>\n",
              "      <th>x3_3199.0</th>\n",
              "      <th>x3_3299.0</th>\n",
              "      <th>x3_3399.0</th>\n",
              "      <th>x3_3499.0</th>\n",
              "      <th>x3_3799.0</th>\n",
              "      <th>x3_3899.0</th>\n",
              "      <th>x3_3999.0</th>\n",
              "      <th>YearBuilt</th>\n",
              "      <th>BuildingArea</th>\n",
              "      <th>Componente1</th>\n",
              "      <th>Componente2</th>\n",
              "      <th>Componente3</th>\n",
              "      <th>Componente4</th>\n",
              "      <th>Componente5</th>\n",
              "      <th>Price</th>\n",
              "    </tr>\n",
              "  </thead>\n",
              "  <tbody>\n",
              "    <tr>\n",
              "      <th>0</th>\n",
              "      <td>2.0</td>\n",
              "      <td>1.0</td>\n",
              "      <td>1.0</td>\n",
              "      <td>202.0</td>\n",
              "      <td>130.62402</td>\n",
              "      <td>1.0</td>\n",
              "      <td>0.0</td>\n",
              "      <td>0.0</td>\n",
              "      <td>0.0</td>\n",
              "      <td>1.0</td>\n",
              "      <td>0.0</td>\n",
              "      <td>0.0</td>\n",
              "      <td>0.0</td>\n",
              "      <td>0.0</td>\n",
              "      <td>0.0</td>\n",
              "      <td>1.0</td>\n",
              "      <td>0.0</td>\n",
              "      <td>0.0</td>\n",
              "      <td>0.0</td>\n",
              "      <td>0.0</td>\n",
              "      <td>0.0</td>\n",
              "      <td>1.0</td>\n",
              "      <td>0.0</td>\n",
              "      <td>0.0</td>\n",
              "      <td>0.0</td>\n",
              "      <td>0.0</td>\n",
              "      <td>0.0</td>\n",
              "      <td>0.0</td>\n",
              "      <td>0.0</td>\n",
              "      <td>1901.0</td>\n",
              "      <td>86.80</td>\n",
              "      <td>0.549854</td>\n",
              "      <td>-0.453588</td>\n",
              "      <td>0.093456</td>\n",
              "      <td>0.017831</td>\n",
              "      <td>-0.033764</td>\n",
              "      <td>1480000.0</td>\n",
              "    </tr>\n",
              "    <tr>\n",
              "      <th>1</th>\n",
              "      <td>2.0</td>\n",
              "      <td>1.0</td>\n",
              "      <td>0.0</td>\n",
              "      <td>156.0</td>\n",
              "      <td>130.62402</td>\n",
              "      <td>1.0</td>\n",
              "      <td>0.0</td>\n",
              "      <td>0.0</td>\n",
              "      <td>0.0</td>\n",
              "      <td>1.0</td>\n",
              "      <td>0.0</td>\n",
              "      <td>0.0</td>\n",
              "      <td>0.0</td>\n",
              "      <td>0.0</td>\n",
              "      <td>0.0</td>\n",
              "      <td>1.0</td>\n",
              "      <td>0.0</td>\n",
              "      <td>0.0</td>\n",
              "      <td>0.0</td>\n",
              "      <td>0.0</td>\n",
              "      <td>0.0</td>\n",
              "      <td>1.0</td>\n",
              "      <td>0.0</td>\n",
              "      <td>0.0</td>\n",
              "      <td>0.0</td>\n",
              "      <td>0.0</td>\n",
              "      <td>0.0</td>\n",
              "      <td>0.0</td>\n",
              "      <td>0.0</td>\n",
              "      <td>1900.0</td>\n",
              "      <td>79.00</td>\n",
              "      <td>0.844901</td>\n",
              "      <td>-0.926863</td>\n",
              "      <td>0.212720</td>\n",
              "      <td>-0.592243</td>\n",
              "      <td>0.127163</td>\n",
              "      <td>1035000.0</td>\n",
              "    </tr>\n",
              "    <tr>\n",
              "      <th>2</th>\n",
              "      <td>3.0</td>\n",
              "      <td>2.0</td>\n",
              "      <td>0.0</td>\n",
              "      <td>134.0</td>\n",
              "      <td>130.62402</td>\n",
              "      <td>1.0</td>\n",
              "      <td>0.0</td>\n",
              "      <td>0.0</td>\n",
              "      <td>0.0</td>\n",
              "      <td>0.0</td>\n",
              "      <td>0.0</td>\n",
              "      <td>1.0</td>\n",
              "      <td>0.0</td>\n",
              "      <td>0.0</td>\n",
              "      <td>0.0</td>\n",
              "      <td>1.0</td>\n",
              "      <td>0.0</td>\n",
              "      <td>0.0</td>\n",
              "      <td>0.0</td>\n",
              "      <td>0.0</td>\n",
              "      <td>0.0</td>\n",
              "      <td>1.0</td>\n",
              "      <td>0.0</td>\n",
              "      <td>0.0</td>\n",
              "      <td>0.0</td>\n",
              "      <td>0.0</td>\n",
              "      <td>0.0</td>\n",
              "      <td>0.0</td>\n",
              "      <td>0.0</td>\n",
              "      <td>1900.0</td>\n",
              "      <td>150.00</td>\n",
              "      <td>1.082967</td>\n",
              "      <td>-0.243775</td>\n",
              "      <td>0.514492</td>\n",
              "      <td>-1.831404</td>\n",
              "      <td>0.626473</td>\n",
              "      <td>1465000.0</td>\n",
              "    </tr>\n",
              "    <tr>\n",
              "      <th>3</th>\n",
              "      <td>3.0</td>\n",
              "      <td>2.0</td>\n",
              "      <td>1.0</td>\n",
              "      <td>94.0</td>\n",
              "      <td>130.62402</td>\n",
              "      <td>1.0</td>\n",
              "      <td>0.0</td>\n",
              "      <td>0.0</td>\n",
              "      <td>1.0</td>\n",
              "      <td>0.0</td>\n",
              "      <td>0.0</td>\n",
              "      <td>0.0</td>\n",
              "      <td>0.0</td>\n",
              "      <td>0.0</td>\n",
              "      <td>0.0</td>\n",
              "      <td>1.0</td>\n",
              "      <td>0.0</td>\n",
              "      <td>0.0</td>\n",
              "      <td>0.0</td>\n",
              "      <td>0.0</td>\n",
              "      <td>0.0</td>\n",
              "      <td>1.0</td>\n",
              "      <td>0.0</td>\n",
              "      <td>0.0</td>\n",
              "      <td>0.0</td>\n",
              "      <td>0.0</td>\n",
              "      <td>0.0</td>\n",
              "      <td>0.0</td>\n",
              "      <td>0.0</td>\n",
              "      <td>1934.6</td>\n",
              "      <td>131.40</td>\n",
              "      <td>0.187858</td>\n",
              "      <td>-0.514866</td>\n",
              "      <td>0.446729</td>\n",
              "      <td>-0.911272</td>\n",
              "      <td>0.306118</td>\n",
              "      <td>850000.0</td>\n",
              "    </tr>\n",
              "    <tr>\n",
              "      <th>4</th>\n",
              "      <td>4.0</td>\n",
              "      <td>1.0</td>\n",
              "      <td>2.0</td>\n",
              "      <td>120.0</td>\n",
              "      <td>130.62402</td>\n",
              "      <td>1.0</td>\n",
              "      <td>0.0</td>\n",
              "      <td>0.0</td>\n",
              "      <td>0.0</td>\n",
              "      <td>0.0</td>\n",
              "      <td>0.0</td>\n",
              "      <td>0.0</td>\n",
              "      <td>1.0</td>\n",
              "      <td>0.0</td>\n",
              "      <td>0.0</td>\n",
              "      <td>1.0</td>\n",
              "      <td>0.0</td>\n",
              "      <td>0.0</td>\n",
              "      <td>0.0</td>\n",
              "      <td>0.0</td>\n",
              "      <td>0.0</td>\n",
              "      <td>1.0</td>\n",
              "      <td>0.0</td>\n",
              "      <td>0.0</td>\n",
              "      <td>0.0</td>\n",
              "      <td>0.0</td>\n",
              "      <td>0.0</td>\n",
              "      <td>0.0</td>\n",
              "      <td>0.0</td>\n",
              "      <td>2014.0</td>\n",
              "      <td>142.00</td>\n",
              "      <td>-0.450819</td>\n",
              "      <td>-0.079701</td>\n",
              "      <td>-0.159461</td>\n",
              "      <td>0.410806</td>\n",
              "      <td>-0.027681</td>\n",
              "      <td>1600000.0</td>\n",
              "    </tr>\n",
              "    <tr>\n",
              "      <th>...</th>\n",
              "      <td>...</td>\n",
              "      <td>...</td>\n",
              "      <td>...</td>\n",
              "      <td>...</td>\n",
              "      <td>...</td>\n",
              "      <td>...</td>\n",
              "      <td>...</td>\n",
              "      <td>...</td>\n",
              "      <td>...</td>\n",
              "      <td>...</td>\n",
              "      <td>...</td>\n",
              "      <td>...</td>\n",
              "      <td>...</td>\n",
              "      <td>...</td>\n",
              "      <td>...</td>\n",
              "      <td>...</td>\n",
              "      <td>...</td>\n",
              "      <td>...</td>\n",
              "      <td>...</td>\n",
              "      <td>...</td>\n",
              "      <td>...</td>\n",
              "      <td>...</td>\n",
              "      <td>...</td>\n",
              "      <td>...</td>\n",
              "      <td>...</td>\n",
              "      <td>...</td>\n",
              "      <td>...</td>\n",
              "      <td>...</td>\n",
              "      <td>...</td>\n",
              "      <td>...</td>\n",
              "      <td>...</td>\n",
              "      <td>...</td>\n",
              "      <td>...</td>\n",
              "      <td>...</td>\n",
              "      <td>...</td>\n",
              "      <td>...</td>\n",
              "      <td>...</td>\n",
              "    </tr>\n",
              "    <tr>\n",
              "      <th>12306</th>\n",
              "      <td>3.0</td>\n",
              "      <td>2.0</td>\n",
              "      <td>2.0</td>\n",
              "      <td>256.0</td>\n",
              "      <td>92.28571</td>\n",
              "      <td>1.0</td>\n",
              "      <td>0.0</td>\n",
              "      <td>0.0</td>\n",
              "      <td>0.0</td>\n",
              "      <td>1.0</td>\n",
              "      <td>0.0</td>\n",
              "      <td>0.0</td>\n",
              "      <td>0.0</td>\n",
              "      <td>0.0</td>\n",
              "      <td>0.0</td>\n",
              "      <td>1.0</td>\n",
              "      <td>0.0</td>\n",
              "      <td>0.0</td>\n",
              "      <td>0.0</td>\n",
              "      <td>0.0</td>\n",
              "      <td>0.0</td>\n",
              "      <td>1.0</td>\n",
              "      <td>0.0</td>\n",
              "      <td>0.0</td>\n",
              "      <td>0.0</td>\n",
              "      <td>0.0</td>\n",
              "      <td>0.0</td>\n",
              "      <td>0.0</td>\n",
              "      <td>0.0</td>\n",
              "      <td>1987.6</td>\n",
              "      <td>168.80</td>\n",
              "      <td>-0.332098</td>\n",
              "      <td>0.681498</td>\n",
              "      <td>-0.049202</td>\n",
              "      <td>-0.463924</td>\n",
              "      <td>0.610993</td>\n",
              "      <td>512000.0</td>\n",
              "    </tr>\n",
              "    <tr>\n",
              "      <th>12307</th>\n",
              "      <td>4.0</td>\n",
              "      <td>2.0</td>\n",
              "      <td>2.0</td>\n",
              "      <td>652.0</td>\n",
              "      <td>124.02646</td>\n",
              "      <td>1.0</td>\n",
              "      <td>0.0</td>\n",
              "      <td>0.0</td>\n",
              "      <td>0.0</td>\n",
              "      <td>1.0</td>\n",
              "      <td>0.0</td>\n",
              "      <td>0.0</td>\n",
              "      <td>0.0</td>\n",
              "      <td>0.0</td>\n",
              "      <td>0.0</td>\n",
              "      <td>0.0</td>\n",
              "      <td>0.0</td>\n",
              "      <td>1.0</td>\n",
              "      <td>0.0</td>\n",
              "      <td>0.0</td>\n",
              "      <td>0.0</td>\n",
              "      <td>0.0</td>\n",
              "      <td>1.0</td>\n",
              "      <td>0.0</td>\n",
              "      <td>0.0</td>\n",
              "      <td>0.0</td>\n",
              "      <td>0.0</td>\n",
              "      <td>0.0</td>\n",
              "      <td>0.0</td>\n",
              "      <td>1981.0</td>\n",
              "      <td>195.20</td>\n",
              "      <td>-1.567506</td>\n",
              "      <td>-1.438622</td>\n",
              "      <td>1.016909</td>\n",
              "      <td>-0.811260</td>\n",
              "      <td>-0.185345</td>\n",
              "      <td>1502000.0</td>\n",
              "    </tr>\n",
              "    <tr>\n",
              "      <th>12308</th>\n",
              "      <td>3.0</td>\n",
              "      <td>2.0</td>\n",
              "      <td>2.0</td>\n",
              "      <td>333.0</td>\n",
              "      <td>191.09459</td>\n",
              "      <td>1.0</td>\n",
              "      <td>0.0</td>\n",
              "      <td>0.0</td>\n",
              "      <td>0.0</td>\n",
              "      <td>0.0</td>\n",
              "      <td>0.0</td>\n",
              "      <td>1.0</td>\n",
              "      <td>0.0</td>\n",
              "      <td>0.0</td>\n",
              "      <td>0.0</td>\n",
              "      <td>0.0</td>\n",
              "      <td>0.0</td>\n",
              "      <td>0.0</td>\n",
              "      <td>0.0</td>\n",
              "      <td>1.0</td>\n",
              "      <td>0.0</td>\n",
              "      <td>1.0</td>\n",
              "      <td>0.0</td>\n",
              "      <td>0.0</td>\n",
              "      <td>0.0</td>\n",
              "      <td>0.0</td>\n",
              "      <td>0.0</td>\n",
              "      <td>0.0</td>\n",
              "      <td>0.0</td>\n",
              "      <td>1995.0</td>\n",
              "      <td>133.00</td>\n",
              "      <td>0.212851</td>\n",
              "      <td>0.886340</td>\n",
              "      <td>1.100086</td>\n",
              "      <td>-0.199852</td>\n",
              "      <td>-0.811923</td>\n",
              "      <td>965000.0</td>\n",
              "    </tr>\n",
              "    <tr>\n",
              "      <th>12309</th>\n",
              "      <td>3.0</td>\n",
              "      <td>2.0</td>\n",
              "      <td>4.0</td>\n",
              "      <td>436.0</td>\n",
              "      <td>191.09459</td>\n",
              "      <td>1.0</td>\n",
              "      <td>0.0</td>\n",
              "      <td>0.0</td>\n",
              "      <td>0.0</td>\n",
              "      <td>1.0</td>\n",
              "      <td>0.0</td>\n",
              "      <td>0.0</td>\n",
              "      <td>0.0</td>\n",
              "      <td>0.0</td>\n",
              "      <td>0.0</td>\n",
              "      <td>0.0</td>\n",
              "      <td>0.0</td>\n",
              "      <td>0.0</td>\n",
              "      <td>0.0</td>\n",
              "      <td>1.0</td>\n",
              "      <td>0.0</td>\n",
              "      <td>1.0</td>\n",
              "      <td>0.0</td>\n",
              "      <td>0.0</td>\n",
              "      <td>0.0</td>\n",
              "      <td>0.0</td>\n",
              "      <td>0.0</td>\n",
              "      <td>0.0</td>\n",
              "      <td>0.0</td>\n",
              "      <td>1997.0</td>\n",
              "      <td>177.94</td>\n",
              "      <td>-0.569478</td>\n",
              "      <td>1.598590</td>\n",
              "      <td>1.070427</td>\n",
              "      <td>0.942970</td>\n",
              "      <td>-1.099300</td>\n",
              "      <td>537000.0</td>\n",
              "    </tr>\n",
              "    <tr>\n",
              "      <th>12310</th>\n",
              "      <td>4.0</td>\n",
              "      <td>1.0</td>\n",
              "      <td>1.0</td>\n",
              "      <td>362.0</td>\n",
              "      <td>135.60976</td>\n",
              "      <td>1.0</td>\n",
              "      <td>0.0</td>\n",
              "      <td>0.0</td>\n",
              "      <td>0.0</td>\n",
              "      <td>0.0</td>\n",
              "      <td>0.0</td>\n",
              "      <td>1.0</td>\n",
              "      <td>0.0</td>\n",
              "      <td>0.0</td>\n",
              "      <td>0.0</td>\n",
              "      <td>0.0</td>\n",
              "      <td>0.0</td>\n",
              "      <td>0.0</td>\n",
              "      <td>0.0</td>\n",
              "      <td>1.0</td>\n",
              "      <td>0.0</td>\n",
              "      <td>1.0</td>\n",
              "      <td>0.0</td>\n",
              "      <td>0.0</td>\n",
              "      <td>0.0</td>\n",
              "      <td>0.0</td>\n",
              "      <td>0.0</td>\n",
              "      <td>0.0</td>\n",
              "      <td>0.0</td>\n",
              "      <td>1920.0</td>\n",
              "      <td>112.00</td>\n",
              "      <td>0.951815</td>\n",
              "      <td>-0.070313</td>\n",
              "      <td>0.426215</td>\n",
              "      <td>-0.420300</td>\n",
              "      <td>-0.419926</td>\n",
              "      <td>1848000.0</td>\n",
              "    </tr>\n",
              "  </tbody>\n",
              "</table>\n",
              "<p>12311 rows × 37 columns</p>\n",
              "</div>"
            ],
            "text/plain": [
              "       Rooms  Bathroom  Car  ...  Componente4  Componente5      Price\n",
              "0        2.0       1.0  1.0  ...     0.017831    -0.033764  1480000.0\n",
              "1        2.0       1.0  0.0  ...    -0.592243     0.127163  1035000.0\n",
              "2        3.0       2.0  0.0  ...    -1.831404     0.626473  1465000.0\n",
              "3        3.0       2.0  1.0  ...    -0.911272     0.306118   850000.0\n",
              "4        4.0       1.0  2.0  ...     0.410806    -0.027681  1600000.0\n",
              "...      ...       ...  ...  ...          ...          ...        ...\n",
              "12306    3.0       2.0  2.0  ...    -0.463924     0.610993   512000.0\n",
              "12307    4.0       2.0  2.0  ...    -0.811260    -0.185345  1502000.0\n",
              "12308    3.0       2.0  2.0  ...    -0.199852    -0.811923   965000.0\n",
              "12309    3.0       2.0  4.0  ...     0.942970    -1.099300   537000.0\n",
              "12310    4.0       1.0  1.0  ...    -0.420300    -0.419926  1848000.0\n",
              "\n",
              "[12311 rows x 37 columns]"
            ]
          },
          "metadata": {
            "tags": []
          },
          "execution_count": 76
        }
      ]
    },
    {
      "cell_type": "code",
      "metadata": {
        "colab": {
          "base_uri": "https://localhost:8080/"
        },
        "id": "Suo1fnknoca3",
        "outputId": "640d85d6-f5fd-4eff-d598-9d5dc960a96d"
      },
      "source": [
        "try:\n",
        "  from google.colab import drive\n",
        "  drive.mount('drive')\n",
        "  df_fin.to_csv('melb_df_parte2.csv', index = False)\n",
        "  !cp melb_df_parte2.csv \"drive/My Drive/Diplomatura de Ciencia de Datos/GRuPO 17/Analisis y curacion/Entregables/\"\n",
        "except:\n",
        "  df_fin.to_csv('E:\\Documentos\\GitHub\\Grupo17-Analisis-y-Curacion\\Entregables_Resueltos\\melb_df_parte2.csv')"
      ],
      "execution_count": 78,
      "outputs": [
        {
          "output_type": "stream",
          "text": [
            "Go to this URL in a browser: https://accounts.google.com/o/oauth2/auth?client_id=947318989803-6bn6qk8qdgf4n4g3pfee6491hc0brc4i.apps.googleusercontent.com&redirect_uri=urn%3aietf%3awg%3aoauth%3a2.0%3aoob&scope=email%20https%3a%2f%2fwww.googleapis.com%2fauth%2fdocs.test%20https%3a%2f%2fwww.googleapis.com%2fauth%2fdrive%20https%3a%2f%2fwww.googleapis.com%2fauth%2fdrive.photos.readonly%20https%3a%2f%2fwww.googleapis.com%2fauth%2fpeopleapi.readonly%20https%3a%2f%2fwww.googleapis.com%2fauth%2fdrive.activity.readonly%20https%3a%2f%2fwww.googleapis.com%2fauth%2fexperimentsandconfigs%20https%3a%2f%2fwww.googleapis.com%2fauth%2fphotos.native&response_type=code\n",
            "\n",
            "Enter your authorization code:\n",
            "\n"
          ],
          "name": "stdout"
        }
      ]
    },
    {
      "cell_type": "markdown",
      "metadata": {
        "id": "lrkF1Osq3CLz"
      },
      "source": [
        " ## Ejercicio 5: Documentación "
      ]
    },
    {
      "cell_type": "markdown",
      "metadata": {
        "id": "Rn2kEdGNlKpy"
      },
      "source": [
        "\n",
        "En un documento `.pdf` o `.md` realizar un reporte de las operaciones que realizaron para obtener el conjunto de datos final. Se debe incluir:\n",
        "  1. Criterios de exclusión (o inclusión) de filas\n",
        "  2. Interpretación de las columnas presentes\n",
        "  2. Todas las transofrmaciones realizadas\n",
        " \n",
        "Este documento es de uso técnico exclusivamente, y su objetivo es permitir que otres desarrolladores puedan reproducir los mismos pasos y obtener el mismo resultado. Debe ser detallado pero consiso. \n"
      ]
    },
    {
      "cell_type": "markdown",
      "metadata": {
        "id": "kZBfcOd8uCe9"
      },
      "source": [
        "\n",
        "Resultado:\n",
        " \n",
        "```\n",
        " ## Criterios de exclusión de ejemplos\n",
        "  1. Se eliminaron ejemplos donde el precio fuera superior a 2.352.362,5 AUD\n",
        "  2. Se eliminan ejemplos donde el año de construcción es previo a 1876\n",
        "  3. Se eliminaron las filas dónde landsize es mayor a 1360.5\n",
        "  4. Se eliminaron las filas dónde Building Area era mayor a 276\n",
        "  5. Se Fija valor máximo de Rooms en 6, asignando este valor a las propiedades con más de 6, debido a la baja frecuencia de estos datos\n",
        "  6. Se Fija valor máximo de Bathrooms en 4,asignando este valor a las propiedades con más de 4, debido a la baja frecuencia de estos datos\n",
        "  7. Se Fija valor máximo de Bathrooms en 4,asignando este valor a las propiedades con más de 4, debido a la baja frecuencia de estos datos\n",
        "  8. En la variable Bathroom Se asigno 1 a todas las propiedades en los que este valor era 0.\n",
        "  9. En la variable Car Se asigno 0 a todas las propiedades en los que este valor era nan.\n",
        " 10. En la variable Car Se Fija valor máximo de Bathrooms en 5,asignando este valor a las propiedades con más de 5, debido a la baja frecuencia de estos datos.\n",
        "\n",
        "## Criterios de exclusión de variables\n",
        " 1. Se elimina la columna Bedroom2, por su alta correlación con rooms, su dudosa procedencia y no aporte de nueva información\n",
        " 2. Se elimina la columna Address, por se variable categorica de muchas categorias, existiendo otras variables de ubicación mejores.\n",
        " 3. Se elimina la columna Distance, por su baja correlación con Price.\n",
        " 4. Se elimina la columna Propertycount, por su baja correlación con Price.\n",
        " 5. Se elimina la columna SellerG, por sus multiples valores posibles y porque el nombre del vendedor no nos parece relevante en la prediccion de precios\n",
        " 6. Se elimina la columna Date, porque la serie de tiempo es Estacionaria.\n",
        " 7. No se utiliza la columna CouncilArea, por sus más de 30 categorias que al intentar agrupar para que queden 15, la columna de otros se vuelve la más frecuente.\n",
        " 8. No se utiliza la columna Suburb, por la misma razón que Council Area\n",
        "\n",
        "\n",
        "## Características seleccionadas\n",
        "\n",
        "### Características categóricas\n",
        "  1. Type: tipo de propiedad. 3 valores posibles.\n",
        "  2. Method: metodo de venta . 5 valores posibles.\n",
        "  3. Regionname: nombre de la region donde se encuentra la propiedad.8 valores posibles.\n",
        "  4. PostCode_agrupado: Se separo a los postcode agrupandolos en 8 categorias.Desde 3000 a 3999.\n",
        "  5. Todas las características categóricas fueron codificadas con un\n",
        "  método OneHotEncoding utilizando todos sus valores, ya que no superan los 24 valores en total\n",
        " \n",
        "### Características numéricas\n",
        "  1. Rooms: Cantidad de habitaciones\n",
        "  2. Bathroom: Cantidad de Baños de la propiedad\n",
        "  3. Car: Cantidad de espacios para los vehiculos\n",
        "  4. Airbnb_Price: Se agrega el precio promedio diario de \n",
        "     publicaciones de la plataforma AirBnB en el mismo código \n",
        "     postal y en caso de no tener conicidecias se establecio un criterio de cuadricula\n",
        "     pasando coordenadas en lat, long a utm y dividiendo la cuadricula en 20 x 20,dando como resultados cuadros de 4,824km por 4,198km-\n",
        " 5.Landsize: el tamaño de la propiedad.\n",
        " 6.Precio: Precio de la propiedad, No se usa para imputar valores, ni para el calculo de las componentes, ya que el fin de todo es poder predecir precios\n",
        " 7.YearBuilt: Año de construcción de la propiedad\n",
        " 8.BuildingArea: Superficie de la propiedad\n",
        " \n",
        "### Transformaciones:\n",
        "  1. Todas las características numéricas fueron escaladas\n",
        "  2. Las columnas `YearBuilt` y `BuildingArea` fueron imputadas utilizando el \n",
        "     algoritmo KNN, con n=5 (La columna `Price` no fue utilizada)\n",
        "  4.Luego para reducir la dimensionalidad con el metodo de PCA, se realizo una estandarización (La columna `Price` no fue utilizada)\n",
        " \n",
        "### Datos aumentados\n",
        "  1. Se agregan las 5 primeras columnas obtenidas a través del\n",
        "     método de PCA, aplicado sobre el conjunto de datos\n",
        "     totalmente procesado.(La columna `Price` no fue utilizada)\n",
        "```"
      ]
    }
  ]
}